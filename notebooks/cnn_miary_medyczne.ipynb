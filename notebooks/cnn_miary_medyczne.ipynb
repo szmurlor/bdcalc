{
 "cells": [
  {
   "cell_type": "code",
   "execution_count": 90,
   "metadata": {},
   "outputs": [],
   "source": [
    "import numpy as np\n",
    "import pydicom as dicom\n",
    "import matplotlib.pyplot as plt\n",
    "from ipywidgets import interact\n",
    "import json\n",
    "import scipy.interpolate"
   ]
  },
  {
   "cell_type": "code",
   "execution_count": 3,
   "metadata": {},
   "outputs": [],
   "source": [
    "import sys\n",
    "sys.path.insert(0, \"../src\")\n"
   ]
  },
  {
   "cell_type": "code",
   "execution_count": 4,
   "metadata": {},
   "outputs": [],
   "source": [
    "import bdfileutils as bdf"
   ]
  },
  {
   "cell_type": "code",
   "execution_count": 6,
   "metadata": {},
   "outputs": [],
   "source": [
    "rois = bdf.read_ndarray('E:\\\\sim4\\\\1271374\\\\output_18\\\\rois_marks_mapped_to_max.nparray')"
   ]
  },
  {
   "cell_type": "code",
   "execution_count": 20,
   "metadata": {},
   "outputs": [
    {
     "data": {
      "text/plain": [
       "(165, 179, 261)"
      ]
     },
     "execution_count": 20,
     "metadata": {},
     "output_type": "execute_result"
    }
   ],
   "source": [
    "rois.shape"
   ]
  },
  {
   "cell_type": "code",
   "execution_count": 9,
   "metadata": {},
   "outputs": [
    {
     "data": {
      "application/vnd.jupyter.widget-view+json": {
       "model_id": "99ae6eff1a40441e880f62de05ff7888",
       "version_major": 2,
       "version_minor": 0
      },
      "text/plain": [
       "interactive(children=(IntSlider(value=82, description='z', max=165), Output()), _dom_classes=('widget-interact…"
      ]
     },
     "metadata": {},
     "output_type": "display_data"
    }
   ],
   "source": [
    "@interact(z=(0,doses.shape[0]))\n",
    "def f(z):\n",
    "    plt.imshow(doses[z,:,:])"
   ]
  },
  {
   "cell_type": "code",
   "execution_count": 8,
   "metadata": {},
   "outputs": [],
   "source": [
    "doses = bdf.read_ndarray('E:\\\\sim4\\\\1271374\\\\output_18\\\\doses_to_max.nparray', dtype=np.float32)"
   ]
  },
  {
   "cell_type": "code",
   "execution_count": 32,
   "metadata": {},
   "outputs": [
    {
     "data": {
      "text/plain": [
       "(165, 179, 261)"
      ]
     },
     "execution_count": 32,
     "metadata": {},
     "output_type": "execute_result"
    }
   ],
   "source": [
    "doses.shape"
   ]
  },
  {
   "cell_type": "code",
   "execution_count": 63,
   "metadata": {},
   "outputs": [],
   "source": [
    "rois_or = bdf.read_ndarray('E:\\\\sim4\\\\1271374\\\\output_18\\\\rois_marks_original.nparray', dtype=np.int32)"
   ]
  },
  {
   "cell_type": "code",
   "execution_count": 115,
   "metadata": {},
   "outputs": [
    {
     "data": {
      "application/vnd.jupyter.widget-view+json": {
       "model_id": "fcfa70bd2d254fbabecab5cc17825e9b",
       "version_major": 2,
       "version_minor": 0
      },
      "text/plain": [
       "interactive(children=(IntSlider(value=82, description='z', max=165), IntSlider(value=32, description='r', max=…"
      ]
     },
     "metadata": {},
     "output_type": "display_data"
    }
   ],
   "source": [
    "@interact(z=(0,rois.shape[0]), r=(0,64))\n",
    "def f(z,r):\n",
    "    d = np.array(rois_or[z,:,:])\n",
    "    #print(d.dtype)\n",
    "    d1 = np.bitwise_and(d,  2**r) == 2**r\n",
    "    dd = np.copy(doses[z,:,:])\n",
    "    dd[np.logical_not(d1)] = 0\n",
    "    dv = dd[d1]\n",
    "    if (dv.shape[0] > 0):\n",
    "        print(np.min(dv))\n",
    "        print(np.max(dv))\n",
    "        print(np.mean(dv))\n",
    "\n",
    "    plt.imshow(dd)"
   ]
  },
  {
   "cell_type": "code",
   "execution_count": 98,
   "metadata": {},
   "outputs": [
    {
     "data": {
      "text/plain": [
       "array([[0, 2],\n",
       "       [2, 0]], dtype=int32)"
      ]
     },
     "execution_count": 98,
     "metadata": {},
     "output_type": "execute_result"
    }
   ],
   "source": [
    "a = np.array([[1,2],[3,4]])\n",
    "np.bitwise_and(a, 2)"
   ]
  },
  {
   "cell_type": "code",
   "execution_count": 99,
   "metadata": {},
   "outputs": [
    {
     "data": {
      "text/plain": [
       "['JSONDecodeError',\n",
       " 'JSONDecoder',\n",
       " 'JSONEncoder',\n",
       " '__all__',\n",
       " '__author__',\n",
       " '__builtins__',\n",
       " '__cached__',\n",
       " '__doc__',\n",
       " '__file__',\n",
       " '__loader__',\n",
       " '__name__',\n",
       " '__package__',\n",
       " '__path__',\n",
       " '__spec__',\n",
       " '__version__',\n",
       " '_default_decoder',\n",
       " '_default_encoder',\n",
       " 'codecs',\n",
       " 'decoder',\n",
       " 'detect_encoding',\n",
       " 'dump',\n",
       " 'dumps',\n",
       " 'encoder',\n",
       " 'load',\n",
       " 'loads',\n",
       " 'scanner']"
      ]
     },
     "execution_count": 99,
     "metadata": {},
     "output_type": "execute_result"
    }
   ],
   "source": [
    "dir(json)"
   ]
  },
  {
   "cell_type": "code",
   "execution_count": 102,
   "metadata": {},
   "outputs": [
    {
     "data": {
      "text/plain": [
       "{'from_folder': 'C:\\\\Users\\\\szmurlor\\\\Nextcloud\\\\Nauka\\\\BIOTECHMED\\\\biotechmed\\\\dane_2020.12\\\\Grudzien',\n",
       " 'subfolder_name': '1271374',\n",
       " 'plan_label': 'PIERS L SO',\n",
       " 'patient_id': '1271374',\n",
       " 'piers': True,\n",
       " 'blizna': False,\n",
       " 'wezly': False,\n",
       " 'prawa': False,\n",
       " 'lewa': True,\n",
       " 'rois': {'Patient Outline': 1,\n",
       "  'boost': 2,\n",
       "  'boost PTV': 3,\n",
       "  'ctv': 4,\n",
       "  'naczynia wienc.': 5,\n",
       "  'piers': 6,\n",
       "  'piers PTV': 7,\n",
       "  'ptv': 8,\n",
       "  'wezly all': 9,\n",
       "  'wezly all PTV': 10,\n",
       "  'pluco L': 11,\n",
       "  'pluco P': 12,\n",
       "  'serce': 13,\n",
       "  'suma pluc': 14,\n",
       "  'piers PTV-plan': 18,\n",
       "  'przelyk': 54,\n",
       "  'zz_zdrowa piers': 42,\n",
       "  'zz_2000': 46,\n",
       "  'ptv-boost-plan': 26,\n",
       "  'ptv-piers-plan': 27,\n",
       "  'zz_zdrowe1': 29,\n",
       "  'zz_zdrowe2': 31,\n",
       "  'zz_ptv': 34,\n",
       "  'zz_obwarz.': 37,\n",
       "  'zz_boost': 38,\n",
       "  'zz_ptv rozszerz.': 39,\n",
       "  '_4500': 40,\n",
       "  'zz_fluenja': 41,\n",
       "  'zz_za 1': 44,\n",
       "  'zz_za 2': 45,\n",
       "  'zz_4815': 50,\n",
       "  'zz_sercr': 49,\n",
       "  'kanal kreg.+5mm': 53,\n",
       "  'kanal kreg.': 52,\n",
       "  'gl.kosci ram.': 51,\n",
       "  'CouchSurface1': 55,\n",
       "  'CouchInterior1': 56},\n",
       " 'unmatched_rois': 'Missing: 14'}"
      ]
     },
     "execution_count": 102,
     "metadata": {},
     "output_type": "execute_result"
    }
   ],
   "source": [
    "with open(\"E:\\\\sim4\\\\1271374\\\\meta.json\") as f:\n",
    "    meta = json.load(f)\n",
    "meta"
   ]
  },
  {
   "cell_type": "code",
   "execution_count": 80,
   "metadata": {},
   "outputs": [
    {
     "name": "stdout",
     "output_type": "stream",
     "text": [
      "[[[0. 0. 0. ... 0. 0. 0.]\n",
      "  [0. 0. 0. ... 0. 0. 0.]\n",
      "  [0. 0. 0. ... 0. 0. 0.]\n",
      "  ...\n",
      "  [0. 0. 0. ... 0. 0. 0.]\n",
      "  [0. 0. 0. ... 0. 0. 0.]\n",
      "  [0. 0. 0. ... 0. 0. 0.]]\n",
      "\n",
      " [[0. 0. 0. ... 0. 0. 0.]\n",
      "  [0. 0. 0. ... 0. 0. 0.]\n",
      "  [0. 0. 0. ... 0. 0. 0.]\n",
      "  ...\n",
      "  [0. 0. 0. ... 0. 0. 0.]\n",
      "  [0. 0. 0. ... 0. 0. 0.]\n",
      "  [0. 0. 0. ... 0. 0. 0.]]\n",
      "\n",
      " [[0. 0. 0. ... 0. 0. 0.]\n",
      "  [0. 0. 0. ... 0. 0. 0.]\n",
      "  [0. 0. 0. ... 0. 0. 0.]\n",
      "  ...\n",
      "  [0. 0. 0. ... 0. 0. 0.]\n",
      "  [0. 0. 0. ... 0. 0. 0.]\n",
      "  [0. 0. 0. ... 0. 0. 0.]]\n",
      "\n",
      " ...\n",
      "\n",
      " [[0. 0. 0. ... 0. 0. 0.]\n",
      "  [0. 0. 0. ... 0. 0. 0.]\n",
      "  [0. 0. 0. ... 0. 0. 0.]\n",
      "  ...\n",
      "  [0. 0. 0. ... 0. 0. 0.]\n",
      "  [0. 0. 0. ... 0. 0. 0.]\n",
      "  [0. 0. 0. ... 0. 0. 0.]]\n",
      "\n",
      " [[0. 0. 0. ... 0. 0. 0.]\n",
      "  [0. 0. 0. ... 0. 0. 0.]\n",
      "  [0. 0. 0. ... 0. 0. 0.]\n",
      "  ...\n",
      "  [0. 0. 0. ... 0. 0. 0.]\n",
      "  [0. 0. 0. ... 0. 0. 0.]\n",
      "  [0. 0. 0. ... 0. 0. 0.]]\n",
      "\n",
      " [[0. 0. 0. ... 0. 0. 0.]\n",
      "  [0. 0. 0. ... 0. 0. 0.]\n",
      "  [0. 0. 0. ... 0. 0. 0.]\n",
      "  ...\n",
      "  [0. 0. 0. ... 0. 0. 0.]\n",
      "  [0. 0. 0. ... 0. 0. 0.]\n",
      "  [0. 0. 0. ... 0. 0. 0.]]]\n",
      "               Patient Outline [         1]: min=    0.00, max=   56.14, avg=    8.16, d99=    None\n",
      "                        blizna [         2]: min=   46.23, max=   56.14, avg=   51.60, d99=    None\n",
      "61046\n",
      "97.0088130262425\n",
      "0.4160796776201553\n",
      "0.4160796776201553\n",
      "0.4160796776201553\n",
      "                    blizna PTV [         4]: min=   39.63, max=   56.14, avg=   51.31, d99=    None\n",
      "                           ctv [         8]: min=   46.23, max=   56.14, avg=   51.65, d99=    None\n",
      "               naczynia wienc. [        16]: min=    3.30, max=   39.63, avg=    9.05, d99=    None\n",
      "77494\n",
      "97.38947531421788\n",
      "0.36002787312566137\n",
      "0.36002787312566137\n",
      "0.36002787312566137\n",
      "                           ptv [        32]: min=   39.63, max=   56.14, avg=   51.36, d99=    None\n",
      "                     wezly all [        64]: min=   49.53, max=   56.14, avg=   51.81, d99=    None\n",
      "20336\n",
      "98.84441384736428\n",
      "0.1426042486231314\n",
      "0.1426042486231314\n",
      "0.1426042486231314\n",
      "                 wezly all PTV [       128]: min=   39.63, max=   56.14, avg=   51.54, d99=    None\n",
      "                       pluco L [       256]: min=    0.00, max=   56.14, avg=   14.80, d99=    None\n",
      "               kanal kreg.+5mm [       512]: min=    0.00, max=   33.02, avg=    5.05, d99=    None\n",
      "                   kanal kreg. [      1024]: min=    0.00, max=   26.42, avg=    5.07, d99=    None\n",
      "                 gl.kosci ram. [      2048]: min=    0.00, max=   52.83, avg=   17.75, d99=    None\n",
      "                       pluco P [      4096]: min=    0.00, max=   33.02, avg=    4.06, d99=    None\n",
      "                       przelyk [      8192]: min=    0.00, max=   39.63, avg=    7.02, d99=    None\n",
      "                         serce [     16384]: min=    3.30, max=   42.93, avg=    7.01, d99=    None\n",
      "                     suma pluc [     32768]: min=    0.00, max=   56.14, avg=    6.29, d99=    None\n",
      "              watroba-fragment [     65536]: min=    0.00, max=   26.42, avg=    4.86, d99=    None\n",
      "                  CouchSurface [    131072]: min=    0.00, max=    0.00, avg=    0.00, d99=    None\n",
      "                 CouchInterior [    262144]: min=    0.00, max=    9.91, avg=    0.47, d99=    None\n",
      "65517\n",
      "99.68863043179633\n",
      "0.3907382816673535\n",
      "0.3907382816673535\n",
      "0.3907382816673535\n",
      "[[[0 0 0 ... 0 0 0]\n",
      "  [0 0 0 ... 0 0 0]\n",
      "  [0 0 0 ... 0 0 0]\n",
      "  ...\n",
      "  [0 0 0 ... 0 0 0]\n",
      "  [0 0 0 ... 0 0 0]\n",
      "  [0 0 0 ... 0 0 0]]\n",
      "\n",
      " [[0 0 0 ... 0 0 0]\n",
      "  [0 0 0 ... 0 0 0]\n",
      "  [0 0 0 ... 0 0 0]\n",
      "  ...\n",
      "  [0 0 0 ... 0 0 0]\n",
      "  [0 0 0 ... 0 0 0]\n",
      "  [0 0 0 ... 0 0 0]]\n",
      "\n",
      " [[0 0 0 ... 0 0 0]\n",
      "  [0 0 0 ... 0 0 0]\n",
      "  [0 0 0 ... 0 0 0]\n",
      "  ...\n",
      "  [0 0 0 ... 0 0 0]\n",
      "  [0 0 0 ... 0 0 0]\n",
      "  [0 0 0 ... 0 0 0]]\n",
      "\n",
      " ...\n",
      "\n",
      " [[0 0 0 ... 0 0 0]\n",
      "  [0 0 0 ... 0 0 0]\n",
      "  [0 0 0 ... 0 0 0]\n",
      "  ...\n",
      "  [0 0 0 ... 0 0 0]\n",
      "  [0 0 0 ... 0 0 0]\n",
      "  [0 0 0 ... 0 0 0]]\n",
      "\n",
      " [[0 0 0 ... 0 0 0]\n",
      "  [0 0 0 ... 0 0 0]\n",
      "  [0 0 0 ... 0 0 0]\n",
      "  ...\n",
      "  [0 0 0 ... 0 0 0]\n",
      "  [0 0 0 ... 0 0 0]\n",
      "  [0 0 0 ... 0 0 0]]\n",
      "\n",
      " [[0 0 0 ... 0 0 0]\n",
      "  [0 0 0 ... 0 0 0]\n",
      "  [0 0 0 ... 0 0 0]\n",
      "  ...\n",
      "  [0 0 0 ... 0 0 0]\n",
      "  [0 0 0 ... 0 0 0]\n",
      "  [0 0 0 ... 0 0 0]]]\n",
      "               Patient Outline [         1]: min=    0.00, max=   56.14, avg=    6.19, d99=    None\n",
      "                        blizna [         2]: min=   42.93, max=   52.83, avg=   50.77, d99=    None\n",
      "61046\n",
      "58.51161419257609\n",
      "0.01801919863709334\n",
      "0.01801919863709334\n",
      "0.01801919863709334\n",
      "                    blizna PTV [         4]: min=    0.00, max=   56.14, avg=   48.72, d99=    None\n",
      "                           ctv [         8]: min=   42.93, max=   52.83, avg=   50.81, d99=    None\n",
      "               naczynia wienc. [        16]: min=    3.30, max=   29.72, avg=    7.71, d99=    None\n",
      "77494\n",
      "58.02771827496323\n",
      "0.0154850698118564\n",
      "0.0154850698118564\n",
      "0.0154850698118564\n",
      "                           ptv [        32]: min=    0.00, max=   56.14, avg=   47.95, d99=    None\n",
      "                     wezly all [        64]: min=   42.93, max=   52.83, avg=   50.95, d99=    None\n",
      "20336\n",
      "58.41365066876475\n",
      "0.004917387883556255\n",
      "0.004917387883556255\n",
      "0.004917387883556255\n",
      "                 wezly all PTV [       128]: min=    0.00, max=   56.14, avg=   46.05, d99=    None\n",
      "                       pluco L [       256]: min=    0.00, max=   52.83, avg=   12.49, d99=    None\n",
      "               kanal kreg.+5mm [       512]: min=    0.00, max=   16.51, avg=    3.25, d99=    None\n",
      "                   kanal kreg. [      1024]: min=    0.00, max=   16.51, avg=    3.38, d99=    None\n",
      "                 gl.kosci ram. [      2048]: min=    0.00, max=   49.53, avg=   15.31, d99=    None\n",
      "                       pluco P [      4096]: min=    0.00, max=   29.72, avg=    3.53, d99=    None\n",
      "                       przelyk [      8192]: min=    0.00, max=   33.02, avg=    6.00, d99=    None\n",
      "                         serce [     16384]: min=    3.30, max=   39.63, avg=    5.50, d99=    None\n",
      "                     suma pluc [     32768]: min=    0.00, max=   52.83, avg=    5.42, d99=    None\n",
      "              watroba-fragment [     65536]: min=    0.00, max=   16.51, avg=    0.87, d99=    None\n",
      "                  CouchSurface [    131072]: min=    0.00, max=    0.00, avg=    0.00, d99=    None\n",
      "                 CouchInterior [    262144]: min=    0.00, max=    0.00, avg=    0.00, d99=    None\n",
      "65517\n",
      "65.6806630340217\n",
      "0.0015263214127630997\n",
      "0.0015263214127630997\n",
      "0.0015263214127630997\n"
     ]
    }
   ],
   "source": [
    "def calc_statistics(roi_file, doses_file, roi_bits_file, dtype):\n",
    "    rois = bdf.read_ndarray(roi_file, dtype=np.int64)\n",
    "    #doses = bdf.read_ndarray(doses_file, dtype=np.float32)\n",
    "    doses = bdf.read_ndarray(doses_file, dtype=dtype)\n",
    "    print(doses)\n",
    "    roi_bits = {}\n",
    "    with open(roi_bits_file) as f:\n",
    "        for line in f:\n",
    "            cols = line.split(\":\")\n",
    "            roi_bits[cols[0]] = int(cols[1])\n",
    "    \n",
    "    for k,r in roi_bits.items():\n",
    "        b = r\n",
    "        mask = np.bitwise_and(rois,b) == b \n",
    "        min = None\n",
    "        max = None\n",
    "        avg = None\n",
    "        d99 = None\n",
    "        if np.max(mask) > 0:\n",
    "            the = doses[mask]*upscale\n",
    "            min = np.min(the)\n",
    "            max = np.max(the)\n",
    "            avg = np.mean(the)\n",
    "            if \"ptv\" in k.lower():\n",
    "                vtotal = np.sum(mask)\n",
    "                print(vtotal)\n",
    "                print( np.sum( the > (max*0.85) ) /vtotal*100)\n",
    "                print( np.sum( the > (max*0.97) ) /vtotal*100)\n",
    "                print( np.sum( the > (max*0.98) ) /vtotal*100)\n",
    "                print( np.sum( the > (max*0.99) ) /vtotal*100)\n",
    "        \n",
    "        if not \"zz\" in k:\n",
    "            print(f\"{k:>30} [{b:>10}]: min={min:>8.2f}, max={max:>8.2f}, avg={avg:>8.2f}, d99={str(d99):>8}\")\n",
    "    \n",
    "\n",
    "calc_statistics('E:\\\\sim4\\\\1405662\\\\output_18\\\\rois_marks_original.nparray', \n",
    "                'E:\\\\sim4\\\\1405662\\\\output_18\\\\doses_to_max.nparray', \n",
    "                'E:\\\\sim4\\\\1405662\\\\output\\\\roi_mapping.txt',\n",
    "               dtype=np.float32)\n",
    "calc_statistics('E:\\\\sim4\\\\1405662\\\\output_18\\\\rois_marks_original.nparray', \n",
    "                'E:\\\\sim4\\\\1405662\\\\output_18_eval\\\\doses_array.nparray', \n",
    "                'E:\\\\sim4\\\\1405662\\\\output\\\\roi_mapping.txt',\n",
    "               dtype=np.uint8)"
   ]
  },
  {
   "cell_type": "code",
   "execution_count": 16,
   "metadata": {},
   "outputs": [],
   "source": [
    "rp = dicom.read_file(\"E:\\\\sim4\\\\1055960\\\\input\\dicom\\\\RP.1.2.246.352.221.49725322121190492443957764962291582634.dcm\")"
   ]
  },
  {
   "cell_type": "code",
   "execution_count": 40,
   "metadata": {},
   "outputs": [],
   "source": [
    "#rp"
   ]
  },
  {
   "cell_type": "code",
   "execution_count": 19,
   "metadata": {},
   "outputs": [],
   "source": [
    "max_dose = 1157741.0 * "
   ]
  },
  {
   "cell_type": "code",
   "execution_count": 20,
   "metadata": {},
   "outputs": [],
   "source": [
    "rd = dicom.read_file(\"E:\\\\sim4\\\\1055960\\\\input\\dicom\\\\RD.1.2.246.352.221.542089177777351026216379602659443064230.dcm\")"
   ]
  },
  {
   "cell_type": "code",
   "execution_count": 25,
   "metadata": {},
   "outputs": [
    {
     "data": {
      "text/plain": [
       "59.43786391665396"
      ]
     },
     "execution_count": 25,
     "metadata": {},
     "output_type": "execute_result"
    }
   ],
   "source": [
    "rd.DoseGridScaling * max_dose"
   ]
  },
  {
   "cell_type": "code",
   "execution_count": 29,
   "metadata": {},
   "outputs": [],
   "source": [
    "scale  = 18  / (rd.DoseGridScaling * max_dose)"
   ]
  },
  {
   "cell_type": "code",
   "execution_count": 32,
   "metadata": {},
   "outputs": [
    {
     "data": {
      "text/plain": [
       "16.353212177392102"
      ]
     },
     "execution_count": 32,
     "metadata": {},
     "output_type": "execute_result"
    }
   ],
   "source": [
    "54 * scale"
   ]
  },
  {
   "cell_type": "code",
   "execution_count": 85,
   "metadata": {},
   "outputs": [],
   "source": [
    "#upscale =  (rd.DoseGridScaling * max_dose) / 18\n",
    "upscale =  (rd.DoseGridScaling * max_dose) / 50"
   ]
  },
  {
   "cell_type": "code",
   "execution_count": 81,
   "metadata": {},
   "outputs": [
    {
     "name": "stdout",
     "output_type": "stream",
     "text": [
      "<PIL.PngImagePlugin.PngImageFile image mode=L size=261x179 at 0x165200EE248>\n"
     ]
    },
    {
     "data": {
      "text/plain": [
       "47"
      ]
     },
     "execution_count": 81,
     "metadata": {},
     "output_type": "execute_result"
    },
    {
     "data": {
      "image/png": "[encoded data removed]",
      "text/plain": [
       "<Figure size 432x288 with 1 Axes>"
      ]
     },
     "metadata": {
      "needs_background": "light"
     },
     "output_type": "display_data"
    }
   ],
   "source": [
    "import PIL\n",
    "pi = PIL.Image.open(\"E:\\\\sim4\\\\1055960\\\\output_50\\\\doses_to_max_pil\\\\pil_im_1055960_75.png\")\n",
    "print(pi)\n",
    "# = plt.imread(\"E:\\\\sim4\\\\1055960\\\\output_50\\\\doses_to_max_pil\\\\pil_im_1055960_75.png\")\n",
    "plt.imshow(pi)\n",
    "np.max(pi)"
   ]
  },
  {
   "cell_type": "code",
   "execution_count": 129,
   "metadata": {},
   "outputs": [
    {
     "name": "stdout",
     "output_type": "stream",
     "text": [
      "               Patient Outline [         1]: min=  0.00,max= 55.87,avg=  8.10,d99=  0.00,d98=  0.00,d95=  0.00\n",
      "                 wezly all PTV [         2]: min= 30.91,max= 51.12,avg= 44.59,d99= 38.27,d98= 38.79,d95= 40.34\n",
      "                     wezly all [         4]: min= 42.80,max= 47.55,avg= 44.95,d99=  0.00,d98=  0.00,d95=  0.00\n",
      "                     piers PTV [         8]: min=  0.00,max= 55.87,avg= 40.84,d99=  0.00,d98=  0.00,d95=  0.00\n",
      "                         piers [        16]: min= 30.91,max= 55.87,avg= 45.00,d99=  0.00,d98=  0.00,d95=  0.00\n",
      "                     boost PTV [        32]: min= 46.36,max= 55.87,avg= 53.52,d99= 48.26,d98= 49.03,d95= 50.30\n",
      "                         boost [        64]: min= 52.31,max= 55.87,avg= 54.34,d99=  0.00,d98=  0.00,d95=  0.00\n",
      "                     suma pluc [       128]: min=  0.00,max= 54.68,avg= 10.54,d99=  0.00,d98=  0.00,d95=  0.00\n",
      "                         serce [       256]: min=  1.19,max= 14.27,avg=  3.50,d99=  0.00,d98=  0.00,d95=  0.00\n",
      "                       przelyk [       512]: min=  1.19,max= 38.04,avg=  7.14,d99=  0.00,d98=  0.00,d95=  0.00\n",
      "                       pluco P [      1024]: min=  0.00,max= 54.68,avg= 13.36,d99=  0.00,d98=  0.00,d95=  0.00\n",
      "                       pluco L [      2048]: min=  0.00,max= 15.45,avg=  3.15,d99=  0.00,d98=  0.00,d95=  0.00\n",
      "                piers PTV-plan [      4096]: min= 33.29,max= 55.87,avg= 45.41,d99= 38.19,d98= 38.58,d95= 39.77\n",
      "               kanal kreg.+5mm [      8192]: min=  0.00,max= 30.91,avg=  3.61,d99=  0.00,d98=  0.00,d95=  0.00\n",
      "                   kanal kreg. [     16384]: min=  0.00,max= 16.64,avg=  3.47,d99=  0.00,d98=  0.00,d95=  0.00\n",
      "                 gl.kosci ram. [     32768]: min=  1.19,max= 45.17,avg= 13.82,d99=  0.00,d98=  0.00,d95=  0.00\n",
      "                boost PTV-plan [     65536]: min= 46.36,max= 55.87,avg= 53.52,d99= 48.26,d98= 49.03,d95= 50.30\n",
      "                  CouchSurface [    131072]: min=  0.00,max= 22.59,avg=  0.84,d99=  0.00,d98=  0.00,d95=  0.00\n",
      "                 CouchInterior [    262144]: min=  0.00,max=  5.94,avg=  0.29,d99=  0.00,d98=  0.00,d95=  0.00\n",
      "                      ptv-plan [  33554432]: min= 33.29,max= 55.87,avg= 45.16,d99= 38.21,d98= 38.63,d95= 39.91\n",
      "                         _4500 [  67108864]: min= 33.29,max= 49.93,avg= 44.39,d99=  0.00,d98=  0.00,d95=  0.00\n"
     ]
    }
   ],
   "source": [
    "from scipy.interpolate import interp1d\n",
    "def calc_statistics(roi_file, doses_file, roi_bits_file, dtype):\n",
    "    rois = bdf.read_ndarray(roi_file, dtype=np.int64)\n",
    "    #doses = bdf.read_ndarray(doses_file, dtype=np.float32)\n",
    "    doses = bdf.read_ndarray(doses_file, dtype=dtype)\n",
    "    roi_bits = {}\n",
    "    with open(roi_bits_file) as f:\n",
    "        for line in f:\n",
    "            cols = line.split(\":\")\n",
    "            roi_bits[cols[0]] = int(cols[1])\n",
    "    \n",
    "    for k,r in roi_bits.items():\n",
    "        b = r\n",
    "        mask = np.bitwise_and(rois,b) == b \n",
    "        min = None\n",
    "        max = None\n",
    "        avg = None\n",
    "        d99 = 0\n",
    "        d98 = 0\n",
    "        d95 = 0\n",
    "        if np.max(mask) > 0:\n",
    "            the = doses[mask]*upscale\n",
    "            min = np.min(the)\n",
    "            max = np.max(the)\n",
    "            avg = np.mean(the)\n",
    "            if \"ptv\" in k.lower():\n",
    "                vtotal = np.sum(mask)\n",
    "                #print(vtotal)\n",
    "                p60 = np.sum( the > (54*0.60) ) /vtotal*100\n",
    "                p70 = np.sum( the > (54*0.70) ) /vtotal*100\n",
    "                p80 = np.sum( the > (54*0.80) ) /vtotal*100\n",
    "                p85 = np.sum( the > (54*0.85) ) /vtotal*100\n",
    "                p88 = np.sum( the > (54*0.88) ) /vtotal*100\n",
    "                p92 = np.sum( the > (54*0.92) ) /vtotal*100\n",
    "                p94 = np.sum( the > (54*0.94) ) /vtotal*100\n",
    "                p99 = np.sum( the > (54*0.99) ) /vtotal*100\n",
    "                p100 = np.sum( the > (54*1) ) /vtotal*100\n",
    "                p102 = np.sum( the > (54*1.02) ) /vtotal*100\n",
    "                p105 = np.sum( the > (54*1.05) ) /vtotal*100\n",
    "                p110 = np.sum( the > (54*1.1) ) /vtotal*100\n",
    "                xk = [p60, p70, p80, p85, p88, p92, p94, p99, p100]\n",
    "                yk = [54*0.60, 54*0.70, 54*0.80, 54*0.85, 54*0.88, 54*0.92, 54*0.94, 54*0.99, 54]\n",
    "                #print(xk)\n",
    "                #print(yk)\n",
    "                cs = interp1d(xk,yk)\n",
    "                if p60 > 99:\n",
    "                    d99 = cs( 99)\n",
    "                    d98 = cs( 98)\n",
    "                    d95 = cs( 95)\n",
    "                #fig, ax = plt.subplots(figsize=(6.5, 4))\n",
    "                #ax.plot(xk, yk, 'o', label='data')\n",
    "                #print(np.arange(p80,p100-0.01,0.01))\n",
    "                #ax.plot(np.arange(p80,p100-0.01,0.01), cs(np.arange(p80,p100-0.01,0.01)), label='spline')\n",
    "                #plt.show()\n",
    "        \n",
    "        if not \"zz\" in k:\n",
    "            print(f\"{k:>30} [{b:>10}]: min={min:>6.2f},max={max:>6.2f},avg={avg:>6.2f},d99={d99:>6.2f},d98={d98:>6.2f},d95={d95:>6.2f}\")\n",
    "    \n",
    "\n",
    "calc_statistics('E:\\\\sim4\\\\1055960\\\\output_50\\\\rois_marks_original.nparray', \n",
    "                'E:\\\\sim4\\\\1055960\\\\output_50\\\\doses_to_max.nparray', \n",
    "                'E:\\\\sim4\\\\1055960\\\\output\\\\roi_mapping.txt',\n",
    "               dtype=np.float32)\n"
   ]
  }
 ],
 "metadata": {
  "kernelspec": {
   "display_name": "Python 3",
   "language": "python",
   "name": "python3"
  },
  "language_info": {
   "codemirror_mode": {
    "name": "ipython",
    "version": 3
   },
   "file_extension": ".py",
   "mimetype": "text/x-python",
   "name": "python",
   "nbconvert_exporter": "python",
   "pygments_lexer": "ipython3",
   "version": "3.7.7"
  }
 },
 "nbformat": 4,
 "nbformat_minor": 4
}
