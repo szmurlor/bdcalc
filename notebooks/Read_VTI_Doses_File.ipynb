{
 "cells": [
  {
   "cell_type": "code",
   "execution_count": 21,
   "id": "departmental-departure",
   "metadata": {},
   "outputs": [],
   "source": [
    "import vtk\n",
    "import numpy as np\n",
    "import matplotlib.pyplot as plt\n",
    "from vtk.util.numpy_support import vtk_to_numpy"
   ]
  },
  {
   "cell_type": "code",
   "execution_count": 38,
   "id": "comprehensive-momentum",
   "metadata": {},
   "outputs": [],
   "source": [
    "reader = vtk.vtkXMLImageDataReader()\n",
    "reader.SetFileName(\"/doses-nfs/sim/NIO_2021_04_02/output/npTotalDoses.vti\")\n",
    "reader.Update()\n",
    "image = reader.GetOutput()"
   ]
  },
  {
   "cell_type": "code",
   "execution_count": 37,
   "id": "female-coupon",
   "metadata": {},
   "outputs": [
    {
     "data": {
      "text/plain": [
       "(110, 56, 54)"
      ]
     },
     "execution_count": 37,
     "metadata": {},
     "output_type": "execute_result"
    }
   ],
   "source": [
    "dim = image.GetDimensions()\n",
    "dim"
   ]
  },
  {
   "cell_type": "code",
   "execution_count": 39,
   "id": "dangerous-forward",
   "metadata": {},
   "outputs": [],
   "source": [
    "doses = vtk_to_numpy(image.GetPointData().GetScalars())"
   ]
  },
  {
   "cell_type": "code",
   "execution_count": 45,
   "id": "attached-lucas",
   "metadata": {},
   "outputs": [
    {
     "data": {
      "text/plain": [
       "(332640,)"
      ]
     },
     "execution_count": 45,
     "metadata": {},
     "output_type": "execute_result"
    }
   ],
   "source": [
    "doses.shape"
   ]
  },
  {
   "cell_type": "code",
   "execution_count": 46,
   "id": "responsible-representative",
   "metadata": {},
   "outputs": [
    {
     "data": {
      "text/plain": [
       "(54, 56, 110)"
      ]
     },
     "execution_count": 46,
     "metadata": {},
     "output_type": "execute_result"
    }
   ],
   "source": [
    "# we have to invert the dimensions as vtk keeps then in x,y,z order, and NumPy uses z,y,x\n",
    "doses = np.reshape(doses, np.flip(dim))\n",
    "doses.shape"
   ]
  },
  {
   "cell_type": "code",
   "execution_count": 49,
   "id": "hairy-devices",
   "metadata": {},
   "outputs": [
    {
     "data": {
      "text/plain": [
       "<matplotlib.image.AxesImage at 0x7f31f5d6e250>"
      ]
     },
     "execution_count": 49,
     "metadata": {},
     "output_type": "execute_result"
    },
    {
     "data": {
      "image/png": "[encoded data removed]",
      "text/plain": [
       "<Figure size 432x288 with 1 Axes>"
      ]
     },
     "metadata": {
      "needs_background": "light"
     },
     "output_type": "display_data"
    }
   ],
   "source": [
    "plt.imshow(doses[33,:,:])"
   ]
  }
 ],
 "metadata": {
  "kernelspec": {
   "display_name": "Python 3",
   "language": "python",
   "name": "python3"
  },
  "language_info": {
   "codemirror_mode": {
    "name": "ipython",
    "version": 3
   },
   "file_extension": ".py",
   "mimetype": "text/x-python",
   "name": "python",
   "nbconvert_exporter": "python",
   "pygments_lexer": "ipython3",
   "version": "3.8.5"
  }
 },
 "nbformat": 4,
 "nbformat_minor": 5
}
