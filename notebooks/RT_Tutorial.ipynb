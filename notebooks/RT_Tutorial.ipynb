{
 "cells": [
  {
   "cell_type": "markdown",
   "metadata": {},
   "source": [
    "# RT - class tutorial\n",
    "Author: Robert Szmurło\n",
    "\n",
    "The RT class is designed to facilitiate the operations on RT (Radiotherapy data). The class assumes that the data is organized in teh following structure at some folder:\n",
    "\n",
    "```\n",
    "./input  - folder with all input data\n",
    "./input/dicom - folder with dicom files (the CT files, RS - ROI structure file, RP - plan file and RD - dose files are required)\n",
    "./processing\n",
    "./output\n",
    "```\n",
    "\n",
    "The class collects infomration about th eplanning grid from the RD (dose file).\n",
    "\n",
    "In the following tutorial we'll learn typical operations that can be run using the class.\n",
    "\n",
    "Assuming that you are starting the notebook in the `bdcalc/notebooks` folder. The first thing, we need to add PYTHONPATH to src folder and import the main RT class."
   ]
  },
  {
   "cell_type": "code",
   "execution_count": 49,
   "metadata": {},
   "outputs": [],
   "source": [
    "import sys\n",
    "import matplotlib.pyplot as plt\n",
    "import numpy as np\n",
    "from ipywidgets import interact\n",
    "sys.path.append(\"../src\")\n",
    "import bdcalc2.bdcalc2\n",
    "#from bdcalc2.bdcalc2 import RT"
   ]
  },
  {
   "cell_type": "code",
   "execution_count": 58,
   "metadata": {},
   "outputs": [
    {
     "data": {
      "text/plain": [
       "<module 'bdcalc2.bdcalc2' from '../src/bdcalc2/bdcalc2.py'>"
      ]
     },
     "execution_count": 58,
     "metadata": {},
     "output_type": "execute_result"
    }
   ],
   "source": [
    "import importlib\n",
    "importlib.reload(bdcalc2.bdcalc2)"
   ]
  },
  {
   "cell_type": "markdown",
   "metadata": {},
   "source": [
    "## Initialization\n",
    "\n",
    "To initialize the class you need to pass the folder with the data (the ./input/dicom/... is the most important)"
   ]
  },
  {
   "cell_type": "code",
   "execution_count": 59,
   "metadata": {},
   "outputs": [],
   "source": [
    "rt = bdcalc2.bdcalc2.RT(\"/doses-nfs/sim/HN_1\")"
   ]
  },
  {
   "cell_type": "markdown",
   "metadata": {},
   "source": [
    "## CT data visualization\n",
    "\n",
    "First we shall visualize some CT data. We will read the CT files and convert the images into three dimensional cube of voxels. Let we read the CT data and investigate its dimensions (these are the index coordinates).\n",
    "\n",
    "Please note, that the first dimension in the shape refers to the number of images - the Z coordinate, second to Y and last one to X."
   ]
  },
  {
   "cell_type": "code",
   "execution_count": 13,
   "metadata": {},
   "outputs": [
    {
     "data": {
      "text/plain": [
       "(400, 512, 512)"
      ]
     },
     "execution_count": 13,
     "metadata": {},
     "output_type": "execute_result"
    }
   ],
   "source": [
    "act = rt.get_ct()\n",
    "act.shape"
   ]
  },
  {
   "cell_type": "markdown",
   "metadata": {},
   "source": [
    "To get information about geometrical position and grid spacing we may issue the command:"
   ]
  },
  {
   "cell_type": "code",
   "execution_count": 52,
   "metadata": {},
   "outputs": [
    {
     "data": {
      "text/plain": [
       "(-30.0, -30.0, -21.25, 0.1171875, 0.1171875, 0.125, 512, 512, 400)"
      ]
     },
     "execution_count": 52,
     "metadata": {},
     "output_type": "execute_result"
    }
   ],
   "source": [
    "rt.get_ct_griddata()"
   ]
  },
  {
   "cell_type": "markdown",
   "metadata": {},
   "source": [
    "We can get the CT grid information as:"
   ]
  },
  {
   "cell_type": "code",
   "execution_count": 53,
   "metadata": {},
   "outputs": [
    {
     "name": "stdout",
     "output_type": "stream",
     "text": [
      "Origin of the gCT grid: (-30.0, -30.0, -21.25)\n",
      "Spacing of the CT grid: (0.1171875, 0.1171875, 0.125)\n",
      "Dimensions of the CT grid (nx,ny,nz): (512, 512, 400)\n",
      "Dimensions of the CT grid (nz,ny,nx): (400, 512, 512)\n"
     ]
    }
   ],
   "source": [
    "print(f\"Origin of the gCT grid: {rt.cto()}\") \n",
    "print(f\"Spacing of the CT grid: {rt.ctdx(),rt.ctdy(),rt.ctdz()}\") \n",
    "print(f\"Dimensions of the CT grid (nx,ny,nz): {rt.ctn()}\") \n",
    "print(f\"Dimensions of the CT grid (nz,ny,nx): {rt.ctn(inverted=True)}\") "
   ]
  },
  {
   "cell_type": "code",
   "execution_count": 60,
   "metadata": {},
   "outputs": [
    {
     "data": {
      "text/plain": [
       "(196, 134, 231)"
      ]
     },
     "execution_count": 60,
     "metadata": {},
     "output_type": "execute_result"
    }
   ],
   "source": [
    "planct = rt.get_ct(plan=True)\n",
    "planct.shape"
   ]
  },
  {
   "cell_type": "markdown",
   "metadata": {},
   "source": [
    "Now we are ready to visualiza the CT sampled over planning grid."
   ]
  },
  {
   "cell_type": "code",
   "execution_count": 61,
   "metadata": {},
   "outputs": [
    {
     "data": {
      "application/vnd.jupyter.widget-view+json": {
       "model_id": "f20fe48baade410c871ae6be4f49fde4",
       "version_major": 2,
       "version_minor": 0
      },
      "text/plain": [
       "interactive(children=(IntSlider(value=97, description='z', max=195), Output()), _dom_classes=('widget-interact…"
      ]
     },
     "metadata": {},
     "output_type": "display_data"
    }
   ],
   "source": [
    "@interact(z=(0,planct.shape[0]-1))\n",
    "def f(z):\n",
    "    fig,ax = plt.subplots(figsize=(16,9), dpi=50)\n",
    "    ax.imshow(planct[z,:,:])\n",
    "    fig.show()\n"
   ]
  },
  {
   "cell_type": "markdown",
   "metadata": {},
   "source": [
    "## Working with ROIs\n",
    "\n",
    "Now we are ready to view the ROI markers mapped on the voxels grid."
   ]
  },
  {
   "cell_type": "markdown",
   "metadata": {},
   "source": [
    "First, let we show the ROIs identified in the DICOM files and with assigned BIT number."
   ]
  },
  {
   "cell_type": "code",
   "execution_count": 63,
   "metadata": {},
   "outputs": [
    {
     "data": {
      "text/plain": [
       "{28: {'name': 'Brainstem+3mm', 'roi_bit': 1},\n",
       " 23: {'name': 'Mandible', 'roi_bit': 2},\n",
       " 20: {'name': 'Spinal Cord+3mm', 'roi_bit': 4},\n",
       " 19: {'name': 'Eye Globe R', 'roi_bit': 8},\n",
       " 18: {'name': 'Eye Globe L', 'roi_bit': 16},\n",
       " 17: {'name': 'ptv54', 'roi_bit': 32},\n",
       " 16: {'name': 'ctv54', 'roi_bit': 64},\n",
       " 15: {'name': 'Parotid Gland R', 'roi_bit': 128},\n",
       " 14: {'name': 'Parotid Gland L', 'roi_bit': 256},\n",
       " 12: {'name': 'Spinal Cord', 'roi_bit': 512},\n",
       " 11: {'name': 'ptv66', 'roi_bit': 1024},\n",
       " 10: {'name': 'ptv60', 'roi_bit': 2048},\n",
       " 8: {'name': 'Brainstem', 'roi_bit': 4096},\n",
       " 5: {'name': 'gtv6600', 'roi_bit': 8192},\n",
       " 3: {'name': 'ctv60', 'roi_bit': 16384},\n",
       " 1: {'name': 'Patient Outline', 'roi_bit': 32768},\n",
       " 29: {'name': 'NT', 'roi_bit': 65536},\n",
       " 34: {'name': 'pterygoid P', 'roi_bit': 131072},\n",
       " 33: {'name': 'pterygoid L', 'roi_bit': 262144},\n",
       " 32: {'name': 'Esophagus', 'roi_bit': 524288},\n",
       " 31: {'name': 'Larynx', 'roi_bit': 1048576},\n",
       " 30: {'name': 'Oral Cavity', 'roi_bit': 2097152}}"
      ]
     },
     "execution_count": 63,
     "metadata": {},
     "output_type": "execute_result"
    }
   ],
   "source": [
    "rt.get_rtss()"
   ]
  },
  {
   "cell_type": "code",
   "execution_count": 65,
   "metadata": {},
   "outputs": [
    {
     "data": {
      "text/plain": [
       "838860800"
      ]
     },
     "execution_count": 65,
     "metadata": {},
     "output_type": "execute_result"
    }
   ],
   "source": [
    "np.prod(rt.ctn())*8"
   ]
  },
  {
   "cell_type": "markdown",
   "metadata": {},
   "source": [
    "## Displaying ROI mapped over CT grid\n",
    "\n",
    "Warning! The first call of this function may take significant time as the voxel labeling is time consuming. The next time the method will use the cached data (be careful! the cache data takes a lot of disk space: `np.prod(rt.ctn())*8` space!)."
   ]
  },
  {
   "cell_type": "code",
   "execution_count": 69,
   "metadata": {},
   "outputs": [
    {
     "name": "stdout",
     "output_type": "stream",
     "text": [
      "Approximate size of cache file in 838.8608 MB\n"
     ]
    }
   ],
   "source": [
    "print(f\"Approximate size of cache file in {np.prod(rt.ctn())*8 / 1e6} MB\")"
   ]
  },
  {
   "cell_type": "code",
   "execution_count": 70,
   "metadata": {},
   "outputs": [
    {
     "data": {
      "text/plain": [
       "(400, 512, 512)"
      ]
     },
     "execution_count": 70,
     "metadata": {},
     "output_type": "execute_result"
    }
   ],
   "source": [
    "# this may take time to calculate for the first before the cached data is created in the ./processing folder\n",
    "rois_on_ct = rt.get_roi_labels_ct()\n",
    "rois_on_ct.shape"
   ]
  },
  {
   "cell_type": "code",
   "execution_count": 150,
   "metadata": {},
   "outputs": [
    {
     "data": {
      "text/plain": [
       "['Brainstem+3mm',\n",
       " 'Mandible',\n",
       " 'Spinal Cord+3mm',\n",
       " 'Eye Globe R',\n",
       " 'Eye Globe L',\n",
       " 'ptv54',\n",
       " 'ctv54',\n",
       " 'Parotid Gland R',\n",
       " 'Parotid Gland L',\n",
       " 'Spinal Cord',\n",
       " 'ptv66',\n",
       " 'ptv60',\n",
       " 'Brainstem',\n",
       " 'gtv6600',\n",
       " 'ctv60',\n",
       " 'Patient Outline',\n",
       " 'NT',\n",
       " 'pterygoid P',\n",
       " 'pterygoid L',\n",
       " 'Esophagus',\n",
       " 'Larynx',\n",
       " 'Oral Cavity']"
      ]
     },
     "metadata": {},
     "output_type": "display_data"
    }
   ],
   "source": [
    "display()\n"
   ]
  },
  {
   "cell_type": "code",
   "execution_count": 155,
   "metadata": {},
   "outputs": [
    {
     "data": {
      "application/vnd.jupyter.widget-view+json": {
       "model_id": "cb3ba90c771b4140935f6ddb0ed7e1c6",
       "version_major": 2,
       "version_minor": 0
      },
      "text/plain": [
       "interactive(children=(IntSlider(value=200, description='z', max=399), Dropdown(description='rn', index=15, opt…"
      ]
     },
     "metadata": {},
     "output_type": "display_data"
    }
   ],
   "source": [
    "from matplotlib import cm\n",
    "\n",
    "ct = rt.get_ct()\n",
    "rois_on_ct = rt.get_roi_labels_ct()\n",
    "\n",
    "palette = cm.get_cmap('tab20')\n",
    "\n",
    "\n",
    "@interact(z=(0,ct.shape[0]-1), rn=[n[1]['name'] for n in rt.get_rtss().items()])\n",
    "def f(z=ct.shape[0]//2, rn='Patient Outline'):\n",
    "    roi_bit = next(filter(lambda v: v[1][\"name\"] ==rn, rt.get_rtss().items()))[1][\"roi_bit\"]\n",
    "    fig,ax = plt.subplots(figsize=(16,9), dpi=100)\n",
    "    ax.imshow(ct[z,:,:], cmap='bone')\n",
    "    rm =  np.ma.masked_where(np.bitwise_and(rois_on_ct, roi_bit) != roi_bit, 2*np.ones(rois_on_ct.shape))[z,:,:]\n",
    "    #rm = (np.ma.masked_where( np.bitwise_and(rois_on_ct, 32768) == 32768, rois_on_ct / 32768))[z,:,:]\n",
    "    ax.imshow(rm,interpolation='nearest',\n",
    "              cmap=palette,\n",
    "              norm=colors.Normalize(vmin=0.0, vmax=20.0),\n",
    "              alpha=0.5)\n",
    "    fig.show()\n"
   ]
  },
  {
   "cell_type": "markdown",
   "metadata": {},
   "source": [
    "## Display rois on PLAN grid"
   ]
  },
  {
   "cell_type": "code",
   "execution_count": 159,
   "metadata": {},
   "outputs": [
    {
     "data": {
      "application/vnd.jupyter.widget-view+json": {
       "model_id": "c458120270ba4c61a0307cbd508410fe",
       "version_major": 2,
       "version_minor": 0
      },
      "text/plain": [
       "interactive(children=(IntSlider(value=98, description='z', max=195), Dropdown(description='rn', index=15, opti…"
      ]
     },
     "metadata": {},
     "output_type": "display_data"
    }
   ],
   "source": [
    "from matplotlib import cm\n",
    "\n",
    "planct = rt.get_ct(plan=True)\n",
    "rois_on_plan = rt.get_roi_labels_plan()\n",
    "\n",
    "palette = cm.get_cmap('tab20')\n",
    "\n",
    "@interact(z=(0,planct.shape[0]-1), rn=[n[1]['name'] for n in rt.get_rtss().items()])\n",
    "def f(z=planct.shape[0]//2, rn='Patient Outline'):\n",
    "    roi_bit = next(filter(lambda v: v[1][\"name\"] ==rn, rt.get_rtss().items()))[1][\"roi_bit\"]\n",
    "    fig,ax = plt.subplots(figsize=(16,9), dpi=100)\n",
    "    ax.imshow(planct[z,:,:], cmap='bone')\n",
    "    rm =  np.ma.masked_where(np.bitwise_and(rois_on_plan, roi_bit) != roi_bit, 2*np.ones(rois_on_plan.shape))[z,:,:]\n",
    "    ax.imshow(rm,interpolation='nearest',\n",
    "              cmap=palette,\n",
    "              norm=colors.Normalize(vmin=0.0, vmax=20.0),\n",
    "              alpha=0.5)\n",
    "    fig.show()\n"
   ]
  },
  {
   "cell_type": "code",
   "execution_count": 48,
   "metadata": {},
   "outputs": [
    {
     "data": {
      "text/plain": [
       "['__class__',\n",
       " '__delattr__',\n",
       " '__dict__',\n",
       " '__dir__',\n",
       " '__doc__',\n",
       " '__eq__',\n",
       " '__format__',\n",
       " '__ge__',\n",
       " '__getattribute__',\n",
       " '__gt__',\n",
       " '__hash__',\n",
       " '__init__',\n",
       " '__init_subclass__',\n",
       " '__le__',\n",
       " '__lt__',\n",
       " '__module__',\n",
       " '__ne__',\n",
       " '__new__',\n",
       " '__reduce__',\n",
       " '__reduce_ex__',\n",
       " '__repr__',\n",
       " '__setattr__',\n",
       " '__sizeof__',\n",
       " '__str__',\n",
       " '__subclasshook__',\n",
       " '__weakref__',\n",
       " '_ctdata_array',\n",
       " '_ctdata_plan_array',\n",
       " '_ctgriddata',\n",
       " '_find_dicoms',\n",
       " '_plangriddata',\n",
       " '_rdata_ct',\n",
       " '_rdata_plan',\n",
       " '_rtss',\n",
       " 'ct_x_range',\n",
       " 'ct_y_range',\n",
       " 'ct_z_range',\n",
       " 'ctd',\n",
       " 'ctdx',\n",
       " 'ctdy',\n",
       " 'ctdz',\n",
       " 'ctn',\n",
       " 'ctnx',\n",
       " 'ctny',\n",
       " 'ctnz',\n",
       " 'cto',\n",
       " 'ctox',\n",
       " 'ctoy',\n",
       " 'ctoz',\n",
       " 'dicom_files',\n",
       " 'get_ct',\n",
       " 'get_ct_griddata',\n",
       " 'get_plan_grid_points',\n",
       " 'get_plan_griddata',\n",
       " 'get_roi_labels_ct',\n",
       " 'get_roi_labels_plan',\n",
       " 'get_rtss',\n",
       " 'map_ctsopid',\n",
       " 'plan_z_range',\n",
       " 'pland',\n",
       " 'plandx',\n",
       " 'plandy',\n",
       " 'plandz',\n",
       " 'plann',\n",
       " 'plannx',\n",
       " 'planny',\n",
       " 'plannz',\n",
       " 'plano',\n",
       " 'planox',\n",
       " 'planoy',\n",
       " 'planoz',\n",
       " 'point2ct_idx',\n",
       " 'point2plan_idx',\n",
       " 'rd',\n",
       " 'read_ct',\n",
       " 'read_plan',\n",
       " 'roi_markers',\n",
       " 'sample_ct_over_plan']"
      ]
     },
     "execution_count": 48,
     "metadata": {},
     "output_type": "execute_result"
    }
   ],
   "source": [
    "dir(rt)"
   ]
  }
 ],
 "metadata": {
  "kernelspec": {
   "display_name": "Python 3",
   "language": "python",
   "name": "python3"
  },
  "language_info": {
   "codemirror_mode": {
    "name": "ipython",
    "version": 3
   },
   "file_extension": ".py",
   "mimetype": "text/x-python",
   "name": "python",
   "nbconvert_exporter": "python",
   "pygments_lexer": "ipython3",
   "version": "3.7.3"
  }
 },
 "nbformat": 4,
 "nbformat_minor": 2
}
