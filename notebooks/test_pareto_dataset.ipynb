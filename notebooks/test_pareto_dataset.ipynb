{
 "cells": [
  {
   "cell_type": "code",
   "execution_count": 1,
   "metadata": {},
   "outputs": [],
   "source": [
    "import numpy as np\n",
    "import matplotlib.pyplot as plt"
   ]
  },
  {
   "cell_type": "code",
   "execution_count": 2,
   "metadata": {},
   "outputs": [
    {
     "output_type": "stream",
     "name": "stdout",
     "text": [
      "Originalny folder: /home/szmurlor/src/bdcalc/notebooks\n/home/szmurlor/src/bdcalc/notebooks\n"
     ]
    }
   ],
   "source": [
    "import os\n",
    "print(f'Originalny folder: {os.getcwd()}')\n",
    "#os.chdir('c:/Projekty/sim/PARETO_5/input/dicom')\n",
    "print(os.getcwd())"
   ]
  },
  {
   "source": [
    "Tutaj trzeba ustawić folder gdzie znajduje się cały bdcalc (w linii komend trzebaby było zrobić `export PYTHONPATH=.`)"
   ],
   "cell_type": "markdown",
   "metadata": {}
  },
  {
   "cell_type": "code",
   "execution_count": 3,
   "metadata": {},
   "outputs": [
    {
     "output_type": "stream",
     "name": "stdout",
     "text": [
      "/home/szmurlor/src/bdcalc/src\n"
     ]
    }
   ],
   "source": [
    "# os.chdir('c:/Projekty/bdcalc/src')\n",
    "os.chdir('/home/szmurlor/src/bdcalc/src')\n",
    "print(os.getcwd())"
   ]
  },
  {
   "cell_type": "code",
   "execution_count": 13,
   "metadata": {},
   "outputs": [
    {
     "output_type": "stream",
     "name": "stdout",
     "text": [
      "Current working directory configuration OK.\n"
     ]
    }
   ],
   "source": [
    "# Tutaj tylko sprawdzam czy nic nie zwiodło i jesteśmy w folderze, w którym dostępny jest moduł 'Beamlets'\n",
    "import bd4cnn.bd4cnn\n",
    "if \"Beamlets\" in dir (bd4cnn.bd4cnn):\n",
    "    print(\"Current working directory configuration OK.\")\n",
    "else:\n",
    "    print(f\"ERROR! Current working directory configuration wrong: {os.getcwd()}\")\n",
    "    "
   ]
  },
  {
   "source": [
    "Tutaj trzeba podać przypadek, który chcemy przeliczyć."
   ],
   "cell_type": "markdown",
   "metadata": {}
  },
  {
   "cell_type": "code",
   "execution_count": 5,
   "metadata": {},
   "outputs": [],
   "source": [
    "#PATIENT_FOLDER=\"c:/Projekty/sim/PARETO_5\"\n",
    "PATIENT_FOLDER=\"/doses-nfs/sim/1419704\"\n",
    "PATIENT_FOLDER=\"/doses-nfs/sim/527029\""
   ]
  },
  {
   "cell_type": "code",
   "execution_count": 14,
   "metadata": {
    "tags": [
     "outputPrepend"
    ]
   },
   "outputs": [
    {
     "output_type": "stream",
     "name": "stderr",
     "text": [
      "M\n",
      "INFO:bdcalc:Reading contours for blizna from DICOM\n",
      "dz spacing: 0.30000000000000004 \n",
      "dz spacing: 0.30000000000000004 \n",
      "dz spacing: 0.30000000000000004 \n",
      "2020-12-30 17:42:41,316 - bdcalc - INFO - Reading contours for watroba-fragment from DICOM\n",
      "INFO:bdcalc:Reading contours for watroba-fragment from DICOM\n",
      "2020-12-30 17:42:41,337 - bdcalc - INFO - Reading contours for suma pluc from DICOM\n",
      "INFO:bdcalc:Reading contours for suma pluc from DICOM\n",
      "dz spacing: 0.30000000000000004 \n",
      "dz spacing: 0.30000000000000004 \n",
      "2020-12-30 17:42:41,660 - bdcalc - INFO - Reading contours for zz_srodek from DICOM\n",
      "INFO:bdcalc:Reading contours for zz_srodek from DICOM\n",
      "2020-12-30 17:42:41,849 - bdcalc - INFO - Reading contours for zz_ptv from DICOM\n",
      "INFO:bdcalc:Reading contours for zz_ptv from DICOM\n",
      "dz spacing: 0.30000000000000004 \n",
      "dz spacing: 0.30000000000000004 \n",
      "2020-12-30 17:42:42,088 - bdcalc - INFO - Reading contours for Ipsilat.lung from DICOM\n",
      "INFO:bdcalc:Reading contours for Ipsilat.lung from DICOM\n",
      "2020-12-30 17:42:42,269 - bdcalc - INFO - Reading contours for serce from DICOM\n",
      "INFO:bdcalc:Reading contours for serce from DICOM\n",
      "dz spacing: 0.30000000000000004 \n",
      "dz spacing: 0.30000000000000004 \n",
      "2020-12-30 17:42:42,323 - bdcalc - INFO - Reading contours for przelyk from DICOM\n",
      "INFO:bdcalc:Reading contours for przelyk from DICOM\n",
      "2020-12-30 17:42:42,362 - bdcalc - INFO - Reading contours for pluco P from DICOM\n",
      "INFO:bdcalc:Reading contours for pluco P from DICOM\n",
      "dz spacing: 0.30000000000000004 \n",
      "dz spacing: 0.30000000000000004 \n",
      "2020-12-30 17:42:42,687 - bdcalc - INFO - Reading contours for pluco L from DICOM\n",
      "INFO:bdcalc:Reading contours for pluco L from DICOM\n",
      "2020-12-30 17:42:42,826 - bdcalc - INFO - Reading contours for kanal kreg.+5mm from DICOM\n",
      "INFO:bdcalc:Reading contours for kanal kreg.+5mm from DICOM\n",
      "dz spacing: 0.30000000000000004 \n",
      "dz spacing: 0.30000000000000004 \n",
      "2020-12-30 17:42:42,931 - bdcalc - INFO - Reading contours for kanal kreg. from DICOM\n",
      "INFO:bdcalc:Reading contours for kanal kreg. from DICOM\n",
      "2020-12-30 17:42:43,008 - bdcalc - INFO - Reading contours for gl.kosci ram. from DICOM\n",
      "INFO:bdcalc:Reading contours for gl.kosci ram. from DICOM\n",
      "2020-12-30 17:42:43,025 - bdcalc - INFO - Reading contours for CouchSurface from DICOM\n",
      "INFO:bdcalc:Reading contours for CouchSurface from DICOM\n",
      "dz spacing: 0.30000000000000004 \n",
      "dz spacing: 0.30000000000000004 \n",
      "dz spacing: 0.30000000000000004 \n",
      "2020-12-30 17:42:44,508 - bdcalc - INFO - Reading contours for CouchInterior from DICOM\n",
      "INFO:bdcalc:Reading contours for CouchInterior from DICOM\n",
      "dz spacing: 0.30000000000000004 \n",
      "2020-12-30 17:42:45,045 - bdcalc - INFO - Reading contours for zz_zdrowa piers from DICOM\n",
      "INFO:bdcalc:Reading contours for zz_zdrowa piers from DICOM\n",
      "2020-12-30 17:42:45,197 - bdcalc - INFO - Reading contours for zz_zdrowe from DICOM\n",
      "INFO:bdcalc:Reading contours for zz_zdrowe from DICOM\n",
      "dz spacing: 0.30000000000000004 \n",
      "dz spacing: 0.30000000000000004 \n",
      "2020-12-30 17:42:46,311 - bdcalc - INFO - Reading contours for zz_obwarz. from DICOM\n",
      "INFO:bdcalc:Reading contours for zz_obwarz. from DICOM\n",
      "dz spacing: 0.30000000000000004 \n",
      "2020-12-30 17:42:46,525 - bdcalc - INFO - Reading contours for Contralat.lung from DICOM\n",
      "INFO:bdcalc:Reading contours for Contralat.lung from DICOM\n",
      "dz spacing: 0.30000000000000004 \n",
      "2020-12-30 17:42:46,982 - bdcalc - INFO - Reading contours for naczynia wienc. from DICOM\n",
      "INFO:bdcalc:Reading contours for naczynia wienc. from DICOM\n",
      "2020-12-30 17:42:47,070 - bdcalc - INFO - Read marking voxels for Patient Outline from cache\n",
      "INFO:bdcalc:Read marking voxels for Patient Outline from cache\n",
      "2020-12-30 17:42:47,118 - bdcalc - INFO - Read marking voxels for wezly all PTV from cache\n",
      "INFO:bdcalc:Read marking voxels for wezly all PTV from cache\n",
      "2020-12-30 17:42:47,140 - bdcalc - INFO - Read marking voxels for wezly all from cache\n",
      "INFO:bdcalc:Read marking voxels for wezly all from cache\n",
      "2020-12-30 17:42:47,169 - bdcalc - INFO - Read marking voxels for ptv from cache\n",
      "INFO:bdcalc:Read marking voxels for ptv from cache\n",
      "dz spacing: 0.30000000000000004 \n",
      "dz spacing: 0.30000000000000004 \n",
      "nint = 4489792\n",
      "nint = 4489792\n",
      "nint = 4489792\n",
      "nint = 4489792\n",
      "2020-12-30 17:42:47,200 - bdcalc - INFO - Read marking voxels for ctv from cache\n",
      "INFO:bdcalc:Read marking voxels for ctv from cache\n",
      "2020-12-30 17:42:47,225 - bdcalc - INFO - Read marking voxels for blizna PTV from cache\n",
      "INFO:bdcalc:Read marking voxels for blizna PTV from cache\n",
      "2020-12-30 17:42:47,250 - bdcalc - INFO - Read marking voxels for blizna from cache\n",
      "INFO:bdcalc:Read marking voxels for blizna from cache\n",
      "2020-12-30 17:42:47,273 - bdcalc - INFO - Read marking voxels for watroba-fragment from cache\n",
      "INFO:bdcalc:Read marking voxels for watroba-fragment from cache\n",
      "2020-12-30 17:42:47,302 - bdcalc - INFO - Read marking voxels for suma pluc from cache\n",
      "INFO:bdcalc:Read marking voxels for suma pluc from cache\n",
      "2020-12-30 17:42:47,332 - bdcalc - INFO - Read marking voxels for zz_srodek from cache\n",
      "INFO:bdcalc:Read marking voxels for zz_srodek from cache\n",
      "2020-12-30 17:42:47,359 - bdcalc - INFO - Read marking voxels for zz_ptv from cache\n",
      "INFO:bdcalc:Read marking voxels for zz_ptv from cache\n",
      "nint = 4489792\n",
      "nint = 4489792\n",
      "nint = 4489792\n",
      "nint = 4489792\n",
      "nint = 4489792\n",
      "nint = 4489792\n",
      "nint = 4489792\n",
      "nint = 4489792\n",
      "2020-12-30 17:42:47,390 - bdcalc - INFO - Read marking voxels for Ipsilat.lung from cache\n",
      "INFO:bdcalc:Read marking voxels for Ipsilat.lung from cache\n",
      "2020-12-30 17:42:47,422 - bdcalc - INFO - Read marking voxels for serce from cache\n",
      "INFO:bdcalc:Read marking voxels for serce from cache\n",
      "2020-12-30 17:42:47,453 - bdcalc - INFO - Read marking voxels for przelyk from cache\n",
      "INFO:bdcalc:Read marking voxels for przelyk from cache\n",
      "2020-12-30 17:42:47,484 - bdcalc - INFO - Read marking voxels for pluco P from cache\n",
      "INFO:bdcalc:Read marking voxels for pluco P from cache\n",
      "2020-12-30 17:42:47,518 - bdcalc - INFO - Read marking voxels for pluco L from cache\n",
      "INFO:bdcalc:Read marking voxels for pluco L from cache\n",
      "2020-12-30 17:42:47,546 - bdcalc - INFO - Read marking voxels for kanal kreg.+5mm from cache\n",
      "INFO:bdcalc:Read marking voxels for kanal kreg.+5mm from cache\n",
      "2020-12-30 17:42:47,573 - bdcalc - INFO - Read marking voxels for kanal kreg. from cache\n",
      "INFO:bdcalc:Read marking voxels for kanal kreg. from cache\n",
      "2020-12-30 17:42:47,599 - bdcalc - INFO - Read marking voxels for gl.kosci ram. from cache\n",
      "INFO:bdcalc:Read marking voxels for gl.kosci ram. from cache\n",
      "nint = 4489792\n",
      "nint = 4489792\n",
      "nint = 4489792\n",
      "nint = 4489792\n",
      "nint = 4489792\n",
      "nint = 4489792\n",
      "nint = 4489792\n",
      "2020-12-30 17:42:47,622 - bdcalc - INFO - Read marking voxels for CouchSurface from cache\n",
      "INFO:bdcalc:Read marking voxels for CouchSurface from cache\n",
      "2020-12-30 17:42:47,647 - bdcalc - INFO - Read marking voxels for CouchInterior from cache\n",
      "INFO:bdcalc:Read marking voxels for CouchInterior from cache\n",
      "2020-12-30 17:42:47,672 - bdcalc - INFO - Read marking voxels for zz_zdrowa piers from cache\n",
      "INFO:bdcalc:Read marking voxels for zz_zdrowa piers from cache\n",
      "2020-12-30 17:42:47,709 - bdcalc - INFO - Read marking voxels for zz_zdrowe from cache\n",
      "INFO:bdcalc:Read marking voxels for zz_zdrowe from cache\n",
      "2020-12-30 17:42:47,739 - bdcalc - INFO - Read marking voxels for zz_obwarz. from cache\n",
      "INFO:bdcalc:Read marking voxels for zz_obwarz. from cache\n",
      "2020-12-30 17:42:47,764 - bdcalc - INFO - Read marking voxels for Contralat.lung from cache\n",
      "INFO:bdcalc:Read marking voxels for Contralat.lung from cache\n",
      "2020-12-30 17:42:47,790 - bdcalc - INFO - Read marking voxels for naczynia wienc. from cache\n",
      "INFO:bdcalc:Read marking voxels for naczynia wienc. from cache\n",
      "2020-12-30 17:42:47,805 - bdcalc - INFO - Statistics for      Patient Outline: ID=       1, 1931870 voxels, vol= 37628.5 discrete vol= 36222.6 [cm3]\n",
      "INFO:bdcalc:Statistics for      Patient Outline: ID=       1, 1931870 voxels, vol= 37628.5 discrete vol= 36222.6 [cm3]\n",
      "2020-12-30 17:42:47,806 - bdcalc - INFO - Statistics for        wezly all PTV: ID=       2,   30099 voxels, vol=   495.0 discrete vol=   564.4 [cm3]\n",
      "INFO:bdcalc:Statistics for        wezly all PTV: ID=       2,   30099 voxels, vol=   495.0 discrete vol=   564.4 [cm3]\n",
      "2020-12-30 17:42:47,807 - bdcalc - INFO - Statistics for            wezly all: ID=       4,   18141 voxels, vol=   289.1 discrete vol=   340.1 [cm3]\n",
      "INFO:bdcalc:Statistics for            wezly all: ID=       4,   18141 voxels, vol=   289.1 discrete vol=   340.1 [cm3]\n",
      "2020-12-30 17:42:47,808 - bdcalc - INFO - Statistics for                  ptv: ID=       8,   89518 voxels, vol=  1494.6 discrete vol=  1678.5 [cm3]\n",
      "INFO:bdcalc:Statistics for                  ptv: ID=       8,   89518 voxels, vol=  1494.6 discrete vol=  1678.5 [cm3]\n",
      "2020-12-30 17:42:47,809 - bdcalc - INFO - Statistics for                  ctv: ID=      16,   57947 voxels, vol=   923.1 discrete vol=  1086.5 [cm3]\n",
      "INFO:bdcalc:Statistics for                  ctv: ID=      16,   57947 voxels, vol=   923.1 discrete vol=  1086.5 [cm3]\n",
      "2020-12-30 17:42:47,811 - bdcalc - INFO - Statistics for           blizna PTV: ID=      32,   62484 voxels, vol=  1038.4 discrete vol=  1171.6 [cm3]\n",
      "INFO:bdcalc:Statistics for           blizna PTV: ID=      32,   62484 voxels, vol=  1038.4 discrete vol=  1171.6 [cm3]\n",
      "nint = 4489792\n",
      "nint = 4489792\n",
      "nint = 4489792\n",
      "nint = 4489792\n",
      "nint = 4489792\n",
      "nint = 4489792\n",
      "nint = 4489792\n",
      "2020-12-30 17:42:47,812 - bdcalc - INFO - Statistics for               blizna: ID=      64,   39806 voxels, vol=   634.1 discrete vol=   746.4 [cm3]\n",
      "INFO:bdcalc:Statistics for               blizna: ID=      64,   39806 voxels, vol=   634.1 discrete vol=   746.4 [cm3]\n",
      "2020-12-30 17:42:47,813 - bdcalc - INFO - Statistics for     watroba-fragment: ID=     128,   11118 voxels, vol=   186.3 discrete vol=   208.5 [cm3]\n",
      "INFO:bdcalc:Statistics for     watroba-fragment: ID=     128,   11118 voxels, vol=   186.3 discrete vol=   208.5 [cm3]\n",
      "2020-12-30 17:42:47,814 - bdcalc - INFO - Statistics for            suma pluc: ID=     256,   85270 voxels, vol=  2413.4 discrete vol=  1598.8 [cm3]\n",
      "INFO:bdcalc:Statistics for            suma pluc: ID=     256,   85270 voxels, vol=  2413.4 discrete vol=  1598.8 [cm3]\n",
      "2020-12-30 17:42:47,815 - bdcalc - INFO - Statistics for            zz_srodek: ID=     512,   30141 voxels, vol=   478.4 discrete vol=   565.1 [cm3]\n",
      "INFO:bdcalc:Statistics for            zz_srodek: ID=     512,   30141 voxels, vol=   478.4 discrete vol=   565.1 [cm3]\n",
      "2020-12-30 17:42:47,816 - bdcalc - INFO - Statistics for               zz_ptv: ID=    1024,   39699 voxels, vol=  2855.3 discrete vol=   744.4 [cm3]\n",
      "INFO:bdcalc:Statistics for               zz_ptv: ID=    1024,   39699 voxels, vol=  2855.3 discrete vol=   744.4 [cm3]\n",
      "2020-12-30 17:42:47,817 - bdcalc - INFO - Statistics for         Ipsilat.lung: ID=    2048,   84090 voxels, vol=  1465.7 discrete vol=  1576.7 [cm3]\n",
      "INFO:bdcalc:Statistics for         Ipsilat.lung: ID=    2048,   84090 voxels, vol=  1465.7 discrete vol=  1576.7 [cm3]\n",
      "2020-12-30 17:42:47,818 - bdcalc - INFO - Statistics for                serce: ID=    4096,   62210 voxels, vol=  1087.1 discrete vol=  1166.4 [cm3]\n",
      "INFO:bdcalc:Statistics for                serce: ID=    4096,   62210 voxels, vol=  1087.1 discrete vol=  1166.4 [cm3]\n",
      "2020-12-30 17:42:47,819 - bdcalc - INFO - Statistics for              przelyk: ID=    8192,    2354 voxels, vol=    26.1 discrete vol=    44.1 [cm3]\n",
      "INFO:bdcalc:Statistics for              przelyk: ID=    8192,    2354 voxels, vol=    26.1 discrete vol=    44.1 [cm3]\n",
      "2020-12-30 17:42:47,822 - bdcalc - INFO - Statistics for              pluco P: ID=   16384,   84079 voxels, vol=  1465.9 discrete vol=  1576.5 [cm3]\n",
      "INFO:bdcalc:Statistics for              pluco P: ID=   16384,   84079 voxels, vol=  1465.9 discrete vol=  1576.5 [cm3]\n",
      "2020-12-30 17:42:47,823 - bdcalc - INFO - Statistics for              pluco L: ID=   32768,   57159 voxels, vol=   947.5 discrete vol=  1071.7 [cm3]\n",
      "INFO:bdcalc:Statistics for              pluco L: ID=   32768,   57159 voxels, vol=   947.5 discrete vol=  1071.7 [cm3]\n",
      "2020-12-30 17:42:47,824 - bdcalc - INFO - Statistics for      kanal kreg.+5mm: ID=   65536,   14947 voxels, vol=   215.9 discrete vol=   280.3 [cm3]\n",
      "INFO:bdcalc:Statistics for      kanal kreg.+5mm: ID=   65536,   14947 voxels, vol=   215.9 discrete vol=   280.3 [cm3]\n",
      "2020-12-30 17:42:47,825 - bdcalc - INFO - Statistics for          kanal kreg.: ID=  131072,    5692 voxels, vol=    69.5 discrete vol=   106.7 [cm3]\n",
      "INFO:bdcalc:Statistics for          kanal kreg.: ID=  131072,    5692 voxels, vol=    69.5 discrete vol=   106.7 [cm3]\n",
      "2020-12-30 17:42:47,827 - bdcalc - INFO - Statistics for        gl.kosci ram.: ID=  262144,    3514 voxels, vol=    53.9 discrete vol=    65.9 [cm3]\n",
      "INFO:bdcalc:Statistics for        gl.kosci ram.: ID=  262144,    3514 voxels, vol=    53.9 discrete vol=    65.9 [cm3]\n",
      "2020-12-30 17:42:47,828 - bdcalc - INFO - Statistics for         CouchSurface: ID=  524288,   30305 voxels, vol=     0.0 discrete vol=   568.2 [cm3]\n",
      "INFO:bdcalc:Statistics for         CouchSurface: ID=  524288,   30305 voxels, vol=     0.0 discrete vol=   568.2 [cm3]\n",
      "2020-12-30 17:42:47,829 - bdcalc - INFO - Statistics for        CouchInterior: ID= 1048576,   30450 voxels, vol= 13579.9 discrete vol=   570.9 [cm3]\n",
      "INFO:bdcalc:Statistics for        CouchInterior: ID= 1048576,   30450 voxels, vol= 13579.9 discrete vol=   570.9 [cm3]\n",
      "2020-12-30 17:42:47,830 - bdcalc - INFO - Statistics for      zz_zdrowa piers: ID= 2097152,  119139 voxels, vol=  2015.1 discrete vol=  2233.9 [cm3]\n",
      "INFO:bdcalc:Statistics for      zz_zdrowa piers: ID= 2097152,  119139 voxels, vol=  2015.1 discrete vol=  2233.9 [cm3]\n",
      "2020-12-30 17:42:47,831 - bdcalc - INFO - Statistics for            zz_zdrowe: ID= 4194304, 1737484 voxels, vol= 35854.3 discrete vol= 32577.8 [cm3]\n",
      "INFO:bdcalc:Statistics for            zz_zdrowe: ID= 4194304, 1737484 voxels, vol= 35854.3 discrete vol= 32577.8 [cm3]\n",
      "2020-12-30 17:42:47,832 - bdcalc - INFO - Statistics for           zz_obwarz.: ID= 8388608,   72372 voxels, vol=  2202.6 discrete vol=  1357.0 [cm3]\n",
      "INFO:bdcalc:Statistics for           zz_obwarz.: ID= 8388608,   72372 voxels, vol=  2202.6 discrete vol=  1357.0 [cm3]\n",
      "2020-12-30 17:42:47,835 - bdcalc - INFO - Statistics for       Contralat.lung: ID=16777216,   57173 voxels, vol=   947.2 discrete vol=  1072.0 [cm3]\n",
      "INFO:bdcalc:Statistics for       Contralat.lung: ID=16777216,   57173 voxels, vol=   947.2 discrete vol=  1072.0 [cm3]\n",
      "2020-12-30 17:42:47,836 - bdcalc - INFO - Statistics for      naczynia wienc.: ID=33554432,    9496 voxels, vol=   120.1 discrete vol=   178.1 [cm3]\n",
      "INFO:bdcalc:Statistics for      naczynia wienc.: ID=33554432,    9496 voxels, vol=   120.1 discrete vol=   178.1 [cm3]\n",
      "PLAAAAAAAAAAAAAAAAAAAAAAAAN Spacing: (0.25, 0.25, 0.30000000000000004)\n",
      "PLAAAAAAAAAAAAAAAAAAAAAAAAN Origin: (-31.45731593, -38.02203351, -40.150000000000006)\n",
      "GRIIIIIIIIIIIIIIIIIIIIIIIID Spacing: (1.6015625, 1.6015625, 1.5)\n",
      "GRIIIIIIIIIIIIIIIIIIIIIIIID Origin: (-409.19921875, -624.19921875, -401.5)\n",
      "Approximating CT (512 x 512 x 290) grid over Planning Grid (248 x 124 x 146) ...\n",
      "2020-12-30 17:42:51,893 - bdcalc - DEBUG - Created a long array with 4489792 points\n",
      "DEBUG:bdcalc:Created a long array with 4489792 points\n",
      "Patient Outline[1].size() = 1931870.0\n",
      "wezly all PTV[2].size() = 30099.0\n",
      "wezly all[4].size() = 18141.0\n",
      "ptv[8].size() = 89518.0\n",
      "ctv[16].size() = 57947.0\n",
      "blizna PTV[32].size() = 62484.0\n",
      "blizna[64].size() = 39806.0\n",
      "watroba-fragment[128].size() = 11118.0\n",
      "suma pluc[256].size() = 85270.0\n",
      "zz_srodek[512].size() = 30141.0\n",
      "zz_ptv[1024].size() = 39699.0\n",
      "Ipsilat.lung[2048].size() = 84090.0\n",
      "serce[4096].size() = 62210.0\n",
      "przelyk[8192].size() = 2354.0\n",
      "pluco P[16384].size() = 84079.0\n",
      "pluco L[32768].size() = 57159.0\n",
      "kanal kreg.+5mm[65536].size() = 14947.0\n",
      "kanal kreg.[131072].size() = 5692.0\n",
      "gl.kosci ram.[262144].size() = 3514.0\n",
      "CouchSurface[524288].size() = 30305.0\n",
      "CouchInterior[1048576].size() = 30450.0\n",
      "zz_zdrowa piers[2097152].size() = 119139.0\n",
      "zz_zdrowe[4194304].size() = 1737484.0\n",
      "INFO:bdfileutils:Saving ndarray data with dimensions (146, 124, 248) to file: /doses-nfs/sim/527029/output/approximated_ct.nparray\n",
      "INFO:bdfileutils:Saving ndarray data with dimensions (146, 124, 248) to file: /doses-nfs/sim/527029/output/roi_marks.nparray\n",
      "zz_obwarz.[8388608].size() = 72372.0\n",
      "Contralat.lung[16777216].size() = 57173.0\n",
      "naczynia wienc.[33554432].size() = 9496.0\n",
      "INFO:bdfileutils:Saving ndarray data with dimensions (146, 124, 248) to file: /doses-nfs/sim/527029/output/roi_marks_Patient Outline.nparray\n",
      "INFO:bdfileutils:Saving ndarray data with dimensions (146, 124, 248) to file: /doses-nfs/sim/527029/output/roi_marks_wezly all PTV.nparray\n",
      "INFO:bdfileutils:Saving ndarray data with dimensions (146, 124, 248) to file: /doses-nfs/sim/527029/output/roi_marks_wezly all.nparray\n",
      "INFO:bdfileutils:Saving ndarray data with dimensions (146, 124, 248) to file: /doses-nfs/sim/527029/output/roi_marks_ptv.nparray\n",
      "INFO:bdfileutils:Saving ndarray data with dimensions (146, 124, 248) to file: /doses-nfs/sim/527029/output/roi_marks_ctv.nparray\n",
      "INFO:bdfileutils:Saving ndarray data with dimensions (146, 124, 248) to file: /doses-nfs/sim/527029/output/roi_marks_blizna PTV.nparray\n",
      "INFO:bdfileutils:Saving ndarray data with dimensions (146, 124, 248) to file: /doses-nfs/sim/527029/output/roi_marks_blizna.nparray\n",
      "INFO:bdfileutils:Saving ndarray data with dimensions (146, 124, 248) to file: /doses-nfs/sim/527029/output/roi_marks_watroba-fragment.nparray\n",
      "INFO:bdfileutils:Saving ndarray data with dimensions (146, 124, 248) to file: /doses-nfs/sim/527029/output/roi_marks_suma pluc.nparray\n",
      "INFO:bdfileutils:Saving ndarray data with dimensions (146, 124, 248) to file: /doses-nfs/sim/527029/output/roi_marks_zz_srodek.nparray\n",
      "INFO:bdfileutils:Saving ndarray data with dimensions (146, 124, 248) to file: /doses-nfs/sim/527029/output/roi_marks_zz_ptv.nparray\n",
      "INFO:bdfileutils:Saving ndarray data with dimensions (146, 124, 248) to file: /doses-nfs/sim/527029/output/roi_marks_Ipsilat.lung.nparray\n",
      "INFO:bdfileutils:Saving ndarray data with dimensions (146, 124, 248) to file: /doses-nfs/sim/527029/output/roi_marks_serce.nparray\n",
      "INFO:bdfileutils:Saving ndarray data with dimensions (146, 124, 248) to file: /doses-nfs/sim/527029/output/roi_marks_przelyk.nparray\n",
      "INFO:bdfileutils:Saving ndarray data with dimensions (146, 124, 248) to file: /doses-nfs/sim/527029/output/roi_marks_pluco P.nparray\n",
      "INFO:bdfileutils:Saving ndarray data with dimensions (146, 124, 248) to file: /doses-nfs/sim/527029/output/roi_marks_pluco L.nparray\n",
      "INFO:bdfileutils:Saving ndarray data with dimensions (146, 124, 248) to file: /doses-nfs/sim/527029/output/roi_marks_kanal kreg.+5mm.nparray\n",
      "INFO:bdfileutils:Saving ndarray data with dimensions (146, 124, 248) to file: /doses-nfs/sim/527029/output/roi_marks_kanal kreg..nparray\n",
      "INFO:bdfileutils:Saving ndarray data with dimensions (146, 124, 248) to file: /doses-nfs/sim/527029/output/roi_marks_gl.kosci ram..nparray\n",
      "INFO:bdfileutils:Saving ndarray data with dimensions (146, 124, 248) to file: /doses-nfs/sim/527029/output/roi_marks_CouchSurface.nparray\n",
      "INFO:bdfileutils:Saving ndarray data with dimensions (146, 124, 248) to file: /doses-nfs/sim/527029/output/roi_marks_CouchInterior.nparray\n",
      "INFO:bdfileutils:Saving ndarray data with dimensions (146, 124, 248) to file: /doses-nfs/sim/527029/output/roi_marks_zz_zdrowa piers.nparray\n",
      "INFO:bdfileutils:Saving ndarray data with dimensions (146, 124, 248) to file: /doses-nfs/sim/527029/output/roi_marks_zz_zdrowe.nparray\n",
      "INFO:bdfileutils:Saving ndarray data with dimensions (146, 124, 248) to file: /doses-nfs/sim/527029/output/roi_marks_zz_obwarz..nparray\n",
      "INFO:bdfileutils:Saving ndarray data with dimensions (146, 124, 248) to file: /doses-nfs/sim/527029/output/roi_marks_Contralat.lung.nparray\n",
      "INFO:bdfileutils:Saving ndarray data with dimensions (146, 124, 248) to file: /doses-nfs/sim/527029/output/roi_marks_naczynia wienc..nparray\n",
      "INFO:bdfileutils:Saving ndarray data with dimensions (146, 124, 248) to file: /doses-nfs/sim/527029/output/total_doses.nparray\n"
     ]
    }
   ],
   "source": [
    "args = lambda x: x\n",
    "args.root_folder=PATIENT_FOLDER\n",
    "bd4cnn.bd4cnn.do_run(args)"
   ]
  },
  {
   "cell_type": "code",
   "execution_count": 21,
   "metadata": {},
   "outputs": [
    {
     "output_type": "stream",
     "name": "stderr",
     "text": [
      "INFO:bdfileutils:Reading ndarray data from file: /doses-nfs/sim/527029/output/roi_marks.nparray\n",
      "INFO:bdfileutils:The ndarray data has shape: [146, 124, 248]\n",
      "INFO:bdfileutils:Reading ndarray data from file: /doses-nfs/sim/527029/output/approximated_ct.nparray\n",
      "INFO:bdfileutils:The ndarray data has shape: [146, 124, 248]\n",
      "INFO:bdfileutils:Reading ndarray data from file: /doses-nfs/sim/527029/output/total_doses.nparray\n",
      "INFO:bdfileutils:The ndarray data has shape: [146, 124, 248]\n"
     ]
    }
   ],
   "source": [
    "import bdfileutils\n",
    "r = bdfileutils.read_ndarray(f'{PATIENT_FOLDER}/output/roi_marks.nparray', dtype=np.int64)\n",
    "ct = bdfileutils.read_ndarray(f'{PATIENT_FOLDER}/output/approximated_ct.nparray', dtype=np.float32)\n",
    "doses = bdfileutils.read_ndarray(f'{PATIENT_FOLDER}/output/total_doses.nparray', dtype=np.float32)"
   ]
  },
  {
   "cell_type": "code",
   "execution_count": 17,
   "metadata": {},
   "outputs": [
    {
     "output_type": "display_data",
     "data": {
      "text/plain": "interactive(children=(IntSlider(value=72, description='s', max=145), Output()), _dom_classes=('widget-interact…",
      "application/vnd.jupyter.widget-view+json": {
       "version_major": 2,
       "version_minor": 0,
       "model_id": "e3086da261f443b491ec60c9dcca9099"
      }
     },
     "metadata": {}
    }
   ],
   "source": [
    "import matplotlib.cm as cm\n",
    "from ipywidgets import interact\n",
    "@interact(s=(0,ct.shape[0]-1))\n",
    "def f(s):\n",
    "    plt.imshow(ct[s,:,:], cmap=cm.gray)"
   ]
  },
  {
   "cell_type": "code",
   "execution_count": 18,
   "metadata": {},
   "outputs": [
    {
     "output_type": "stream",
     "name": "stdout",
     "text": [
      "{'Patient Outline': 1, 'wezly all PTV': 2, 'wezly all': 4, 'ptv': 8, 'ctv': 16, 'blizna PTV': 32, 'blizna': 64, 'watroba-fragment': 128, 'suma pluc': 256, 'zz_srodek': 512, 'zz_ptv': 1024, 'Ipsilat.lung': 2048, 'serce': 4096, 'przelyk': 8192, 'pluco P': 16384, 'pluco L': 32768, 'kanal kreg.+5mm': 65536, 'kanal kreg.': 131072, 'gl.kosci ram.': 262144, 'CouchSurface': 524288, 'CouchInterior': 1048576, 'zz_zdrowa piers': 2097152, 'zz_zdrowe': 4194304, 'zz_obwarz.': 8388608, 'Contralat.lung': 16777216, 'naczynia wienc.': 33554432}\n"
     ]
    }
   ],
   "source": [
    "roi_names = {}\n",
    "with open(f'{PATIENT_FOLDER}/output/roi_mapping.txt') as f:\n",
    "    for line in f:\n",
    "        line = line.strip()\n",
    "        # print(line.split(\":\"))\n",
    "        cols = line.split(\":\")\n",
    "        roi_names[cols[0]] = int(cols[1])\n",
    "print(roi_names)        "
   ]
  },
  {
   "cell_type": "code",
   "execution_count": 37,
   "metadata": {},
   "outputs": [
    {
     "output_type": "display_data",
     "data": {
      "text/plain": "interactive(children=(IntSlider(value=72, description='s', max=145), Dropdown(description='roi', options={'Pat…",
      "application/vnd.jupyter.widget-view+json": {
       "version_major": 2,
       "version_minor": 0,
       "model_id": "44a6eef6beda473cabd7eb8f0d71b67f"
      }
     },
     "metadata": {}
    }
   ],
   "source": [
    "from ipywidgets import interact\n",
    "@interact(s=(0,r.shape[0]-1), roi=roi_names)\n",
    "def d(s, roi):\n",
    "    plt.subplots(1,1,dpi=50, figsize=(16,9))\n",
    "    rp = np.copy(r[s, :, :])\n",
    "    sel = (np.bitwise_and(rp,roi)) == roi\n",
    "    rp[ sel ] = 1\n",
    "    rp[ np.bitwise_not(sel) ] = 0\n",
    "    plt.imshow(ct[s,:,:], cmap=cm.gray)\n",
    "    plt.imshow( rp, alpha=0.55)"
   ]
  },
  {
   "cell_type": "code",
   "execution_count": 46,
   "metadata": {},
   "outputs": [
    {
     "output_type": "display_data",
     "data": {
      "text/plain": "interactive(children=(IntSlider(value=72, description='s', max=145), IntSlider(value=61, description='x', max=…",
      "application/vnd.jupyter.widget-view+json": {
       "version_major": 2,
       "version_minor": 0,
       "model_id": "f11337eb3ccc4b828c2bb548507dcb39"
      }
     },
     "metadata": {}
    }
   ],
   "source": [
    "from ipywidgets import interact\n",
    "@interact(s=(0,r.shape[0]-1), x=(0,r.shape[1]-1), y=(0,r.shape[2]-1), dmin=(0, np.max(doses)), dmax=(0, np.max(doses)), roi=roi_names)\n",
    "def d(s, x, y, roi, dmin=0, dmax=np.max(doses)):\n",
    "    f, [ax1, ax2, ax3] = plt.subplots(1,3,dpi=50, figsize=(16,9))\n",
    "    d = np.copy(doses[s, :, :])\n",
    "    d[d < dmin] = 0\n",
    "    d[d > dmax] = 0\n",
    "    ax1.imshow(ct[s,:,:], cmap=cm.gray)\n",
    "    ax1.imshow(d, alpha=0.55, cmap=cm.jet)\n",
    "\n",
    "    d = np.copy(doses[:, x, :])\n",
    "    d[d < dmin] = 0\n",
    "    d[d > dmax] = 0\n",
    "    ax2.imshow(ct[:,x,:], cmap=cm.gray, origin='lower')\n",
    "    ax2.imshow(d, alpha=0.55, cmap=cm.jet, origin='lower')\n",
    "\n",
    "    d = np.copy(doses[:, :, y])\n",
    "    d[d < dmin] = 0\n",
    "    d[d > dmax] = 0\n",
    "    ax3.imshow(ct[:,:,y], cmap=cm.gray, origin='lower')\n",
    "    ax3.imshow(d, alpha=0.55, cmap=cm.jet, origin='lower')\n"
   ]
  }
 ],
 "metadata": {
  "kernelspec": {
   "display_name": "Python 3",
   "language": "python",
   "name": "python3"
  },
  "language_info": {
   "codemirror_mode": {
    "name": "ipython",
    "version": 3
   },
   "file_extension": ".py",
   "mimetype": "text/x-python",
   "name": "python",
   "nbconvert_exporter": "python",
   "pygments_lexer": "ipython3",
   "version": "3.7.9-final"
  }
 },
 "nbformat": 4,
 "nbformat_minor": 4
}