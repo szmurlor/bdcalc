{
 "cells": [
  {
   "cell_type": "code",
   "execution_count": 3,
   "metadata": {},
   "outputs": [],
   "source": [
    "import numpy as np\n",
    "import matplotlib.pyplot as plt"
   ]
  },
  {
   "cell_type": "code",
   "execution_count": 4,
   "metadata": {},
   "outputs": [
    {
     "name": "stdout",
     "output_type": "stream",
     "text": [
      "Originalny folder: C:\\Projekty\\bdcalc\\notebooks\n",
      "c:\\Projekty\\sim\\PARETO_5\\input\\dicom\n"
     ]
    }
   ],
   "source": [
    "import os\n",
    "print(f'Originalny folder: {os.getcwd()}')\n",
    "os.chdir('c:/Projekty/sim/PARETO_5/input/dicom')\n",
    "print(os.getcwd())"
   ]
  },
  {
   "cell_type": "code",
   "execution_count": 5,
   "metadata": {},
   "outputs": [],
   "source": [
    "os.chdir('c:/Projekty/bdcalc/src')"
   ]
  },
  {
   "cell_type": "code",
   "execution_count": 6,
   "metadata": {},
   "outputs": [],
   "source": [
    "import bd4cnn.bd4cnn"
   ]
  },
  {
   "cell_type": "code",
   "execution_count": 7,
   "metadata": {},
   "outputs": [
    {
     "data": {
      "text/plain": [
       "['Beamlets',\n",
       " 'MyRoi',\n",
       " 'RASSData',\n",
       " 'SCALE',\n",
       " 'SOURCE_TO_SURFACE_DISTANCE',\n",
       " 'VolumeData',\n",
       " '__builtins__',\n",
       " '__cached__',\n",
       " '__doc__',\n",
       " '__file__',\n",
       " '__loader__',\n",
       " '__name__',\n",
       " '__package__',\n",
       " '__spec__',\n",
       " 'argparse',\n",
       " 'argv',\n",
       " 'default_options',\n",
       " 'dicom',\n",
       " 'dicomutils',\n",
       " 'do_run',\n",
       " 'json',\n",
       " 'log',\n",
       " 'makeControlData',\n",
       " 'np',\n",
       " 'os',\n",
       " 'struct',\n",
       " 'sys',\n",
       " 'time']"
      ]
     },
     "execution_count": 7,
     "metadata": {},
     "output_type": "execute_result"
    }
   ],
   "source": [
    "dir (bd4cnn.bd4cnn)"
   ]
  },
  {
   "cell_type": "code",
   "execution_count": 9,
   "metadata": {},
   "outputs": [
    {
     "name": "stderr",
     "output_type": "stream",
     "text": [
      "ERROR:root:The file c:/Projekty/sim/PARETO_5/input/config.json does not exist and is not defined in None file.\n"
     ]
    },
    {
     "name": "stdout",
     "output_type": "stream",
     "text": [
      "c:/Projekty/sim/PARETO_5/input/dicom\\CT.1.2.246.352.221.46429429099713233163182912957643298749.dcm - 1.2.840.10008.5.1.4.1.1.2\n",
      "c:/Projekty/sim/PARETO_5/input/dicom\\CT.1.2.246.352.221.46430761486785045981340611083660526236.dcm - 1.2.840.10008.5.1.4.1.1.2\n",
      "c:/Projekty/sim/PARETO_5/input/dicom\\CT.1.2.246.352.221.46445072802096147064347880650841619891.dcm - 1.2.840.10008.5.1.4.1.1.2\n",
      "c:/Projekty/sim/PARETO_5/input/dicom\\CT.1.2.246.352.221.46513207808349512542194333140225675658.dcm - 1.2.840.10008.5.1.4.1.1.2\n",
      "c:/Projekty/sim/PARETO_5/input/dicom\\CT.1.2.246.352.221.46730111777572689162121415025484085688.dcm - 1.2.840.10008.5.1.4.1.1.2\n",
      "c:/Projekty/sim/PARETO_5/input/dicom\\CT.1.2.246.352.221.4675212019916228395400692487490142635.dcm - 1.2.840.10008.5.1.4.1.1.2\n",
      "c:/Projekty/sim/PARETO_5/input/dicom\\CT.1.2.246.352.221.468184014249508201210869566518062158236.dcm - 1.2.840.10008.5.1.4.1.1.2\n",
      "c:/Projekty/sim/PARETO_5/input/dicom\\CT.1.2.246.352.221.469112409816288450314361979260639358891.dcm - 1.2.840.10008.5.1.4.1.1.2\n",
      "c:/Projekty/sim/PARETO_5/input/dicom\\CT.1.2.246.352.221.470172458699618806914989996900916350631.dcm - 1.2.840.10008.5.1.4.1.1.2\n",
      "c:/Projekty/sim/PARETO_5/input/dicom\\CT.1.2.246.352.221.471471440085314778017399355231192336549.dcm - 1.2.840.10008.5.1.4.1.1.2\n",
      "c:/Projekty/sim/PARETO_5/input/dicom\\CT.1.2.246.352.221.471494769467519025317917904279434120333.dcm - 1.2.840.10008.5.1.4.1.1.2\n",
      "c:/Projekty/sim/PARETO_5/input/dicom\\CT.1.2.246.352.221.471811484286306451214092287679092977831.dcm - 1.2.840.10008.5.1.4.1.1.2\n",
      "c:/Projekty/sim/PARETO_5/input/dicom\\CT.1.2.246.352.221.472798326159905971811495123548593917887.dcm - 1.2.840.10008.5.1.4.1.1.2\n",
      "c:/Projekty/sim/PARETO_5/input/dicom\\CT.1.2.246.352.221.472936443842680320713694215803493657992.dcm - 1.2.840.10008.5.1.4.1.1.2\n",
      "c:/Projekty/sim/PARETO_5/input/dicom\\CT.1.2.246.352.221.47314264808983069735975548742753387915.dcm - 1.2.840.10008.5.1.4.1.1.2\n",
      "c:/Projekty/sim/PARETO_5/input/dicom\\CT.1.2.246.352.221.47363788570862049832232700270711645076.dcm - 1.2.840.10008.5.1.4.1.1.2\n",
      "c:/Projekty/sim/PARETO_5/input/dicom\\CT.1.2.246.352.221.47418476306060186863250354168644625033.dcm - 1.2.840.10008.5.1.4.1.1.2\n",
      "c:/Projekty/sim/PARETO_5/input/dicom\\CT.1.2.246.352.221.478389674003256101116394477888001092529.dcm - 1.2.840.10008.5.1.4.1.1.2\n",
      "c:/Projekty/sim/PARETO_5/input/dicom\\CT.1.2.246.352.221.479232850088624657013579722119611071362.dcm - 1.2.840.10008.5.1.4.1.1.2\n",
      "c:/Projekty/sim/PARETO_5/input/dicom\\CT.1.2.246.352.221.480205032425039172413210542167941037966.dcm - 1.2.840.10008.5.1.4.1.1.2\n",
      "c:/Projekty/sim/PARETO_5/input/dicom\\CT.1.2.246.352.221.48083118401687663824957123553483460263.dcm - 1.2.840.10008.5.1.4.1.1.2\n",
      "c:/Projekty/sim/PARETO_5/input/dicom\\CT.1.2.246.352.221.48197829257349916897047114079133065125.dcm - 1.2.840.10008.5.1.4.1.1.2\n",
      "c:/Projekty/sim/PARETO_5/input/dicom\\CT.1.2.246.352.221.482148272678526685015790017771441344174.dcm - 1.2.840.10008.5.1.4.1.1.2\n",
      "c:/Projekty/sim/PARETO_5/input/dicom\\CT.1.2.246.352.221.482893351597458794414916326238147356856.dcm - 1.2.840.10008.5.1.4.1.1.2\n",
      "c:/Projekty/sim/PARETO_5/input/dicom\\CT.1.2.246.352.221.482976151215079837916457920558984774800.dcm - 1.2.840.10008.5.1.4.1.1.2\n",
      "c:/Projekty/sim/PARETO_5/input/dicom\\CT.1.2.246.352.221.48621995215246504679144684368705384079.dcm - 1.2.840.10008.5.1.4.1.1.2\n",
      "c:/Projekty/sim/PARETO_5/input/dicom\\CT.1.2.246.352.221.487833444971450123712692471607027563401.dcm - 1.2.840.10008.5.1.4.1.1.2\n",
      "c:/Projekty/sim/PARETO_5/input/dicom\\CT.1.2.246.352.221.489257227141537338211199998578038300095.dcm - 1.2.840.10008.5.1.4.1.1.2\n",
      "c:/Projekty/sim/PARETO_5/input/dicom\\CT.1.2.246.352.221.490219096838609192213645648179682533767.dcm - 1.2.840.10008.5.1.4.1.1.2\n",
      "c:/Projekty/sim/PARETO_5/input/dicom\\CT.1.2.246.352.221.49279507652590866524817418597891188875.dcm - 1.2.840.10008.5.1.4.1.1.2\n",
      "c:/Projekty/sim/PARETO_5/input/dicom\\CT.1.2.246.352.221.49297020513982037956149725265735940785.dcm - 1.2.840.10008.5.1.4.1.1.2\n",
      "c:/Projekty/sim/PARETO_5/input/dicom\\CT.1.2.246.352.221.49325597865171706028938018329058692762.dcm - 1.2.840.10008.5.1.4.1.1.2\n",
      "c:/Projekty/sim/PARETO_5/input/dicom\\CT.1.2.246.352.221.494321668368336748310719506850270958221.dcm - 1.2.840.10008.5.1.4.1.1.2\n",
      "c:/Projekty/sim/PARETO_5/input/dicom\\CT.1.2.246.352.221.49438144686164008874857676502534728833.dcm - 1.2.840.10008.5.1.4.1.1.2\n",
      "c:/Projekty/sim/PARETO_5/input/dicom\\CT.1.2.246.352.221.496181120878968324512917248192403363482.dcm - 1.2.840.10008.5.1.4.1.1.2\n",
      "c:/Projekty/sim/PARETO_5/input/dicom\\CT.1.2.246.352.221.497038317056090868015810831332991441796.dcm - 1.2.840.10008.5.1.4.1.1.2\n",
      "c:/Projekty/sim/PARETO_5/input/dicom\\CT.1.2.246.352.221.498485979804596324512439553804622627987.dcm - 1.2.840.10008.5.1.4.1.1.2\n",
      "c:/Projekty/sim/PARETO_5/input/dicom\\CT.1.2.246.352.221.500886024039390969210193483813577445249.dcm - 1.2.840.10008.5.1.4.1.1.2\n",
      "c:/Projekty/sim/PARETO_5/input/dicom\\CT.1.2.246.352.221.50089041876684415202256359605275023288.dcm - 1.2.840.10008.5.1.4.1.1.2\n",
      "c:/Projekty/sim/PARETO_5/input/dicom\\CT.1.2.246.352.221.501406234078036777611155102455962871727.dcm - 1.2.840.10008.5.1.4.1.1.2\n",
      "c:/Projekty/sim/PARETO_5/input/dicom\\CT.1.2.246.352.221.501499591152780333910685936326317080966.dcm - 1.2.840.10008.5.1.4.1.1.2\n",
      "c:/Projekty/sim/PARETO_5/input/dicom\\CT.1.2.246.352.221.50239181517907786865412733744964476083.dcm - 1.2.840.10008.5.1.4.1.1.2\n",
      "c:/Projekty/sim/PARETO_5/input/dicom\\CT.1.2.246.352.221.503095795432382924110168056624066170046.dcm - 1.2.840.10008.5.1.4.1.1.2\n",
      "c:/Projekty/sim/PARETO_5/input/dicom\\CT.1.2.246.352.221.503444591604155291216786535644071288741.dcm - 1.2.840.10008.5.1.4.1.1.2\n",
      "c:/Projekty/sim/PARETO_5/input/dicom\\CT.1.2.246.352.221.50393604192932237588864809486758124937.dcm - 1.2.840.10008.5.1.4.1.1.2\n",
      "c:/Projekty/sim/PARETO_5/input/dicom\\CT.1.2.246.352.221.50580524767531849491383967329890513827.dcm - 1.2.840.10008.5.1.4.1.1.2\n",
      "c:/Projekty/sim/PARETO_5/input/dicom\\CT.1.2.246.352.221.507739800142026156818291153453118817182.dcm - 1.2.840.10008.5.1.4.1.1.2\n",
      "c:/Projekty/sim/PARETO_5/input/dicom\\CT.1.2.246.352.221.50776520979141944571461921921633598360.dcm - 1.2.840.10008.5.1.4.1.1.2\n",
      "c:/Projekty/sim/PARETO_5/input/dicom\\CT.1.2.246.352.221.508704873740120122813931691911906589568.dcm - 1.2.840.10008.5.1.4.1.1.2\n",
      "c:/Projekty/sim/PARETO_5/input/dicom\\CT.1.2.246.352.221.51109554819843467576976569234407891631.dcm - 1.2.840.10008.5.1.4.1.1.2\n",
      "c:/Projekty/sim/PARETO_5/input/dicom\\CT.1.2.246.352.221.51118111388977065305015653132743120036.dcm - 1.2.840.10008.5.1.4.1.1.2\n",
      "c:/Projekty/sim/PARETO_5/input/dicom\\CT.1.2.246.352.221.51172007525018856403648921589007575692.dcm - 1.2.840.10008.5.1.4.1.1.2\n",
      "c:/Projekty/sim/PARETO_5/input/dicom\\CT.1.2.246.352.221.511776024759906703618184061694362252712.dcm - 1.2.840.10008.5.1.4.1.1.2\n",
      "c:/Projekty/sim/PARETO_5/input/dicom\\CT.1.2.246.352.221.51315070786068410339136615597132131224.dcm - 1.2.840.10008.5.1.4.1.1.2\n",
      "c:/Projekty/sim/PARETO_5/input/dicom\\CT.1.2.246.352.221.51815561619076636596354901657856318366.dcm - 1.2.840.10008.5.1.4.1.1.2\n",
      "c:/Projekty/sim/PARETO_5/input/dicom\\CT.1.2.246.352.221.519630405087663135716387344080211760060.dcm - 1.2.840.10008.5.1.4.1.1.2\n",
      "c:/Projekty/sim/PARETO_5/input/dicom\\CT.1.2.246.352.221.519806762365789394815517249143190395008.dcm - 1.2.840.10008.5.1.4.1.1.2\n",
      "c:/Projekty/sim/PARETO_5/input/dicom\\CT.1.2.246.352.221.52150853706243513521518701952118451894.dcm - 1.2.840.10008.5.1.4.1.1.2\n",
      "c:/Projekty/sim/PARETO_5/input/dicom\\CT.1.2.246.352.221.52162454313708960845521382104011806634.dcm - 1.2.840.10008.5.1.4.1.1.2\n",
      "c:/Projekty/sim/PARETO_5/input/dicom\\CT.1.2.246.352.221.52345968331004544081127759914347842216.dcm - 1.2.840.10008.5.1.4.1.1.2\n",
      "c:/Projekty/sim/PARETO_5/input/dicom\\CT.1.2.246.352.221.52351451577308457803160309942274235303.dcm - 1.2.840.10008.5.1.4.1.1.2\n",
      "c:/Projekty/sim/PARETO_5/input/dicom\\CT.1.2.246.352.221.525845863153052588914106511165403386526.dcm - 1.2.840.10008.5.1.4.1.1.2\n",
      "c:/Projekty/sim/PARETO_5/input/dicom\\CT.1.2.246.352.221.52593374337486736429621099289610908551.dcm - 1.2.840.10008.5.1.4.1.1.2\n",
      "c:/Projekty/sim/PARETO_5/input/dicom\\CT.1.2.246.352.221.52895159126463582724906600521524585345.dcm - 1.2.840.10008.5.1.4.1.1.2\n",
      "c:/Projekty/sim/PARETO_5/input/dicom\\CT.1.2.246.352.221.530190845423401623511103381788252393858.dcm - 1.2.840.10008.5.1.4.1.1.2\n",
      "c:/Projekty/sim/PARETO_5/input/dicom\\CT.1.2.246.352.221.530482093957899632411975153983700141502.dcm - 1.2.840.10008.5.1.4.1.1.2\n",
      "c:/Projekty/sim/PARETO_5/input/dicom\\CT.1.2.246.352.221.53086569657395321112073521275759768462.dcm - 1.2.840.10008.5.1.4.1.1.2\n",
      "c:/Projekty/sim/PARETO_5/input/dicom\\CT.1.2.246.352.221.53152942728005526412478646444604583839.dcm - 1.2.840.10008.5.1.4.1.1.2\n",
      "c:/Projekty/sim/PARETO_5/input/dicom\\CT.1.2.246.352.221.532642633351962778514009216918311839415.dcm - 1.2.840.10008.5.1.4.1.1.2\n",
      "c:/Projekty/sim/PARETO_5/input/dicom\\CT.1.2.246.352.221.5331914265162692166251615832766475404.dcm - 1.2.840.10008.5.1.4.1.1.2\n",
      "c:/Projekty/sim/PARETO_5/input/dicom\\CT.1.2.246.352.221.53498442197295450691684525596520242623.dcm - 1.2.840.10008.5.1.4.1.1.2\n",
      "c:/Projekty/sim/PARETO_5/input/dicom\\CT.1.2.246.352.221.537916574005944649211966912055785090177.dcm - 1.2.840.10008.5.1.4.1.1.2\n",
      "c:/Projekty/sim/PARETO_5/input/dicom\\CT.1.2.246.352.221.53876439400920889247251483809479966860.dcm - 1.2.840.10008.5.1.4.1.1.2\n",
      "c:/Projekty/sim/PARETO_5/input/dicom\\CT.1.2.246.352.221.54057524793381533159287035477141368996.dcm - 1.2.840.10008.5.1.4.1.1.2\n",
      "c:/Projekty/sim/PARETO_5/input/dicom\\CT.1.2.246.352.221.542050746273522473817162037481159580347.dcm - 1.2.840.10008.5.1.4.1.1.2\n",
      "c:/Projekty/sim/PARETO_5/input/dicom\\CT.1.2.246.352.221.543019384774089549510673234731147724734.dcm - 1.2.840.10008.5.1.4.1.1.2\n",
      "c:/Projekty/sim/PARETO_5/input/dicom\\CT.1.2.246.352.221.544984643226481491916006522278036704425.dcm - 1.2.840.10008.5.1.4.1.1.2\n",
      "c:/Projekty/sim/PARETO_5/input/dicom\\CT.1.2.246.352.221.546310691769891228115524651335273959052.dcm - 1.2.840.10008.5.1.4.1.1.2\n",
      "c:/Projekty/sim/PARETO_5/input/dicom\\CT.1.2.246.352.221.54802670662005122748623468927166263191.dcm - 1.2.840.10008.5.1.4.1.1.2\n",
      "c:/Projekty/sim/PARETO_5/input/dicom\\CT.1.2.246.352.221.54880015739628402836822839957511616164.dcm - 1.2.840.10008.5.1.4.1.1.2\n",
      "c:/Projekty/sim/PARETO_5/input/dicom\\CT.1.2.246.352.221.55256039593711795298321053773870129285.dcm - 1.2.840.10008.5.1.4.1.1.2\n",
      "c:/Projekty/sim/PARETO_5/input/dicom\\CT.1.2.246.352.221.55297349876802386015577263974086097078.dcm - 1.2.840.10008.5.1.4.1.1.2\n",
      "c:/Projekty/sim/PARETO_5/input/dicom\\CT.1.2.246.352.221.55402563017157221877033707373158342807.dcm - 1.2.840.10008.5.1.4.1.1.2\n",
      "c:/Projekty/sim/PARETO_5/input/dicom\\CT.1.2.246.352.221.555473370423059849417447791674231752066.dcm - 1.2.840.10008.5.1.4.1.1.2\n",
      "c:/Projekty/sim/PARETO_5/input/dicom\\CT.1.2.246.352.221.5559947209447456376696267799840281490.dcm - 1.2.840.10008.5.1.4.1.1.2\n",
      "c:/Projekty/sim/PARETO_5/input/dicom\\CT.1.2.246.352.221.55619693381256119857728838947375904404.dcm - 1.2.840.10008.5.1.4.1.1.2\n",
      "c:/Projekty/sim/PARETO_5/input/dicom\\CT.1.2.246.352.221.55662791190363969866909240856862487195.dcm - 1.2.840.10008.5.1.4.1.1.2\n",
      "c:/Projekty/sim/PARETO_5/input/dicom\\CT.1.2.246.352.221.556836913692743393410034869548256874145.dcm - 1.2.840.10008.5.1.4.1.1.2\n",
      "c:/Projekty/sim/PARETO_5/input/dicom\\CT.1.2.246.352.221.55814575483976500392350292076064398501.dcm - 1.2.840.10008.5.1.4.1.1.2\n",
      "c:/Projekty/sim/PARETO_5/input/dicom\\CT.1.2.246.352.221.55820262636493916109123167627604846270.dcm - 1.2.840.10008.5.1.4.1.1.2\n",
      "c:/Projekty/sim/PARETO_5/input/dicom\\CT.1.2.246.352.221.55996256232755877175194043228717977789.dcm - 1.2.840.10008.5.1.4.1.1.2\n",
      "c:/Projekty/sim/PARETO_5/input/dicom\\CT.1.2.246.352.221.56154607137908031211550507996719614619.dcm - 1.2.840.10008.5.1.4.1.1.2\n",
      "c:/Projekty/sim/PARETO_5/input/dicom\\CT.1.2.246.352.221.56428448628539668849439336046586412724.dcm - 1.2.840.10008.5.1.4.1.1.2\n",
      "c:/Projekty/sim/PARETO_5/input/dicom\\CT.1.2.246.352.221.56585844501023854025599441799531538606.dcm - 1.2.840.10008.5.1.4.1.1.2\n",
      "c:/Projekty/sim/PARETO_5/input/dicom\\CT.1.2.246.352.221.56606121911300507516641516164787774091.dcm - 1.2.840.10008.5.1.4.1.1.2\n",
      "c:/Projekty/sim/PARETO_5/input/dicom\\CT.1.2.246.352.221.56667257357425108498453341631854182548.dcm - 1.2.840.10008.5.1.4.1.1.2\n",
      "c:/Projekty/sim/PARETO_5/input/dicom\\CT.1.2.246.352.221.56693588550409606644845724943418430597.dcm - 1.2.840.10008.5.1.4.1.1.2\n",
      "c:/Projekty/sim/PARETO_5/input/dicom\\CT.1.2.246.352.221.569603864026519254610048204576337022391.dcm - 1.2.840.10008.5.1.4.1.1.2\n",
      "c:/Projekty/sim/PARETO_5/input/dicom\\CT.1.2.246.352.221.570074264439807094911305537166749616816.dcm - 1.2.840.10008.5.1.4.1.1.2\n",
      "c:/Projekty/sim/PARETO_5/input/dicom\\CT.1.2.246.352.221.57064977084822447713315677476845651874.dcm - 1.2.840.10008.5.1.4.1.1.2\n",
      "c:/Projekty/sim/PARETO_5/input/dicom\\CT.1.2.246.352.221.571377093450094462210849634461389819573.dcm - 1.2.840.10008.5.1.4.1.1.2\n",
      "c:/Projekty/sim/PARETO_5/input/dicom\\CT.1.2.246.352.221.57173132813946652699597236485147015298.dcm - 1.2.840.10008.5.1.4.1.1.2\n"
     ]
    },
    {
     "name": "stderr",
     "output_type": "stream",
     "text": [
      "2020-12-28 15:23:44,878 - bdcalc - INFO - Name: PARETO_5\n",
      "INFO:bdcalc:Name: PARETO_5\n"
     ]
    },
    {
     "name": "stdout",
     "output_type": "stream",
     "text": [
      "c:/Projekty/sim/PARETO_5/input/dicom\\CT.1.2.246.352.221.572001866677184939812858853891276517003.dcm - 1.2.840.10008.5.1.4.1.1.2\n",
      "c:/Projekty/sim/PARETO_5/input/dicom\\CT.1.2.246.352.221.573044642834169686812451164087249108878.dcm - 1.2.840.10008.5.1.4.1.1.2\n",
      "c:/Projekty/sim/PARETO_5/input/dicom\\CT.1.2.246.352.221.57402275848674892753883388133711384496.dcm - 1.2.840.10008.5.1.4.1.1.2\n",
      "c:/Projekty/sim/PARETO_5/input/dicom\\CT.1.2.246.352.221.57432577086256790885733073870118714770.dcm - 1.2.840.10008.5.1.4.1.1.2\n",
      "c:/Projekty/sim/PARETO_5/input/dicom\\CT.1.2.246.352.221.575915678680592194411852679523531343761.dcm - 1.2.840.10008.5.1.4.1.1.2\n",
      "c:/Projekty/sim/PARETO_5/input/dicom\\RD.1.2.246.352.71.7.551177258822.7674277.20201013211533.dcm - 1.2.840.10008.5.1.4.1.1.481.2\n",
      "c:/Projekty/sim/PARETO_5/input/dicom\\RD.1.2.246.352.71.7.551177258822.7674325.20201013220743.dcm - 1.2.840.10008.5.1.4.1.1.481.2\n",
      "c:/Projekty/sim/PARETO_5/input/dicom\\RD.1.2.246.352.71.7.551177258822.7674404.20201013220015.dcm - 1.2.840.10008.5.1.4.1.1.481.2\n",
      "c:/Projekty/sim/PARETO_5/input/dicom\\RD.1.2.246.352.71.7.551177258822.7685075.20201026090342.dcm - 1.2.840.10008.5.1.4.1.1.481.2\n",
      "c:/Projekty/sim/PARETO_5/input/dicom\\RP.1.2.246.352.221.51238445787912533184976535645723945399.dcm - 1.2.840.10008.5.1.4.1.1.481.5\n",
      "c:/Projekty/sim/PARETO_5/input/dicom\\RP.1.2.246.352.71.5.551177258822.3451055.20201013211320.dcm - 1.2.840.10008.5.1.4.1.1.481.5\n",
      "c:/Projekty/sim/PARETO_5/input/dicom\\RP.1.2.246.352.71.5.551177258822.3451103.20201013220451.dcm - 1.2.840.10008.5.1.4.1.1.481.5\n",
      "c:/Projekty/sim/PARETO_5/input/dicom\\RP.1.2.246.352.71.5.551177258822.3451104.20201013220007.dcm - 1.2.840.10008.5.1.4.1.1.481.5\n",
      "c:/Projekty/sim/PARETO_5/input/dicom\\RP.1.2.246.352.71.5.551177258822.3456955.20201026090332.dcm - 1.2.840.10008.5.1.4.1.1.481.5\n",
      "c:/Projekty/sim/PARETO_5/input/dicom\\RS.1.2.246.352.221.528495316730692418114379003885362002849.dcm - 1.2.840.10008.5.1.4.1.1.481.3\n"
     ]
    },
    {
     "name": "stderr",
     "output_type": "stream",
     "text": [
      "2020-12-28 15:23:49,476 - bdcalc - INFO - Read doses for 0 beams\n",
      "INFO:bdcalc:Read doses for 0 beams\n",
      "2020-12-28 15:23:49,477 - bdcalc - INFO - Got total doses from file c:/Projekty/sim/PARETO_5/input/dicom\\RD.1.2.246.352.71.7.551177258822.7674277.20201013211533.dcm (min dose=0.000000, average dose=87647.218750, max dose = 1086198.000000, doseScaling=0.000066)\n",
      "INFO:bdcalc:Got total doses from file c:/Projekty/sim/PARETO_5/input/dicom\\RD.1.2.246.352.71.7.551177258822.7674277.20201013211533.dcm (min dose=0.000000, average dose=87647.218750, max dose = 1086198.000000, doseScaling=0.000066)\n",
      "2020-12-28 15:23:49,479 - bdcalc - INFO - Planning grid: 111 x 58 x 54 in [-27.3173:27.8497]x[-35.5389:-6.71293]x[-8.5:12.7] dx,dy,dz=0.497,0.497,0.4 -> dv=0.0988036\n",
      "INFO:bdcalc:Planning grid: 111 x 58 x 54 in [-27.3173:27.8497]x[-35.5389:-6.71293]x[-8.5:12.7] dx,dy,dz=0.497,0.497,0.4 -> dv=0.0988036\n",
      "2020-12-28 15:23:49,483 - bdcalc - INFO - Reading contours for BODY from DICOM\n",
      "INFO:bdcalc:Reading contours for BODY from DICOM\n"
     ]
    },
    {
     "name": "stdout",
     "output_type": "stream",
     "text": [
      "['c:/Projekty/sim/PARETO_5/input/dicom\\\\RD.1.2.246.352.71.7.551177258822.7674277.20201013211533.dcm', 'c:/Projekty/sim/PARETO_5/input/dicom\\\\RD.1.2.246.352.71.7.551177258822.7674325.20201013220743.dcm', 'c:/Projekty/sim/PARETO_5/input/dicom\\\\RD.1.2.246.352.71.7.551177258822.7674404.20201013220015.dcm', 'c:/Projekty/sim/PARETO_5/input/dicom\\\\RD.1.2.246.352.71.7.551177258822.7685075.20201026090342.dcm']\n",
      "Semething wrong went...\n",
      "Semething wrong went...\n",
      "Semething wrong went...\n",
      "Semething wrong went...\n"
     ]
    },
    {
     "name": "stderr",
     "output_type": "stream",
     "text": [
      "2020-12-28 15:23:49,851 - bdcalc - INFO - Found ROI body (or skin): idx = 0\n",
      "INFO:bdcalc:Found ROI body (or skin): idx = 0\n",
      "2020-12-28 15:23:49,853 - bdcalc - INFO - Reading contours for NT from DICOM\n",
      "INFO:bdcalc:Reading contours for NT from DICOM\n",
      "2020-12-28 15:23:50,348 - bdcalc - INFO - Reading contours for zuchwa from DICOM\n",
      "INFO:bdcalc:Reading contours for zuchwa from DICOM\n",
      "2020-12-28 15:23:50,395 - bdcalc - INFO - Reading contours for slinianka P from DICOM\n",
      "INFO:bdcalc:Reading contours for slinianka P from DICOM\n",
      "2020-12-28 15:23:50,412 - bdcalc - INFO - Reading contours for slinianka L from DICOM\n",
      "INFO:bdcalc:Reading contours for slinianka L from DICOM\n",
      "2020-12-28 15:23:50,427 - bdcalc - INFO - Reading contours for rdzen kreg.+3mm from DICOM\n",
      "INFO:bdcalc:Reading contours for rdzen kreg.+3mm from DICOM\n",
      "2020-12-28 15:23:50,478 - bdcalc - INFO - Reading contours for pien mozgu from DICOM\n",
      "INFO:bdcalc:Reading contours for pien mozgu from DICOM\n",
      "2020-12-28 15:23:50,491 - bdcalc - INFO - Reading contours for pien mozgu+3mm from DICOM\n",
      "INFO:bdcalc:Reading contours for pien mozgu+3mm from DICOM\n",
      "2020-12-28 15:23:50,501 - bdcalc - INFO - Reading contours for PTV54 from DICOM\n",
      "INFO:bdcalc:Reading contours for PTV54 from DICOM\n",
      "2020-12-28 15:23:50,565 - bdcalc - INFO - Reading contours for PTV60 from DICOM\n",
      "INFO:bdcalc:Reading contours for PTV60 from DICOM\n",
      "2020-12-28 15:23:50,691 - bdcalc - INFO - Reading contours for PTV66 from DICOM\n",
      "INFO:bdcalc:Reading contours for PTV66 from DICOM\n",
      "2020-12-28 15:23:50,704 - bdcalc - INFO - Reading contours for rdzen kreg. from DICOM\n",
      "INFO:bdcalc:Reading contours for rdzen kreg. from DICOM\n",
      "2020-12-28 15:23:50,741 - bdcalc - INFO - Read marking voxels for BODY from cache\n",
      "INFO:bdcalc:Read marking voxels for BODY from cache\n",
      "2020-12-28 15:23:50,747 - bdcalc - INFO - Read marking voxels for NT from cache\n",
      "INFO:bdcalc:Read marking voxels for NT from cache\n",
      "2020-12-28 15:23:50,752 - bdcalc - INFO - Read marking voxels for zuchwa from cache\n",
      "INFO:bdcalc:Read marking voxels for zuchwa from cache\n",
      "2020-12-28 15:23:50,759 - bdcalc - INFO - Read marking voxels for slinianka P from cache\n",
      "INFO:bdcalc:Read marking voxels for slinianka P from cache\n",
      "2020-12-28 15:23:50,764 - bdcalc - INFO - Read marking voxels for slinianka L from cache\n",
      "INFO:bdcalc:Read marking voxels for slinianka L from cache\n",
      "2020-12-28 15:23:50,772 - bdcalc - INFO - Read marking voxels for rdzen kreg.+3mm from cache\n",
      "INFO:bdcalc:Read marking voxels for rdzen kreg.+3mm from cache\n",
      "2020-12-28 15:23:50,778 - bdcalc - INFO - Read marking voxels for pien mozgu from cache\n",
      "INFO:bdcalc:Read marking voxels for pien mozgu from cache\n",
      "2020-12-28 15:23:50,783 - bdcalc - INFO - Read marking voxels for pien mozgu+3mm from cache\n",
      "INFO:bdcalc:Read marking voxels for pien mozgu+3mm from cache\n",
      "2020-12-28 15:23:50,788 - bdcalc - INFO - Read marking voxels for PTV54 from cache\n",
      "INFO:bdcalc:Read marking voxels for PTV54 from cache\n",
      "2020-12-28 15:23:50,792 - bdcalc - INFO - Read marking voxels for PTV60 from cache\n",
      "INFO:bdcalc:Read marking voxels for PTV60 from cache\n",
      "2020-12-28 15:23:50,799 - bdcalc - INFO - Read marking voxels for PTV66 from cache\n",
      "INFO:bdcalc:Read marking voxels for PTV66 from cache\n",
      "2020-12-28 15:23:50,808 - bdcalc - INFO - Read marking voxels for rdzen kreg. from cache\n",
      "INFO:bdcalc:Read marking voxels for rdzen kreg. from cache\n",
      "2020-12-28 15:23:50,812 - bdcalc - INFO - Statistics for                 BODY: ID=       1,   94644 voxels, vol=     0.0 discrete vol=  9351.2 [cm3]\n",
      "INFO:bdcalc:Statistics for                 BODY: ID=       1,   94644 voxels, vol=     0.0 discrete vol=  9351.2 [cm3]\n",
      "2020-12-28 15:23:50,813 - bdcalc - INFO - Statistics for                   NT: ID=       2,   54963 voxels, vol=     0.0 discrete vol=  5430.5 [cm3]\n",
      "INFO:bdcalc:Statistics for                   NT: ID=       2,   54963 voxels, vol=     0.0 discrete vol=  5430.5 [cm3]\n",
      "2020-12-28 15:23:50,815 - bdcalc - INFO - Statistics for               zuchwa: ID=       4,     789 voxels, vol=    55.3 discrete vol=    78.0 [cm3]\n",
      "INFO:bdcalc:Statistics for               zuchwa: ID=       4,     789 voxels, vol=    55.3 discrete vol=    78.0 [cm3]\n",
      "2020-12-28 15:23:50,819 - bdcalc - INFO - Statistics for          slinianka P: ID=       8,     191 voxels, vol=     9.1 discrete vol=    18.9 [cm3]\n",
      "INFO:bdcalc:Statistics for          slinianka P: ID=       8,     191 voxels, vol=     9.1 discrete vol=    18.9 [cm3]\n",
      "2020-12-28 15:23:50,822 - bdcalc - INFO - Statistics for          slinianka L: ID=      16,     205 voxels, vol=    10.4 discrete vol=    20.3 [cm3]\n",
      "INFO:bdcalc:Statistics for          slinianka L: ID=      16,     205 voxels, vol=    10.4 discrete vol=    20.3 [cm3]\n",
      "2020-12-28 15:23:50,823 - bdcalc - INFO - Statistics for      rdzen kreg.+3mm: ID=      32,     989 voxels, vol=    55.0 discrete vol=    97.7 [cm3]\n",
      "INFO:bdcalc:Statistics for      rdzen kreg.+3mm: ID=      32,     989 voxels, vol=    55.0 discrete vol=    97.7 [cm3]\n",
      "2020-12-28 15:23:50,825 - bdcalc - INFO - Statistics for           pien mozgu: ID=      64,     154 voxels, vol=     7.5 discrete vol=    15.2 [cm3]\n",
      "INFO:bdcalc:Statistics for           pien mozgu: ID=      64,     154 voxels, vol=     7.5 discrete vol=    15.2 [cm3]\n",
      "2020-12-28 15:23:50,829 - bdcalc - INFO - Statistics for       pien mozgu+3mm: ID=     128,     270 voxels, vol=    16.5 discrete vol=    26.7 [cm3]\n",
      "INFO:bdcalc:Statistics for       pien mozgu+3mm: ID=     128,     270 voxels, vol=    16.5 discrete vol=    26.7 [cm3]\n",
      "2020-12-28 15:23:50,831 - bdcalc - INFO - Statistics for                PTV54: ID=     256,    2881 voxels, vol=   184.0 discrete vol=   284.7 [cm3]\n",
      "INFO:bdcalc:Statistics for                PTV54: ID=     256,    2881 voxels, vol=   184.0 discrete vol=   284.7 [cm3]\n",
      "2020-12-28 15:23:50,833 - bdcalc - INFO - Statistics for                PTV60: ID=     512,    3161 voxels, vol=   202.5 discrete vol=   312.3 [cm3]\n",
      "INFO:bdcalc:Statistics for                PTV60: ID=     512,    3161 voxels, vol=   202.5 discrete vol=   312.3 [cm3]\n",
      "2020-12-28 15:23:50,835 - bdcalc - INFO - Statistics for                PTV66: ID=    1024,     481 voxels, vol=    28.4 discrete vol=    47.5 [cm3]\n",
      "INFO:bdcalc:Statistics for                PTV66: ID=    1024,     481 voxels, vol=    28.4 discrete vol=    47.5 [cm3]\n",
      "2020-12-28 15:23:50,839 - bdcalc - INFO - Statistics for          rdzen kreg.: ID=    2048,     453 voxels, vol=    17.6 discrete vol=    44.8 [cm3]\n",
      "INFO:bdcalc:Statistics for          rdzen kreg.: ID=    2048,     453 voxels, vol=    17.6 discrete vol=    44.8 [cm3]\n"
     ]
    },
    {
     "name": "stdout",
     "output_type": "stream",
     "text": [
      "nint = 347652\n",
      "nint = 347652\n",
      "nint = 347652\n",
      "nint = 347652\n",
      "nint = 347652\n",
      "nint = 347652\n",
      "nint = 347652\n",
      "nint = 347652\n",
      "nint = 347652\n",
      "nint = 347652\n",
      "nint = 347652\n",
      "nint = 347652\n"
     ]
    },
    {
     "name": "stderr",
     "output_type": "stream",
     "text": [
      "c:\\Projekty\\bdcalc\\src\\ct.py:86: VisibleDeprecationWarning: Creating an ndarray from ragged nested sequences (which is a list-or-tuple of lists-or-tuples-or ndarrays with different lengths or shapes) is deprecated. If you meant to do this, you must specify 'dtype=object' when creating the ndarray\n",
      "  N = np.array([np.linspace(0, n[0] - 1, n[0]), np.linspace(0, n[1] - 1, n[1]), np.linspace(0, n[2] - 1, n[2])])\n",
      "2020-12-28 15:23:52,165 - bdcalc - DEBUG - Created a long array with 347652 points\n",
      "DEBUG:bdcalc:Created a long array with 347652 points\n",
      "INFO:bdfileutils:Saving ndarray data with dimensions (54, 58, 111) to file: c:/Projekty/sim/PARETO_5/output/approximated_ct.nparray\n",
      "INFO:bdfileutils:Saving ndarray data with dimensions (54, 58, 111) to file: c:/Projekty/sim/PARETO_5/output/roi_marks.nparray\n",
      "INFO:bdfileutils:Saving ndarray data with dimensions (54, 58, 111) to file: c:/Projekty/sim/PARETO_5/output/roi_marks_BODY.nparray\n",
      "INFO:bdfileutils:Saving ndarray data with dimensions (54, 58, 111) to file: c:/Projekty/sim/PARETO_5/output/roi_marks_NT.nparray\n",
      "INFO:bdfileutils:Saving ndarray data with dimensions (54, 58, 111) to file: c:/Projekty/sim/PARETO_5/output/roi_marks_zuchwa.nparray\n",
      "INFO:bdfileutils:Saving ndarray data with dimensions (54, 58, 111) to file: c:/Projekty/sim/PARETO_5/output/roi_marks_slinianka P.nparray\n",
      "INFO:bdfileutils:Saving ndarray data with dimensions (54, 58, 111) to file: c:/Projekty/sim/PARETO_5/output/roi_marks_slinianka L.nparray\n",
      "INFO:bdfileutils:Saving ndarray data with dimensions (54, 58, 111) to file: c:/Projekty/sim/PARETO_5/output/roi_marks_rdzen kreg.+3mm.nparray\n",
      "INFO:bdfileutils:Saving ndarray data with dimensions (54, 58, 111) to file: c:/Projekty/sim/PARETO_5/output/roi_marks_pien mozgu.nparray\n",
      "INFO:bdfileutils:Saving ndarray data with dimensions (54, 58, 111) to file: c:/Projekty/sim/PARETO_5/output/roi_marks_pien mozgu+3mm.nparray\n",
      "INFO:bdfileutils:Saving ndarray data with dimensions (54, 58, 111) to file: c:/Projekty/sim/PARETO_5/output/roi_marks_PTV54.nparray\n",
      "INFO:bdfileutils:Saving ndarray data with dimensions (54, 58, 111) to file: c:/Projekty/sim/PARETO_5/output/roi_marks_PTV60.nparray\n",
      "INFO:bdfileutils:Saving ndarray data with dimensions (54, 58, 111) to file: c:/Projekty/sim/PARETO_5/output/roi_marks_PTV66.nparray\n",
      "INFO:bdfileutils:Saving ndarray data with dimensions (54, 58, 111) to file: c:/Projekty/sim/PARETO_5/output/roi_marks_rdzen kreg..nparray\n",
      "INFO:bdfileutils:Saving ndarray data with dimensions (54, 58, 111) to file: c:/Projekty/sim/PARETO_5/output/total_doses.nparray\n"
     ]
    },
    {
     "name": "stdout",
     "output_type": "stream",
     "text": [
      "BODY[1].size() = 94644.0\n",
      "NT[2].size() = 54963.0\n",
      "zuchwa[4].size() = 789.0\n",
      "slinianka P[8].size() = 191.0\n",
      "slinianka L[16].size() = 205.0\n",
      "rdzen kreg.+3mm[32].size() = 989.0\n",
      "pien mozgu[64].size() = 154.0\n",
      "pien mozgu+3mm[128].size() = 270.0\n",
      "PTV54[256].size() = 2881.0\n",
      "PTV60[512].size() = 3161.0\n",
      "PTV66[1024].size() = 481.0\n",
      "rdzen kreg.[2048].size() = 453.0\n"
     ]
    }
   ],
   "source": [
    "args = lambda x: x\n",
    "args.root_folder=\"c:/Projekty/sim/PARETO_5\"\n",
    "bd4cnn.bd4cnn.do_run(args)"
   ]
  },
  {
   "cell_type": "code",
   "execution_count": 10,
   "metadata": {},
   "outputs": [],
   "source": [
    "import bdfileutils"
   ]
  },
  {
   "cell_type": "code",
   "execution_count": 70,
   "metadata": {},
   "outputs": [
    {
     "name": "stderr",
     "output_type": "stream",
     "text": [
      "INFO:bdfileutils:Reading ndarray data from file: c:/Projekty/sim/PARETO_5/output/roi_marks.nparray\n",
      "INFO:bdfileutils:The ndarray data has shape: [54, 58, 111]\n"
     ]
    }
   ],
   "source": [
    "r = bdfileutils.read_ndarray('c:/Projekty/sim/PARETO_5/output/roi_marks.nparray', dtype=np.int64)"
   ]
  },
  {
   "cell_type": "code",
   "execution_count": 72,
   "metadata": {},
   "outputs": [
    {
     "name": "stderr",
     "output_type": "stream",
     "text": [
      "INFO:bdfileutils:Reading ndarray data from file: c:/Projekty/sim/PARETO_5/output/approximated_ct.nparray\n",
      "INFO:bdfileutils:The ndarray data has shape: [54, 58, 111]\n"
     ]
    }
   ],
   "source": [
    "ct = bdfileutils.read_ndarray('c:/Projekty/sim/PARETO_5/output/approximated_ct.nparray', dtype=np.float32)"
   ]
  },
  {
   "cell_type": "code",
   "execution_count": 76,
   "metadata": {},
   "outputs": [
    {
     "data": {
      "text/plain": [
       "<matplotlib.image.AxesImage at 0x17e4ec16448>"
      ]
     },
     "execution_count": 76,
     "metadata": {},
     "output_type": "execute_result"
    },
    {
     "data": {
      "image/png": "[encoded data removed]",
      "text/plain": [
       "<Figure size 432x288 with 1 Axes>"
      ]
     },
     "metadata": {
      "needs_background": "light"
     },
     "output_type": "display_data"
    }
   ],
   "source": [
    "plt.imshow(ct[1,:,:], cmap=cm.gray)"
   ]
  },
  {
   "cell_type": "code",
   "execution_count": 75,
   "metadata": {},
   "outputs": [],
   "source": [
    "import matplotlib.cm as cm"
   ]
  },
  {
   "cell_type": "code",
   "execution_count": 68,
   "metadata": {},
   "outputs": [
    {
     "name": "stdout",
     "output_type": "stream",
     "text": [
      "{'BODY': 1, 'NT': 2, 'zuchwa': 4, 'slinianka P': 8, 'slinianka L': 16, 'rdzen kreg.+3mm': 32, 'pien mozgu': 64, 'pien mozgu+3mm': 128, 'PTV54': 256, 'PTV60': 512, 'PTV66': 1024, 'rdzen kreg.': 2048}\n"
     ]
    }
   ],
   "source": [
    "roi_names = {}\n",
    "with open('c:/Projekty/sim/PARETO_5/output/roi_mapping.txt') as f:\n",
    "    for line in f:\n",
    "        line = line.strip()\n",
    "        # print(line.split(\":\"))\n",
    "        cols = line.split(\":\")\n",
    "        roi_names[cols[0]] = int(cols[1])\n",
    "print(roi_names)        "
   ]
  },
  {
   "cell_type": "code",
   "execution_count": 80,
   "metadata": {},
   "outputs": [
    {
     "data": {
      "application/vnd.jupyter.widget-view+json": {
       "model_id": "7451f7774cd147a484c26bb41c403e0c",
       "version_major": 2,
       "version_minor": 0
      },
      "text/plain": [
       "interactive(children=(IntSlider(value=26, description='s', max=53), Dropdown(description='roi', options={'BODY…"
      ]
     },
     "metadata": {},
     "output_type": "display_data"
    }
   ],
   "source": [
    "from ipywidgets import interact\n",
    "@interact(s=(0,r.shape[0]-1), roi=roi_names)\n",
    "def d(s, roi):\n",
    "    plt.subplots(1,1,dpi=200)\n",
    "    rp = np.copy(r[s, :, :])\n",
    "    sel = (np.bitwise_and(rp,roi)) == roi\n",
    "    rp[ sel ] = 1\n",
    "    rp[ np.bitwise_not(sel) ] = 0\n",
    "    print(np.max(rp))\n",
    "    plt.imshow(ct[s,:,:], cmap=cm.gray)\n",
    "    plt.imshow( rp, alpha=0.25)"
   ]
  }
 ],
 "metadata": {
  "kernelspec": {
   "display_name": "Python 3",
   "language": "python",
   "name": "python3"
  },
  "language_info": {
   "codemirror_mode": {
    "name": "ipython",
    "version": 3
   },
   "file_extension": ".py",
   "mimetype": "text/x-python",
   "name": "python",
   "nbconvert_exporter": "python",
   "pygments_lexer": "ipython3",
   "version": "3.7.7"
  }
 },
 "nbformat": 4,
 "nbformat_minor": 4
}
