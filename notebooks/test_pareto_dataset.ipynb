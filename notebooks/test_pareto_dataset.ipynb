{
 "cells": [
  {
   "cell_type": "code",
   "execution_count": 1,
   "metadata": {},
   "outputs": [],
   "source": [
    "import numpy as np\n",
    "import matplotlib.pyplot as plt"
   ]
  },
  {
   "cell_type": "code",
   "execution_count": 2,
   "metadata": {},
   "outputs": [
    {
     "output_type": "stream",
     "name": "stdout",
     "text": [
      "Originalny folder: /home/szmurlor/src/bdcalc/notebooks\n/home/szmurlor/src/bdcalc/notebooks\n"
     ]
    }
   ],
   "source": [
    "import os\n",
    "print(f'Originalny folder: {os.getcwd()}')\n",
    "#os.chdir('c:/Projekty/sim/PARETO_5/input/dicom')\n",
    "print(os.getcwd())"
   ]
  },
  {
   "cell_type": "code",
   "execution_count": 3,
   "metadata": {},
   "outputs": [
    {
     "output_type": "stream",
     "name": "stdout",
     "text": [
      "/home/szmurlor/src/bdcalc/src\n"
     ]
    }
   ],
   "source": [
    "# os.chdir('c:/Projekty/bdcalc/src')\n",
    "os.chdir('/home/szmurlor/src/bdcalc/src')\n",
    "print(os.getcwd())"
   ]
  },
  {
   "cell_type": "code",
   "execution_count": 4,
   "metadata": {},
   "outputs": [
    {
     "output_type": "stream",
     "name": "stdout",
     "text": [
      "Current working directory configuration OK.\n"
     ]
    }
   ],
   "source": [
    "import bd4cnn.bd4cnn\n",
    "if \"Beamlets\" in dir (bd4cnn.bd4cnn):\n",
    "    print(\"Current working directory configuration OK.\")\n",
    "else:\n",
    "    print(f\"ERROR! Current working directory configuration wrong: {os.getcwd()}\")\n",
    "    "
   ]
  },
  {
   "cell_type": "code",
   "execution_count": 5,
   "metadata": {},
   "outputs": [],
   "source": [
    "#PATIENT_FOLDER=\"c:/Projekty/sim/PARETO_5\"\n",
    "PATIENT_FOLDER=\"/doses-nfs/sim/1419704\"\n",
    "PATIENT_FOLDER=\"/doses-nfs/sim/527029\""
   ]
  },
  {
   "cell_type": "code",
   "execution_count": 6,
   "metadata": {
    "tags": [
     "outputPrepend"
    ]
   },
   "outputs": [
    {
     "output_type": "stream",
     "name": "stderr",
     "text": [
      ":33:53,323 - bdcalc - INFO - Reading contours for blizna from DICOM\n",
      "INFO:bdcalc:Reading contours for blizna from DICOM\n",
      "dz spacing: 0.30000000000000004 \n",
      "2020-12-30 16:33:53,528 - bdcalc - INFO - Reading contours for watroba-fragment from DICOM\n",
      "INFO:bdcalc:Reading contours for watroba-fragment from DICOM\n",
      "2020-12-30 16:33:53,548 - bdcalc - INFO - Reading contours for suma pluc from DICOM\n",
      "INFO:bdcalc:Reading contours for suma pluc from DICOM\n",
      "dz spacing: 0.30000000000000004 \n",
      "dz spacing: 0.30000000000000004 \n",
      "2020-12-30 16:33:53,912 - bdcalc - INFO - Reading contours for zz_srodek from DICOM\n",
      "INFO:bdcalc:Reading contours for zz_srodek from DICOM\n",
      "2020-12-30 16:33:54,103 - bdcalc - INFO - Reading contours for zz_ptv from DICOM\n",
      "INFO:bdcalc:Reading contours for zz_ptv from DICOM\n",
      "dz spacing: 0.30000000000000004 \n",
      "dz spacing: 0.30000000000000004 \n",
      "2020-12-30 16:33:54,348 - bdcalc - INFO - Reading contours for Ipsilat.lung from DICOM\n",
      "INFO:bdcalc:Reading contours for Ipsilat.lung from DICOM\n",
      "2020-12-30 16:33:54,534 - bdcalc - INFO - Reading contours for serce from DICOM\n",
      "INFO:bdcalc:Reading contours for serce from DICOM\n",
      "dz spacing: 0.30000000000000004 \n",
      "dz spacing: 0.30000000000000004 \n",
      "2020-12-30 16:33:54,730 - bdcalc - INFO - Reading contours for przelyk from DICOM\n",
      "INFO:bdcalc:Reading contours for przelyk from DICOM\n",
      "2020-12-30 16:33:54,764 - bdcalc - INFO - Reading contours for pluco P from DICOM\n",
      "INFO:bdcalc:Reading contours for pluco P from DICOM\n",
      "dz spacing: 0.30000000000000004 \n",
      "dz spacing: 0.30000000000000004 \n",
      "2020-12-30 16:33:54,951 - bdcalc - INFO - Reading contours for pluco L from DICOM\n",
      "INFO:bdcalc:Reading contours for pluco L from DICOM\n",
      "2020-12-30 16:33:55,099 - bdcalc - INFO - Reading contours for kanal kreg.+5mm from DICOM\n",
      "INFO:bdcalc:Reading contours for kanal kreg.+5mm from DICOM\n",
      "dz spacing: 0.30000000000000004 \n",
      "dz spacing: 0.30000000000000004 \n",
      "2020-12-30 16:33:55,196 - bdcalc - INFO - Reading contours for kanal kreg. from DICOM\n",
      "INFO:bdcalc:Reading contours for kanal kreg. from DICOM\n",
      "2020-12-30 16:33:55,282 - bdcalc - INFO - Reading contours for gl.kosci ram. from DICOM\n",
      "INFO:bdcalc:Reading contours for gl.kosci ram. from DICOM\n",
      "2020-12-30 16:33:55,298 - bdcalc - INFO - Reading contours for CouchSurface from DICOM\n",
      "INFO:bdcalc:Reading contours for CouchSurface from DICOM\n",
      "dz spacing: 0.30000000000000004 \n",
      "dz spacing: 0.30000000000000004 \n",
      "dz spacing: 0.30000000000000004 \n",
      "2020-12-30 16:33:56,796 - bdcalc - INFO - Reading contours for CouchInterior from DICOM\n",
      "INFO:bdcalc:Reading contours for CouchInterior from DICOM\n",
      "dz spacing: 0.30000000000000004 \n",
      "2020-12-30 16:33:57,335 - bdcalc - INFO - Reading contours for zz_zdrowa piers from DICOM\n",
      "INFO:bdcalc:Reading contours for zz_zdrowa piers from DICOM\n",
      "dz spacing: 0.30000000000000004 \n",
      "2020-12-30 16:33:57,789 - bdcalc - INFO - Reading contours for zz_zdrowe from DICOM\n",
      "INFO:bdcalc:Reading contours for zz_zdrowe from DICOM\n",
      "dz spacing: 0.30000000000000004 \n",
      "2020-12-30 16:33:58,637 - bdcalc - INFO - Reading contours for zz_obwarz. from DICOM\n",
      "INFO:bdcalc:Reading contours for zz_obwarz. from DICOM\n",
      "dz spacing: 0.30000000000000004 \n",
      "2020-12-30 16:33:58,884 - bdcalc - INFO - Reading contours for Contralat.lung from DICOM\n",
      "INFO:bdcalc:Reading contours for Contralat.lung from DICOM\n",
      "dz spacing: 0.30000000000000004 \n",
      "2020-12-30 16:33:59,410 - bdcalc - INFO - Reading contours for naczynia wienc. from DICOM\n",
      "INFO:bdcalc:Reading contours for naczynia wienc. from DICOM\n",
      "2020-12-30 16:33:59,570 - bdcalc - INFO - Read marking voxels for Patient Outline from cache\n",
      "INFO:bdcalc:Read marking voxels for Patient Outline from cache\n",
      "dz spacing: 0.30000000000000004 \n",
      "dz spacing: 0.30000000000000004 \n",
      "nint = 4489792\n",
      "2020-12-30 16:33:59,660 - bdcalc - INFO - Read marking voxels for wezly all PTV from cache\n",
      "INFO:bdcalc:Read marking voxels for wezly all PTV from cache\n",
      "2020-12-30 16:33:59,727 - bdcalc - INFO - Read marking voxels for wezly all from cache\n",
      "INFO:bdcalc:Read marking voxels for wezly all from cache\n",
      "2020-12-30 16:33:59,793 - bdcalc - INFO - Read marking voxels for ptv from cache\n",
      "INFO:bdcalc:Read marking voxels for ptv from cache\n",
      "nint = 4489792\n",
      "nint = 4489792\n",
      "nint = 4489792\n",
      "2020-12-30 16:33:59,862 - bdcalc - INFO - Read marking voxels for ctv from cache\n",
      "INFO:bdcalc:Read marking voxels for ctv from cache\n",
      "2020-12-30 16:33:59,912 - bdcalc - INFO - Read marking voxels for blizna PTV from cache\n",
      "INFO:bdcalc:Read marking voxels for blizna PTV from cache\n",
      "2020-12-30 16:33:59,936 - bdcalc - INFO - Read marking voxels for blizna from cache\n",
      "INFO:bdcalc:Read marking voxels for blizna from cache\n",
      "2020-12-30 16:33:59,967 - bdcalc - INFO - Read marking voxels for watroba-fragment from cache\n",
      "INFO:bdcalc:Read marking voxels for watroba-fragment from cache\n",
      "2020-12-30 16:34:00,002 - bdcalc - INFO - Read marking voxels for suma pluc from cache\n",
      "INFO:bdcalc:Read marking voxels for suma pluc from cache\n",
      "2020-12-30 16:34:00,027 - bdcalc - INFO - Read marking voxels for zz_srodek from cache\n",
      "INFO:bdcalc:Read marking voxels for zz_srodek from cache\n",
      "nint = 4489792\n",
      "nint = 4489792\n",
      "nint = 4489792\n",
      "nint = 4489792\n",
      "nint = 4489792\n",
      "nint = 4489792\n",
      "nint = 4489792\n",
      "2020-12-30 16:34:00,061 - bdcalc - INFO - Read marking voxels for zz_ptv from cache\n",
      "INFO:bdcalc:Read marking voxels for zz_ptv from cache\n",
      "2020-12-30 16:34:00,095 - bdcalc - INFO - Read marking voxels for Ipsilat.lung from cache\n",
      "INFO:bdcalc:Read marking voxels for Ipsilat.lung from cache\n",
      "2020-12-30 16:34:00,125 - bdcalc - INFO - Read marking voxels for serce from cache\n",
      "INFO:bdcalc:Read marking voxels for serce from cache\n",
      "2020-12-30 16:34:00,154 - bdcalc - INFO - Read marking voxels for przelyk from cache\n",
      "INFO:bdcalc:Read marking voxels for przelyk from cache\n",
      "2020-12-30 16:34:00,184 - bdcalc - INFO - Read marking voxels for pluco P from cache\n",
      "INFO:bdcalc:Read marking voxels for pluco P from cache\n",
      "2020-12-30 16:34:00,216 - bdcalc - INFO - Read marking voxels for pluco L from cache\n",
      "INFO:bdcalc:Read marking voxels for pluco L from cache\n",
      "2020-12-30 16:34:00,242 - bdcalc - INFO - Read marking voxels for kanal kreg.+5mm from cache\n",
      "INFO:bdcalc:Read marking voxels for kanal kreg.+5mm from cache\n",
      "2020-12-30 16:34:00,272 - bdcalc - INFO - Read marking voxels for kanal kreg. from cache\n",
      "INFO:bdcalc:Read marking voxels for kanal kreg. from cache\n",
      "nint = 4489792\n",
      "nint = 4489792\n",
      "nint = 4489792\n",
      "nint = 4489792\n",
      "nint = 4489792\n",
      "nint = 4489792\n",
      "nint = 4489792\n",
      "2020-12-30 16:34:00,298 - bdcalc - INFO - Read marking voxels for gl.kosci ram. from cache\n",
      "INFO:bdcalc:Read marking voxels for gl.kosci ram. from cache\n",
      "2020-12-30 16:34:00,336 - bdcalc - INFO - Read marking voxels for CouchSurface from cache\n",
      "INFO:bdcalc:Read marking voxels for CouchSurface from cache\n",
      "2020-12-30 16:34:00,361 - bdcalc - INFO - Read marking voxels for CouchInterior from cache\n",
      "INFO:bdcalc:Read marking voxels for CouchInterior from cache\n",
      "2020-12-30 16:34:00,393 - bdcalc - INFO - Read marking voxels for zz_zdrowa piers from cache\n",
      "INFO:bdcalc:Read marking voxels for zz_zdrowa piers from cache\n",
      "2020-12-30 16:34:00,452 - bdcalc - INFO - Read marking voxels for zz_zdrowe from cache\n",
      "INFO:bdcalc:Read marking voxels for zz_zdrowe from cache\n",
      "nint = 4489792\n",
      "nint = 4489792\n",
      "nint = 4489792\n",
      "nint = 4489792\n",
      "nint = 4489792\n",
      "nint = 4489792\n",
      "2020-12-30 16:34:00,487 - bdcalc - INFO - Read marking voxels for zz_obwarz. from cache\n",
      "INFO:bdcalc:Read marking voxels for zz_obwarz. from cache\n",
      "2020-12-30 16:34:00,517 - bdcalc - INFO - Read marking voxels for Contralat.lung from cache\n",
      "INFO:bdcalc:Read marking voxels for Contralat.lung from cache\n",
      "2020-12-30 16:34:00,580 - bdcalc - INFO - Read marking voxels for naczynia wienc. from cache\n",
      "INFO:bdcalc:Read marking voxels for naczynia wienc. from cache\n",
      "2020-12-30 16:34:00,613 - bdcalc - INFO - Statistics for      Patient Outline: ID=       1, 1931870 voxels, vol= 37628.5 discrete vol= 36222.6 [cm3]\n",
      "INFO:bdcalc:Statistics for      Patient Outline: ID=       1, 1931870 voxels, vol= 37628.5 discrete vol= 36222.6 [cm3]\n",
      "2020-12-30 16:34:00,616 - bdcalc - INFO - Statistics for        wezly all PTV: ID=       2,   30099 voxels, vol=   495.0 discrete vol=   564.4 [cm3]\n",
      "INFO:bdcalc:Statistics for        wezly all PTV: ID=       2,   30099 voxels, vol=   495.0 discrete vol=   564.4 [cm3]\n",
      "2020-12-30 16:34:00,619 - bdcalc - INFO - Statistics for            wezly all: ID=       4,   18141 voxels, vol=   289.1 discrete vol=   340.1 [cm3]\n",
      "INFO:bdcalc:Statistics for            wezly all: ID=       4,   18141 voxels, vol=   289.1 discrete vol=   340.1 [cm3]\n",
      "2020-12-30 16:34:00,622 - bdcalc - INFO - Statistics for                  ptv: ID=       8,   89518 voxels, vol=  1494.6 discrete vol=  1678.5 [cm3]\n",
      "INFO:bdcalc:Statistics for                  ptv: ID=       8,   89518 voxels, vol=  1494.6 discrete vol=  1678.5 [cm3]\n",
      "2020-12-30 16:34:00,624 - bdcalc - INFO - Statistics for                  ctv: ID=      16,   57947 voxels, vol=   923.1 discrete vol=  1086.5 [cm3]\n",
      "INFO:bdcalc:Statistics for                  ctv: ID=      16,   57947 voxels, vol=   923.1 discrete vol=  1086.5 [cm3]\n",
      "2020-12-30 16:34:00,626 - bdcalc - INFO - Statistics for           blizna PTV: ID=      32,   62484 voxels, vol=  1038.4 discrete vol=  1171.6 [cm3]\n",
      "INFO:bdcalc:Statistics for           blizna PTV: ID=      32,   62484 voxels, vol=  1038.4 discrete vol=  1171.6 [cm3]\n",
      "2020-12-30 16:34:00,628 - bdcalc - INFO - Statistics for               blizna: ID=      64,   39806 voxels, vol=   634.1 discrete vol=   746.4 [cm3]\n",
      "INFO:bdcalc:Statistics for               blizna: ID=      64,   39806 voxels, vol=   634.1 discrete vol=   746.4 [cm3]\n",
      "2020-12-30 16:34:00,631 - bdcalc - INFO - Statistics for     watroba-fragment: ID=     128,   11118 voxels, vol=   186.3 discrete vol=   208.5 [cm3]\n",
      "INFO:bdcalc:Statistics for     watroba-fragment: ID=     128,   11118 voxels, vol=   186.3 discrete vol=   208.5 [cm3]\n",
      "2020-12-30 16:34:00,634 - bdcalc - INFO - Statistics for            suma pluc: ID=     256,   85270 voxels, vol=  2413.4 discrete vol=  1598.8 [cm3]\n",
      "INFO:bdcalc:Statistics for            suma pluc: ID=     256,   85270 voxels, vol=  2413.4 discrete vol=  1598.8 [cm3]\n",
      "2020-12-30 16:34:00,635 - bdcalc - INFO - Statistics for            zz_srodek: ID=     512,   30141 voxels, vol=   478.4 discrete vol=   565.1 [cm3]\n",
      "INFO:bdcalc:Statistics for            zz_srodek: ID=     512,   30141 voxels, vol=   478.4 discrete vol=   565.1 [cm3]\n",
      "2020-12-30 16:34:00,638 - bdcalc - INFO - Statistics for               zz_ptv: ID=    1024,   39699 voxels, vol=  2855.3 discrete vol=   744.4 [cm3]\n",
      "INFO:bdcalc:Statistics for               zz_ptv: ID=    1024,   39699 voxels, vol=  2855.3 discrete vol=   744.4 [cm3]\n",
      "2020-12-30 16:34:00,641 - bdcalc - INFO - Statistics for         Ipsilat.lung: ID=    2048,   84090 voxels, vol=  1465.7 discrete vol=  1576.7 [cm3]\n",
      "INFO:bdcalc:Statistics for         Ipsilat.lung: ID=    2048,   84090 voxels, vol=  1465.7 discrete vol=  1576.7 [cm3]\n",
      "2020-12-30 16:34:00,642 - bdcalc - INFO - Statistics for                serce: ID=    4096,   62210 voxels, vol=  1087.1 discrete vol=  1166.4 [cm3]\n",
      "INFO:bdcalc:Statistics for                serce: ID=    4096,   62210 voxels, vol=  1087.1 discrete vol=  1166.4 [cm3]\n",
      "2020-12-30 16:34:00,644 - bdcalc - INFO - Statistics for              przelyk: ID=    8192,    2354 voxels, vol=    26.1 discrete vol=    44.1 [cm3]\n",
      "INFO:bdcalc:Statistics for              przelyk: ID=    8192,    2354 voxels, vol=    26.1 discrete vol=    44.1 [cm3]\n",
      "2020-12-30 16:34:00,645 - bdcalc - INFO - Statistics for              pluco P: ID=   16384,   84079 voxels, vol=  1465.9 discrete vol=  1576.5 [cm3]\n",
      "INFO:bdcalc:Statistics for              pluco P: ID=   16384,   84079 voxels, vol=  1465.9 discrete vol=  1576.5 [cm3]\n",
      "2020-12-30 16:34:00,649 - bdcalc - INFO - Statistics for              pluco L: ID=   32768,   57159 voxels, vol=   947.5 discrete vol=  1071.7 [cm3]\n",
      "INFO:bdcalc:Statistics for              pluco L: ID=   32768,   57159 voxels, vol=   947.5 discrete vol=  1071.7 [cm3]\n",
      "2020-12-30 16:34:00,651 - bdcalc - INFO - Statistics for      kanal kreg.+5mm: ID=   65536,   14947 voxels, vol=   215.9 discrete vol=   280.3 [cm3]\n",
      "INFO:bdcalc:Statistics for      kanal kreg.+5mm: ID=   65536,   14947 voxels, vol=   215.9 discrete vol=   280.3 [cm3]\n",
      "2020-12-30 16:34:00,652 - bdcalc - INFO - Statistics for          kanal kreg.: ID=  131072,    5692 voxels, vol=    69.5 discrete vol=   106.7 [cm3]\n",
      "INFO:bdcalc:Statistics for          kanal kreg.: ID=  131072,    5692 voxels, vol=    69.5 discrete vol=   106.7 [cm3]\n",
      "2020-12-30 16:34:00,654 - bdcalc - INFO - Statistics for        gl.kosci ram.: ID=  262144,    3514 voxels, vol=    53.9 discrete vol=    65.9 [cm3]\n",
      "INFO:bdcalc:Statistics for        gl.kosci ram.: ID=  262144,    3514 voxels, vol=    53.9 discrete vol=    65.9 [cm3]\n",
      "2020-12-30 16:34:00,655 - bdcalc - INFO - Statistics for         CouchSurface: ID=  524288,   30305 voxels, vol=     0.0 discrete vol=   568.2 [cm3]\n",
      "INFO:bdcalc:Statistics for         CouchSurface: ID=  524288,   30305 voxels, vol=     0.0 discrete vol=   568.2 [cm3]\n",
      "2020-12-30 16:34:00,657 - bdcalc - INFO - Statistics for        CouchInterior: ID= 1048576,   30450 voxels, vol= 13579.9 discrete vol=   570.9 [cm3]\n",
      "INFO:bdcalc:Statistics for        CouchInterior: ID= 1048576,   30450 voxels, vol= 13579.9 discrete vol=   570.9 [cm3]\n",
      "2020-12-30 16:34:00,657 - bdcalc - INFO - Statistics for      zz_zdrowa piers: ID= 2097152,  119139 voxels, vol=  2015.1 discrete vol=  2233.9 [cm3]\n",
      "INFO:bdcalc:Statistics for      zz_zdrowa piers: ID= 2097152,  119139 voxels, vol=  2015.1 discrete vol=  2233.9 [cm3]\n",
      "2020-12-30 16:34:00,659 - bdcalc - INFO - Statistics for            zz_zdrowe: ID= 4194304, 1737484 voxels, vol= 35854.3 discrete vol= 32577.8 [cm3]\n",
      "INFO:bdcalc:Statistics for            zz_zdrowe: ID= 4194304, 1737484 voxels, vol= 35854.3 discrete vol= 32577.8 [cm3]\n",
      "2020-12-30 16:34:00,660 - bdcalc - INFO - Statistics for           zz_obwarz.: ID= 8388608,   72372 voxels, vol=  2202.6 discrete vol=  1357.0 [cm3]\n",
      "INFO:bdcalc:Statistics for           zz_obwarz.: ID= 8388608,   72372 voxels, vol=  2202.6 discrete vol=  1357.0 [cm3]\n",
      "2020-12-30 16:34:00,662 - bdcalc - INFO - Statistics for       Contralat.lung: ID=16777216,   57173 voxels, vol=   947.2 discrete vol=  1072.0 [cm3]\n",
      "INFO:bdcalc:Statistics for       Contralat.lung: ID=16777216,   57173 voxels, vol=   947.2 discrete vol=  1072.0 [cm3]\n",
      "2020-12-30 16:34:00,665 - bdcalc - INFO - Statistics for      naczynia wienc.: ID=33554432,    9496 voxels, vol=   120.1 discrete vol=   178.1 [cm3]\n",
      "INFO:bdcalc:Statistics for      naczynia wienc.: ID=33554432,    9496 voxels, vol=   120.1 discrete vol=   178.1 [cm3]\n",
      "nint = 4489792\n",
      "nint = 4489792\n",
      "PLAAAAAAAAAAAAAAAAAAAAAAAAN Spacing: (0.25, 0.25, 0.30000000000000004)\n",
      "PLAAAAAAAAAAAAAAAAAAAAAAAAN Origin: (-31.45731593, -38.02203351, -40.150000000000006)\n",
      "GRIIIIIIIIIIIIIIIIIIIIIIIID Spacing: (1.6015625, 1.6015625, 1.5)\n",
      "GRIIIIIIIIIIIIIIIIIIIIIIIID Origin: (-409.19921875, -624.19921875, -401.5)\n",
      "Approximating CT (512 x 512 x 290) grid over Planning Grid (248 x 124 x 146) ...\n",
      "2020-12-30 16:34:04,470 - bdcalc - DEBUG - Created a long array with 4489792 points\n",
      "DEBUG:bdcalc:Created a long array with 4489792 points\n",
      "Patient Outline[1].size() = 1931870.0\n",
      "wezly all PTV[2].size() = 30099.0\n",
      "wezly all[4].size() = 18141.0\n",
      "ptv[8].size() = 89518.0\n",
      "ctv[16].size() = 57947.0\n",
      "blizna PTV[32].size() = 62484.0\n",
      "blizna[64].size() = 39806.0\n",
      "watroba-fragment[128].size() = 11118.0\n",
      "suma pluc[256].size() = 85270.0\n",
      "zz_srodek[512].size() = 30141.0\n",
      "zz_ptv[1024].size() = 39699.0\n",
      "Ipsilat.lung[2048].size() = 84090.0\n",
      "serce[4096].size() = 62210.0\n",
      "przelyk[8192].size() = 2354.0\n",
      "pluco P[16384].size() = 84079.0\n",
      "pluco L[32768].size() = 57159.0\n",
      "kanal kreg.+5mm[65536].size() = 14947.0\n",
      "kanal kreg.[131072].size() = 5692.0\n",
      "gl.kosci ram.[262144].size() = 3514.0\n",
      "CouchSurface[524288].size() = 30305.0\n",
      "CouchInterior[1048576].size() = 30450.0\n",
      "zz_zdrowa piers[2097152].size() = 119139.0\n",
      "zz_zdrowe[4194304].size() = 1737484.0\n",
      "zz_obwarz.[8388608].size() = 72372.0\n",
      "INFO:bdfileutils:Saving ndarray data with dimensions (146, 124, 248) to file: /doses-nfs/sim/527029/output/approximated_ct.nparray\n",
      "INFO:bdfileutils:Saving ndarray data with dimensions (146, 124, 248) to file: /doses-nfs/sim/527029/output/roi_marks.nparray\n",
      "Contralat.lung[16777216].size() = 57173.0\n",
      "naczynia wienc.[33554432].size() = 9496.0\n",
      "INFO:bdfileutils:Saving ndarray data with dimensions (146, 124, 248) to file: /doses-nfs/sim/527029/output/roi_marks_Patient Outline.nparray\n",
      "INFO:bdfileutils:Saving ndarray data with dimensions (146, 124, 248) to file: /doses-nfs/sim/527029/output/roi_marks_wezly all PTV.nparray\n",
      "INFO:bdfileutils:Saving ndarray data with dimensions (146, 124, 248) to file: /doses-nfs/sim/527029/output/roi_marks_wezly all.nparray\n",
      "INFO:bdfileutils:Saving ndarray data with dimensions (146, 124, 248) to file: /doses-nfs/sim/527029/output/roi_marks_ptv.nparray\n",
      "INFO:bdfileutils:Saving ndarray data with dimensions (146, 124, 248) to file: /doses-nfs/sim/527029/output/roi_marks_ctv.nparray\n",
      "INFO:bdfileutils:Saving ndarray data with dimensions (146, 124, 248) to file: /doses-nfs/sim/527029/output/roi_marks_blizna PTV.nparray\n",
      "INFO:bdfileutils:Saving ndarray data with dimensions (146, 124, 248) to file: /doses-nfs/sim/527029/output/roi_marks_blizna.nparray\n",
      "INFO:bdfileutils:Saving ndarray data with dimensions (146, 124, 248) to file: /doses-nfs/sim/527029/output/roi_marks_watroba-fragment.nparray\n",
      "INFO:bdfileutils:Saving ndarray data with dimensions (146, 124, 248) to file: /doses-nfs/sim/527029/output/roi_marks_suma pluc.nparray\n",
      "INFO:bdfileutils:Saving ndarray data with dimensions (146, 124, 248) to file: /doses-nfs/sim/527029/output/roi_marks_zz_srodek.nparray\n",
      "INFO:bdfileutils:Saving ndarray data with dimensions (146, 124, 248) to file: /doses-nfs/sim/527029/output/roi_marks_zz_ptv.nparray\n",
      "INFO:bdfileutils:Saving ndarray data with dimensions (146, 124, 248) to file: /doses-nfs/sim/527029/output/roi_marks_Ipsilat.lung.nparray\n",
      "INFO:bdfileutils:Saving ndarray data with dimensions (146, 124, 248) to file: /doses-nfs/sim/527029/output/roi_marks_serce.nparray\n",
      "INFO:bdfileutils:Saving ndarray data with dimensions (146, 124, 248) to file: /doses-nfs/sim/527029/output/roi_marks_przelyk.nparray\n",
      "INFO:bdfileutils:Saving ndarray data with dimensions (146, 124, 248) to file: /doses-nfs/sim/527029/output/roi_marks_pluco P.nparray\n",
      "INFO:bdfileutils:Saving ndarray data with dimensions (146, 124, 248) to file: /doses-nfs/sim/527029/output/roi_marks_pluco L.nparray\n",
      "INFO:bdfileutils:Saving ndarray data with dimensions (146, 124, 248) to file: /doses-nfs/sim/527029/output/roi_marks_kanal kreg.+5mm.nparray\n",
      "INFO:bdfileutils:Saving ndarray data with dimensions (146, 124, 248) to file: /doses-nfs/sim/527029/output/roi_marks_kanal kreg..nparray\n",
      "INFO:bdfileutils:Saving ndarray data with dimensions (146, 124, 248) to file: /doses-nfs/sim/527029/output/roi_marks_gl.kosci ram..nparray\n",
      "INFO:bdfileutils:Saving ndarray data with dimensions (146, 124, 248) to file: /doses-nfs/sim/527029/output/roi_marks_CouchSurface.nparray\n",
      "INFO:bdfileutils:Saving ndarray data with dimensions (146, 124, 248) to file: /doses-nfs/sim/527029/output/roi_marks_CouchInterior.nparray\n",
      "INFO:bdfileutils:Saving ndarray data with dimensions (146, 124, 248) to file: /doses-nfs/sim/527029/output/roi_marks_zz_zdrowa piers.nparray\n",
      "INFO:bdfileutils:Saving ndarray data with dimensions (146, 124, 248) to file: /doses-nfs/sim/527029/output/roi_marks_zz_zdrowe.nparray\n",
      "INFO:bdfileutils:Saving ndarray data with dimensions (146, 124, 248) to file: /doses-nfs/sim/527029/output/roi_marks_zz_obwarz..nparray\n",
      "INFO:bdfileutils:Saving ndarray data with dimensions (146, 124, 248) to file: /doses-nfs/sim/527029/output/roi_marks_Contralat.lung.nparray\n",
      "INFO:bdfileutils:Saving ndarray data with dimensions (146, 124, 248) to file: /doses-nfs/sim/527029/output/roi_marks_naczynia wienc..nparray\n",
      "INFO:bdfileutils:Saving ndarray data with dimensions (146, 124, 248) to file: /doses-nfs/sim/527029/output/total_doses.nparray\n"
     ]
    }
   ],
   "source": [
    "args = lambda x: x\n",
    "args.root_folder=PATIENT_FOLDER\n",
    "bd4cnn.bd4cnn.do_run(args)"
   ]
  },
  {
   "cell_type": "code",
   "execution_count": 7,
   "metadata": {},
   "outputs": [],
   "source": [
    "import bdfileutils"
   ]
  },
  {
   "cell_type": "code",
   "execution_count": 8,
   "metadata": {},
   "outputs": [
    {
     "output_type": "stream",
     "name": "stderr",
     "text": [
      "INFO:bdfileutils:Reading ndarray data from file: /doses-nfs/sim/527029/output/roi_marks.nparray\n",
      "INFO:bdfileutils:The ndarray data has shape: [146, 124, 248]\n"
     ]
    }
   ],
   "source": [
    "r = bdfileutils.read_ndarray(f'{PATIENT_FOLDER}/output/roi_marks.nparray', dtype=np.int64)"
   ]
  },
  {
   "cell_type": "code",
   "execution_count": 9,
   "metadata": {},
   "outputs": [
    {
     "output_type": "stream",
     "name": "stderr",
     "text": [
      "INFO:bdfileutils:Reading ndarray data from file: /doses-nfs/sim/527029/output/approximated_ct.nparray\n",
      "INFO:bdfileutils:The ndarray data has shape: [146, 124, 248]\n"
     ]
    }
   ],
   "source": [
    "ct = bdfileutils.read_ndarray(f'{PATIENT_FOLDER}/output/approximated_ct.nparray', dtype=np.float32)"
   ]
  },
  {
   "cell_type": "code",
   "execution_count": 10,
   "metadata": {},
   "outputs": [
    {
     "output_type": "display_data",
     "data": {
      "text/plain": "interactive(children=(IntSlider(value=72, description='s', max=145), Output()), _dom_classes=('widget-interact…",
      "application/vnd.jupyter.widget-view+json": {
       "version_major": 2,
       "version_minor": 0,
       "model_id": "7f6204ae95bb461ea08a8f60e7f5a581"
      }
     },
     "metadata": {}
    }
   ],
   "source": [
    "import matplotlib.cm as cm\n",
    "from ipywidgets import interact\n",
    "@interact(s=(0,ct.shape[0]-1))\n",
    "def f(s):\n",
    "    plt.imshow(ct[s,:,:], cmap=cm.gray)"
   ]
  },
  {
   "cell_type": "code",
   "execution_count": 11,
   "metadata": {},
   "outputs": [
    {
     "output_type": "stream",
     "name": "stdout",
     "text": [
      "{'Patient Outline': 1, 'wezly all PTV': 2, 'wezly all': 4, 'ptv': 8, 'ctv': 16, 'blizna PTV': 32, 'blizna': 64, 'watroba-fragment': 128, 'suma pluc': 256, 'zz_srodek': 512, 'zz_ptv': 1024, 'Ipsilat.lung': 2048, 'serce': 4096, 'przelyk': 8192, 'pluco P': 16384, 'pluco L': 32768, 'kanal kreg.+5mm': 65536, 'kanal kreg.': 131072, 'gl.kosci ram.': 262144, 'CouchSurface': 524288, 'CouchInterior': 1048576, 'zz_zdrowa piers': 2097152, 'zz_zdrowe': 4194304, 'zz_obwarz.': 8388608, 'Contralat.lung': 16777216, 'naczynia wienc.': 33554432}\n"
     ]
    }
   ],
   "source": [
    "roi_names = {}\n",
    "with open(f'{PATIENT_FOLDER}/output/roi_mapping.txt') as f:\n",
    "    for line in f:\n",
    "        line = line.strip()\n",
    "        # print(line.split(\":\"))\n",
    "        cols = line.split(\":\")\n",
    "        roi_names[cols[0]] = int(cols[1])\n",
    "print(roi_names)        "
   ]
  },
  {
   "cell_type": "code",
   "execution_count": 12,
   "metadata": {},
   "outputs": [
    {
     "output_type": "display_data",
     "data": {
      "text/plain": "interactive(children=(IntSlider(value=72, description='s', max=145), Dropdown(description='roi', options={'Pat…",
      "application/vnd.jupyter.widget-view+json": {
       "version_major": 2,
       "version_minor": 0,
       "model_id": "784b9370a3c74019b3ef51ef1c492c4a"
      }
     },
     "metadata": {}
    }
   ],
   "source": [
    "from ipywidgets import interact\n",
    "@interact(s=(0,r.shape[0]-1), roi=roi_names)\n",
    "def d(s, roi):\n",
    "    plt.subplots(1,1,dpi=200)\n",
    "    rp = np.copy(r[s, :, :])\n",
    "    sel = (np.bitwise_and(rp,roi)) == roi\n",
    "    rp[ sel ] = 1\n",
    "    rp[ np.bitwise_not(sel) ] = 0\n",
    "    print(np.max(rp))\n",
    "    plt.imshow(ct[s,:,:], cmap=cm.gray)\n",
    "    plt.imshow( rp, alpha=0.55)"
   ]
  }
 ],
 "metadata": {
  "kernelspec": {
   "display_name": "Python 3",
   "language": "python",
   "name": "python3"
  },
  "language_info": {
   "codemirror_mode": {
    "name": "ipython",
    "version": 3
   },
   "file_extension": ".py",
   "mimetype": "text/x-python",
   "name": "python",
   "nbconvert_exporter": "python",
   "pygments_lexer": "ipython3",
   "version": "3.7.9-final"
  }
 },
 "nbformat": 4,
 "nbformat_minor": 4
}