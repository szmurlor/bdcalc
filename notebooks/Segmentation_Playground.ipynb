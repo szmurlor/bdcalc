{
 "cells": [
  {
   "cell_type": "code",
   "execution_count": 6,
   "metadata": {},
   "outputs": [],
   "source": [
    "import matplotlib.pyplot as plt\n",
    "import matplotlib.patches as patches\n",
    "import numpy as np\n",
    "import pydicom\n",
    "from matplotlib.path import Path\n",
    "import matplotlib\n",
    "from ipywidgets import interact"
   ]
  },
  {
   "cell_type": "code",
   "execution_count": 3,
   "metadata": {},
   "outputs": [],
   "source": [
    "ct = pydicom.read_file(\"/doses-nfs/sim/pacjent_5/input/dicom/CT.1.3.6.1.4.1.5962.99.1.852607806.1602090335.1504091194174.100.0.dcm\")"
   ]
  },
  {
   "cell_type": "code",
   "execution_count": 6,
   "metadata": {},
   "outputs": [],
   "source": [
    "#dir(ct)"
   ]
  },
  {
   "cell_type": "code",
   "execution_count": 126,
   "metadata": {},
   "outputs": [
    {
     "data": {
      "text/plain": [
       "'1.3.6.1.4.1.5962.99.1.852607806.1602090335.1504091194174.100.0'"
      ]
     },
     "execution_count": 126,
     "metadata": {},
     "output_type": "execute_result"
    }
   ],
   "source": [
    "ct.SOPInstanceUID"
   ]
  },
  {
   "cell_type": "code",
   "execution_count": 121,
   "metadata": {},
   "outputs": [
    {
     "name": "stdout",
     "output_type": "stream",
     "text": [
      "CT.1.3.6.1.4.1.5962.99.1.852607806.1602090335.1504091194174.100.0.dcm\n",
      "CT.1.3.6.1.4.1.5962.99.1.852607806.1602090335.1504091194174.101.0.dcm\n",
      "CT.1.3.6.1.4.1.5962.99.1.852607806.1602090335.1504091194174.102.0.dcm\n",
      "CT.1.3.6.1.4.1.5962.99.1.852607806.1602090335.1504091194174.103.0.dcm\n",
      "CT.1.3.6.1.4.1.5962.99.1.852607806.1602090335.1504091194174.104.0.dcm\n",
      "CT.1.3.6.1.4.1.5962.99.1.852607806.1602090335.1504091194174.105.0.dcm\n",
      "CT.1.3.6.1.4.1.5962.99.1.852607806.1602090335.1504091194174.106.0.dcm\n",
      "CT.1.3.6.1.4.1.5962.99.1.852607806.1602090335.1504091194174.107.0.dcm\n",
      "CT.1.3.6.1.4.1.5962.99.1.852607806.1602090335.1504091194174.108.0.dcm\n",
      "CT.1.3.6.1.4.1.5962.99.1.852607806.1602090335.1504091194174.109.0.dcm\n",
      "CT.1.3.6.1.4.1.5962.99.1.852607806.1602090335.1504091194174.110.0.dcm\n",
      "CT.1.3.6.1.4.1.5962.99.1.852607806.1602090335.1504091194174.111.0.dcm\n",
      "CT.1.3.6.1.4.1.5962.99.1.852607806.1602090335.1504091194174.112.0.dcm\n",
      "CT.1.3.6.1.4.1.5962.99.1.852607806.1602090335.1504091194174.113.0.dcm\n",
      "CT.1.3.6.1.4.1.5962.99.1.852607806.1602090335.1504091194174.114.0.dcm\n",
      "CT.1.3.6.1.4.1.5962.99.1.852607806.1602090335.1504091194174.115.0.dcm\n",
      "CT.1.3.6.1.4.1.5962.99.1.852607806.1602090335.1504091194174.116.0.dcm\n",
      "CT.1.3.6.1.4.1.5962.99.1.852607806.1602090335.1504091194174.117.0.dcm\n",
      "CT.1.3.6.1.4.1.5962.99.1.852607806.1602090335.1504091194174.118.0.dcm\n",
      "CT.1.3.6.1.4.1.5962.99.1.852607806.1602090335.1504091194174.119.0.dcm\n",
      "CT.1.3.6.1.4.1.5962.99.1.852607806.1602090335.1504091194174.120.0.dcm\n",
      "CT.1.3.6.1.4.1.5962.99.1.852607806.1602090335.1504091194174.121.0.dcm\n",
      "CT.1.3.6.1.4.1.5962.99.1.852607806.1602090335.1504091194174.122.0.dcm\n",
      "CT.1.3.6.1.4.1.5962.99.1.852607806.1602090335.1504091194174.123.0.dcm\n",
      "CT.1.3.6.1.4.1.5962.99.1.852607806.1602090335.1504091194174.124.0.dcm\n",
      "CT.1.3.6.1.4.1.5962.99.1.852607806.1602090335.1504091194174.125.0.dcm\n",
      "CT.1.3.6.1.4.1.5962.99.1.852607806.1602090335.1504091194174.126.0.dcm\n",
      "CT.1.3.6.1.4.1.5962.99.1.852607806.1602090335.1504091194174.127.0.dcm\n",
      "CT.1.3.6.1.4.1.5962.99.1.852607806.1602090335.1504091194174.128.0.dcm\n",
      "CT.1.3.6.1.4.1.5962.99.1.852607806.1602090335.1504091194174.129.0.dcm\n",
      "CT.1.3.6.1.4.1.5962.99.1.852607806.1602090335.1504091194174.130.0.dcm\n",
      "CT.1.3.6.1.4.1.5962.99.1.852607806.1602090335.1504091194174.131.0.dcm\n",
      "CT.1.3.6.1.4.1.5962.99.1.852607806.1602090335.1504091194174.132.0.dcm\n",
      "CT.1.3.6.1.4.1.5962.99.1.852607806.1602090335.1504091194174.133.0.dcm\n",
      "CT.1.3.6.1.4.1.5962.99.1.852607806.1602090335.1504091194174.134.0.dcm\n",
      "CT.1.3.6.1.4.1.5962.99.1.852607806.1602090335.1504091194174.135.0.dcm\n",
      "CT.1.3.6.1.4.1.5962.99.1.852607806.1602090335.1504091194174.136.0.dcm\n",
      "CT.1.3.6.1.4.1.5962.99.1.852607806.1602090335.1504091194174.137.0.dcm\n",
      "CT.1.3.6.1.4.1.5962.99.1.852607806.1602090335.1504091194174.138.0.dcm\n",
      "CT.1.3.6.1.4.1.5962.99.1.852607806.1602090335.1504091194174.139.0.dcm\n",
      "CT.1.3.6.1.4.1.5962.99.1.852607806.1602090335.1504091194174.140.0.dcm\n",
      "CT.1.3.6.1.4.1.5962.99.1.852607806.1602090335.1504091194174.141.0.dcm\n",
      "CT.1.3.6.1.4.1.5962.99.1.852607806.1602090335.1504091194174.142.0.dcm\n",
      "CT.1.3.6.1.4.1.5962.99.1.852607806.1602090335.1504091194174.143.0.dcm\n",
      "CT.1.3.6.1.4.1.5962.99.1.852607806.1602090335.1504091194174.144.0.dcm\n",
      "CT.1.3.6.1.4.1.5962.99.1.852607806.1602090335.1504091194174.145.0.dcm\n",
      "CT.1.3.6.1.4.1.5962.99.1.852607806.1602090335.1504091194174.146.0.dcm\n",
      "CT.1.3.6.1.4.1.5962.99.1.852607806.1602090335.1504091194174.147.0.dcm\n",
      "CT.1.3.6.1.4.1.5962.99.1.852607806.1602090335.1504091194174.148.0.dcm\n",
      "CT.1.3.6.1.4.1.5962.99.1.852607806.1602090335.1504091194174.149.0.dcm\n",
      "CT.1.3.6.1.4.1.5962.99.1.852607806.1602090335.1504091194174.150.0.dcm\n",
      "CT.1.3.6.1.4.1.5962.99.1.852607806.1602090335.1504091194174.151.0.dcm\n",
      "CT.1.3.6.1.4.1.5962.99.1.852607806.1602090335.1504091194174.152.0.dcm\n",
      "CT.1.3.6.1.4.1.5962.99.1.852607806.1602090335.1504091194174.153.0.dcm\n",
      "CT.1.3.6.1.4.1.5962.99.1.852607806.1602090335.1504091194174.154.0.dcm\n",
      "CT.1.3.6.1.4.1.5962.99.1.852607806.1602090335.1504091194174.155.0.dcm\n",
      "CT.1.3.6.1.4.1.5962.99.1.852607806.1602090335.1504091194174.156.0.dcm\n",
      "CT.1.3.6.1.4.1.5962.99.1.852607806.1602090335.1504091194174.157.0.dcm\n",
      "CT.1.3.6.1.4.1.5962.99.1.852607806.1602090335.1504091194174.158.0.dcm\n",
      "CT.1.3.6.1.4.1.5962.99.1.852607806.1602090335.1504091194174.159.0.dcm\n",
      "CT.1.3.6.1.4.1.5962.99.1.852607806.1602090335.1504091194174.160.0.dcm\n",
      "CT.1.3.6.1.4.1.5962.99.1.852607806.1602090335.1504091194174.161.0.dcm\n",
      "CT.1.3.6.1.4.1.5962.99.1.852607806.1602090335.1504091194174.162.0.dcm\n",
      "CT.1.3.6.1.4.1.5962.99.1.852607806.1602090335.1504091194174.163.0.dcm\n",
      "CT.1.3.6.1.4.1.5962.99.1.852607806.1602090335.1504091194174.164.0.dcm\n",
      "CT.1.3.6.1.4.1.5962.99.1.852607806.1602090335.1504091194174.165.0.dcm\n",
      "CT.1.3.6.1.4.1.5962.99.1.852607806.1602090335.1504091194174.166.0.dcm\n",
      "CT.1.3.6.1.4.1.5962.99.1.852607806.1602090335.1504091194174.167.0.dcm\n",
      "CT.1.3.6.1.4.1.5962.99.1.852607806.1602090335.1504091194174.168.0.dcm\n",
      "CT.1.3.6.1.4.1.5962.99.1.852607806.1602090335.1504091194174.169.0.dcm\n",
      "CT.1.3.6.1.4.1.5962.99.1.852607806.1602090335.1504091194174.170.0.dcm\n",
      "CT.1.3.6.1.4.1.5962.99.1.852607806.1602090335.1504091194174.171.0.dcm\n",
      "CT.1.3.6.1.4.1.5962.99.1.852607806.1602090335.1504091194174.172.0.dcm\n",
      "CT.1.3.6.1.4.1.5962.99.1.852607806.1602090335.1504091194174.173.0.dcm\n",
      "CT.1.3.6.1.4.1.5962.99.1.852607806.1602090335.1504091194174.174.0.dcm\n",
      "CT.1.3.6.1.4.1.5962.99.1.852607806.1602090335.1504091194174.175.0.dcm\n",
      "CT.1.3.6.1.4.1.5962.99.1.852607806.1602090335.1504091194174.176.0.dcm\n",
      "CT.1.3.6.1.4.1.5962.99.1.852607806.1602090335.1504091194174.177.0.dcm\n",
      "CT.1.3.6.1.4.1.5962.99.1.852607806.1602090335.1504091194174.178.0.dcm\n",
      "CT.1.3.6.1.4.1.5962.99.1.852607806.1602090335.1504091194174.179.0.dcm\n",
      "CT.1.3.6.1.4.1.5962.99.1.852607806.1602090335.1504091194174.180.0.dcm\n",
      "CT.1.3.6.1.4.1.5962.99.1.852607806.1602090335.1504091194174.181.0.dcm\n",
      "CT.1.3.6.1.4.1.5962.99.1.852607806.1602090335.1504091194174.182.0.dcm\n",
      "CT.1.3.6.1.4.1.5962.99.1.852607806.1602090335.1504091194174.183.0.dcm\n",
      "CT.1.3.6.1.4.1.5962.99.1.852607806.1602090335.1504091194174.184.0.dcm\n",
      "CT.1.3.6.1.4.1.5962.99.1.852607806.1602090335.1504091194174.185.0.dcm\n",
      "CT.1.3.6.1.4.1.5962.99.1.852607806.1602090335.1504091194174.186.0.dcm\n",
      "CT.1.3.6.1.4.1.5962.99.1.852607806.1602090335.1504091194174.187.0.dcm\n",
      "CT.1.3.6.1.4.1.5962.99.1.852607806.1602090335.1504091194174.188.0.dcm\n",
      "CT.1.3.6.1.4.1.5962.99.1.852607806.1602090335.1504091194174.189.0.dcm\n",
      "CT.1.3.6.1.4.1.5962.99.1.852607806.1602090335.1504091194174.190.0.dcm\n",
      "CT.1.3.6.1.4.1.5962.99.1.852607806.1602090335.1504091194174.191.0.dcm\n",
      "CT.1.3.6.1.4.1.5962.99.1.852607806.1602090335.1504091194174.192.0.dcm\n",
      "CT.1.3.6.1.4.1.5962.99.1.852607806.1602090335.1504091194174.193.0.dcm\n",
      "CT.1.3.6.1.4.1.5962.99.1.852607806.1602090335.1504091194174.194.0.dcm\n",
      "CT.1.3.6.1.4.1.5962.99.1.852607806.1602090335.1504091194174.195.0.dcm\n",
      "CT.1.3.6.1.4.1.5962.99.1.852607806.1602090335.1504091194174.89.0.dcm\n",
      "CT.1.3.6.1.4.1.5962.99.1.852607806.1602090335.1504091194174.90.0.dcm\n",
      "CT.1.3.6.1.4.1.5962.99.1.852607806.1602090335.1504091194174.91.0.dcm\n",
      "CT.1.3.6.1.4.1.5962.99.1.852607806.1602090335.1504091194174.92.0.dcm\n",
      "CT.1.3.6.1.4.1.5962.99.1.852607806.1602090335.1504091194174.93.0.dcm\n",
      "CT.1.3.6.1.4.1.5962.99.1.852607806.1602090335.1504091194174.94.0.dcm\n",
      "CT.1.3.6.1.4.1.5962.99.1.852607806.1602090335.1504091194174.95.0.dcm\n",
      "CT.1.3.6.1.4.1.5962.99.1.852607806.1602090335.1504091194174.96.0.dcm\n",
      "CT.1.3.6.1.4.1.5962.99.1.852607806.1602090335.1504091194174.97.0.dcm\n",
      "CT.1.3.6.1.4.1.5962.99.1.852607806.1602090335.1504091194174.98.0.dcm\n",
      "CT.1.3.6.1.4.1.5962.99.1.852607806.1602090335.1504091194174.99.0.dcm\n",
      "RD.1.2.246.352.71.7.59109062985.6240060.20170830160733.dcm\n",
      "RD.1.2.246.352.71.7.59109062985.6240231.20170830160733.dcm\n",
      "RD.1.2.246.352.71.7.59109062985.6240232.20170830160733.dcm\n",
      "RD.1.2.246.352.71.7.59109062985.6240233.20170830160733.dcm\n",
      "RD.1.2.246.352.71.7.59109062985.6240234.20170830160733.dcm\n",
      "RD.1.2.246.352.71.7.59109062985.6240235.20170830160733.dcm\n",
      "RD.1.2.246.352.71.7.59109062985.6240236.20170830160733.dcm\n",
      "RD.1.2.246.352.71.7.59109062985.6240237.20170830160733.dcm\n",
      "RD.1.2.246.352.71.7.59109062985.6240238.20170830160733.dcm\n",
      "RD.1.2.246.352.71.7.59109062985.6240309.20170830160733.dcm\n",
      "RP.1.2.246.352.71.5.59109062985.2917449.20170830153828.dcm\n",
      "RS.1.2.246.352.205.5438954218386416801.8699273283688404648.dcm\n"
     ]
    }
   ],
   "source": [
    "!ls \"/doses-nfs/sim/pacjent_5/input/dicom/\""
   ]
  },
  {
   "cell_type": "code",
   "execution_count": 2,
   "metadata": {},
   "outputs": [],
   "source": [
    "rs = pydicom.read_file(\"/doses-nfs/sim/pacjent_5/input/dicom/RS.1.2.246.352.205.5438954218386416801.8699273283688404648.dcm\")"
   ]
  },
  {
   "cell_type": "code",
   "execution_count": 9,
   "metadata": {},
   "outputs": [
    {
     "data": {
      "text/plain": [
       "['AccessionNumber',\n",
       " 'ApprovalStatus',\n",
       " 'DeviceSerialNumber',\n",
       " 'InstanceCreationDate',\n",
       " 'InstanceCreationTime',\n",
       " 'InstanceNumber',\n",
       " 'Manufacturer',\n",
       " 'ManufacturerModelName',\n",
       " 'Modality',\n",
       " 'PatientBirthDate',\n",
       " 'PatientID',\n",
       " 'PatientName',\n",
       " 'PatientSex',\n",
       " 'ROIContourSequence',\n",
       " 'RTROIObservationsSequence',\n",
       " 'ReferencedFrameOfReferenceSequence',\n",
       " 'ReferringPhysicianName',\n",
       " 'SOPClassUID',\n",
       " 'SOPInstanceUID',\n",
       " 'SeriesDescription',\n",
       " 'SeriesInstanceUID',\n",
       " 'SeriesNumber',\n",
       " 'SoftwareVersions',\n",
       " 'SpecificCharacterSet',\n",
       " 'StationName',\n",
       " 'StructureSetDate',\n",
       " 'StructureSetDescription',\n",
       " 'StructureSetLabel',\n",
       " 'StructureSetROISequence',\n",
       " 'StructureSetTime',\n",
       " 'StudyDate',\n",
       " 'StudyID',\n",
       " 'StudyInstanceUID',\n",
       " 'StudyTime',\n",
       " 'add',\n",
       " 'add_new',\n",
       " 'clear',\n",
       " 'convert_pixel_data',\n",
       " 'copy',\n",
       " 'data_element',\n",
       " 'decode',\n",
       " 'decompress',\n",
       " 'dir',\n",
       " 'elements',\n",
       " 'ensure_file_meta',\n",
       " 'fix_meta_info',\n",
       " 'formatted_lines',\n",
       " 'from_json',\n",
       " 'fromkeys',\n",
       " 'get',\n",
       " 'get_item',\n",
       " 'get_private_item',\n",
       " 'group_dataset',\n",
       " 'is_original_encoding',\n",
       " 'items',\n",
       " 'iterall',\n",
       " 'keys',\n",
       " 'overlay_array',\n",
       " 'pixel_array',\n",
       " 'pop',\n",
       " 'popitem',\n",
       " 'private_block',\n",
       " 'private_creators',\n",
       " 'remove_private_tags',\n",
       " 'save_as',\n",
       " 'set_original_encoding',\n",
       " 'setdefault',\n",
       " 'to_json',\n",
       " 'to_json_dict',\n",
       " 'top',\n",
       " 'trait_names',\n",
       " 'update',\n",
       " 'values',\n",
       " 'walk',\n",
       " 'waveform_array']"
      ]
     },
     "execution_count": 9,
     "metadata": {},
     "output_type": "execute_result"
    }
   ],
   "source": [
    "list(filter(lambda x: not x.startswith(\"_\"), dir(rs) ))"
   ]
  },
  {
   "cell_type": "code",
   "execution_count": 10,
   "metadata": {},
   "outputs": [
    {
     "name": "stdout",
     "output_type": "stream",
     "text": [
      "{  1 } BODY\n",
      "{  2 } NT\n",
      "{  3 } zuchwa\n",
      "{  4 } slinianka P\n",
      "{  5 } slinianka L\n",
      "{  6 } rdzen kreg.+3mm\n",
      "{  7 } pien mozgu\n",
      "{  8 } pien mozgu+3mm\n",
      "{  9 } PTV54\n",
      "{ 10 } PTV60\n",
      "{ 11 } PTV66\n",
      "{ 12 } rdzen kreg.\n"
     ]
    }
   ],
   "source": [
    "for r in rs.StructureSetROISequence:\n",
    "    print(f'{{ {str(r.ROINumber):>2s} }} {r.ROIName}' )"
   ]
  },
  {
   "cell_type": "markdown",
   "metadata": {},
   "source": [
    "'ContourSequence',\n",
    " 'ROIDisplayColor',\n",
    " 'ReferencedROINumber',"
   ]
  },
  {
   "cell_type": "code",
   "execution_count": 11,
   "metadata": {},
   "outputs": [
    {
     "data": {
      "image/png": "[encoded data removed]",
      "text/plain": [
       "<Figure size 432x288 with 1 Axes>"
      ]
     },
     "metadata": {
      "needs_background": "light"
     },
     "output_type": "display_data"
    }
   ],
   "source": [
    "f,ax = plt.subplots(1,1)\n",
    "for i, rc in enumerate(rs.ROIContourSequence):\n",
    "    #print(rc.ReferencedROINumber)\n",
    "    #print(rc.ROIDisplayColor)\n",
    "    rect = patches.Rectangle((0.1+i*0.1, 0.1), 0.1, 0.5, linewidth=1, edgecolor='none', facecolor=np.array(rc.ROIDisplayColor)/255)\n",
    "    ax.add_patch(rect)\n",
    "    ax.set_xlim([0,2])\n",
    "    \n",
    "f.show()"
   ]
  },
  {
   "cell_type": "code",
   "execution_count": 12,
   "metadata": {},
   "outputs": [],
   "source": [
    "#dir(rs.ROIContourSequence[0].ContourSequence[0].ContourData)\n",
    "#rs.ROIContourSequence[0].ContourSequence[5].ContourData"
   ]
  },
  {
   "cell_type": "code",
   "execution_count": 135,
   "metadata": {},
   "outputs": [
    {
     "data": {
      "text/plain": [
       "['ReferencedSOPClassUID',\n",
       " 'ReferencedSOPInstanceUID',\n",
       " '__class_getitem__',\n",
       " '__contains__',\n",
       " '__delattr__',\n",
       " '__delitem__',\n",
       " '__dir__',\n",
       " '__enter__',\n",
       " '__eq__',\n",
       " '__exit__',\n",
       " '__format__',\n",
       " '__ge__',\n",
       " '__getattr__',\n",
       " '__getattribute__',\n",
       " '__getitem__',\n",
       " '__gt__',\n",
       " '__init__',\n",
       " '__init_subclass__',\n",
       " '__iter__',\n",
       " '__le__',\n",
       " '__len__',\n",
       " '__lt__',\n",
       " '__ne__',\n",
       " '__new__',\n",
       " '__reduce__',\n",
       " '__reduce_ex__',\n",
       " '__repr__',\n",
       " '__setattr__',\n",
       " '__setitem__',\n",
       " '__sizeof__',\n",
       " '__str__',\n",
       " '__subclasshook__',\n",
       " '__weakref__',\n",
       " '_character_set',\n",
       " '_convert_pixel_data_using_handler',\n",
       " '_convert_pixel_data_without_handler',\n",
       " '_dataset_slice',\n",
       " '_do_pixel_data_conversion',\n",
       " '_pretty_str',\n",
       " '_set_file_meta',\n",
       " '_slice_dataset',\n",
       " 'add',\n",
       " 'add_new',\n",
       " 'clear',\n",
       " 'convert_pixel_data',\n",
       " 'copy',\n",
       " 'data_element',\n",
       " 'decode',\n",
       " 'decompress',\n",
       " 'dir',\n",
       " 'elements',\n",
       " 'ensure_file_meta',\n",
       " 'fix_meta_info',\n",
       " 'formatted_lines',\n",
       " 'from_json',\n",
       " 'fromkeys',\n",
       " 'get',\n",
       " 'get_item',\n",
       " 'get_private_item',\n",
       " 'group_dataset',\n",
       " 'is_original_encoding',\n",
       " 'items',\n",
       " 'iterall',\n",
       " 'keys',\n",
       " 'overlay_array',\n",
       " 'pixel_array',\n",
       " 'pop',\n",
       " 'popitem',\n",
       " 'private_block',\n",
       " 'private_creators',\n",
       " 'remove_private_tags',\n",
       " 'save_as',\n",
       " 'set_original_encoding',\n",
       " 'setdefault',\n",
       " 'to_json',\n",
       " 'to_json_dict',\n",
       " 'top',\n",
       " 'trait_names',\n",
       " 'update',\n",
       " 'values',\n",
       " 'walk',\n",
       " 'waveform_array']"
      ]
     },
     "execution_count": 135,
     "metadata": {},
     "output_type": "execute_result"
    }
   ],
   "source": [
    "dir(rs.ROIContourSequence[0].ContourSequence[0].ContourImageSequence[0])"
   ]
  },
  {
   "cell_type": "code",
   "execution_count": 13,
   "metadata": {},
   "outputs": [
    {
     "data": {
      "text/plain": [
       "125"
      ]
     },
     "execution_count": 13,
     "metadata": {},
     "output_type": "execute_result"
    }
   ],
   "source": [
    "len(rs.ROIContourSequence[0].ContourSequence)"
   ]
  },
  {
   "cell_type": "code",
   "execution_count": 16,
   "metadata": {},
   "outputs": [],
   "source": [
    "#for cs in rs.ROIContourSequence[0].ContourSequence:\n",
    "#    display((cs.ContourData[2]))\n",
    "\n"
   ]
  },
  {
   "cell_type": "code",
   "execution_count": 5,
   "metadata": {},
   "outputs": [],
   "source": [
    "# rs.ROIContourSequence[0]"
   ]
  },
  {
   "cell_type": "code",
   "execution_count": 17,
   "metadata": {},
   "outputs": [
    {
     "data": {
      "application/vnd.jupyter.widget-view+json": {
       "model_id": "fab38f0464674862808a261cedb792a7",
       "version_major": 2,
       "version_minor": 0
      },
      "text/plain": [
       "interactive(children=(IntSlider(value=62, description='idx', max=125), Output()), _dom_classes=('widget-intera…"
      ]
     },
     "metadata": {},
     "output_type": "display_data"
    }
   ],
   "source": [
    "@interact(idx=(0,len(rs.ROIContourSequence[0].ContourSequence)))\n",
    "def f(idx):\n",
    "    f, ax = plt.subplots(1,1, dpi=150)\n",
    "    x = np.arange(-300,300,3)\n",
    "    y = np.arange(-300,0,3)\n",
    "    xx,yy = np.meshgrid(x,y)\n",
    "    xxx = xx.ravel()\n",
    "    yyy = yy.ravel()\n",
    "\n",
    "    for i in range(3):\n",
    "        cd = np.array(rs.ROIContourSequence[0].ContourSequence[idx].ContourData)\n",
    "        cd = cd.reshape(cd.shape[0] // 3, 3)\n",
    "        cd = cd[:,:2]\n",
    "        p = Path(vertices=cd, closed=True)\n",
    "        ps = np.vstack( (xxx,yyy) ).T\n",
    "        b = p.contains_points(ps)\n",
    "        ax.plot(cd[:,0], cd[:,1])\n",
    "        ax.scatter(xxx,yyy, b)\n",
    "    \n",
    "    "
   ]
  },
  {
   "cell_type": "code",
   "execution_count": 96,
   "metadata": {},
   "outputs": [
    {
     "name": "stdout",
     "output_type": "stream",
     "text": [
      "-28.433999999999997\n",
      "(598, 2)\n",
      "-14.982\n",
      "(4, 2)\n",
      "-14.385\n",
      "(4, 2)\n"
     ]
    },
    {
     "data": {
      "image/png": "[encoded data removed]",
      "text/plain": [
       "<Figure size 432x288 with 1 Axes>"
      ]
     },
     "metadata": {
      "needs_background": "light"
     },
     "output_type": "display_data"
    }
   ],
   "source": [
    "for i in range(3):\n",
    "    cs = rs.ROIContourSequence[0].ContourSequence[i]\n",
    "    cd = np.array(cs.ContourData)\n",
    "    cd = cd.reshape(cd.shape[0] // 3, 3) * 0.1\n",
    "    print(cd[0,1])\n",
    "    cd = cd[:,:2]\n",
    "    print(cd.shape)\n",
    "    plt.plot(cd[:,0], cd[:,1])"
   ]
  },
  {
   "cell_type": "code",
   "execution_count": null,
   "metadata": {},
   "outputs": [],
   "source": []
  },
  {
   "cell_type": "code",
   "execution_count": 57,
   "metadata": {},
   "outputs": [
    {
     "data": {
      "text/plain": [
       "(3006, 0016)  Contour Image Sequence  1 item(s) ---- \n",
       "   (0008, 1150) Referenced SOP Class UID            UI: CT Image Storage\n",
       "   (0008, 1155) Referenced SOP Instance UID         UI: 1.3.6.1.4.1.5962.99.1.852607806.1602090335.1504091194174.195.0\n",
       "   ---------\n",
       "(3006, 0042) Contour Geometric Type              CS: 'CLOSED_PLANAR'\n",
       "(3006, 0046) Number of Contour Points            IS: \"598\"\n",
       "(3006, 0050) Contour Data                        DS: Array of 1794 elements"
      ]
     },
     "metadata": {},
     "output_type": "display_data"
    }
   ],
   "source": [
    "for cs in rs.ROIContourSequence[0].ContourSequence:\n",
    "    display((cs))\n",
    "    break"
   ]
  },
  {
   "cell_type": "code",
   "execution_count": 144,
   "metadata": {},
   "outputs": [],
   "source": [
    "arr_ct = np.load(\"/tmp/arr.npy\")\n",
    "#arr = np.load(\"/tmp/Patient Outline_roi.npy\")\n",
    "arr = np.load(\"/tmp/Larynx_roi.npy\")"
   ]
  },
  {
   "cell_type": "code",
   "execution_count": 145,
   "metadata": {},
   "outputs": [
    {
     "name": "stdout",
     "output_type": "stream",
     "text": [
      "total 18842440\n",
      "drwxr-xr-x 1 root root      4096 Dec 20 09:08  ..\n",
      "-rw------- 1 root root         0 Dec 20 13:38  tmpw6ahvk3t.less\n",
      "-rw------- 1 root root         0 Dec 20 13:38  tmp25bdvdj9.less\n",
      "-rw------- 1 root root         0 Dec 20 13:38  tmp4ezkswls.less\n",
      "-rw------- 1 root root       828 Dec 20 13:38  tmpnqs6oe7m.less\n",
      "-rw------- 1 root root         0 Dec 20 13:38  tmpsrolinf3.less\n",
      "-rw------- 1 root root     93391 Dec 20 13:38  tmp5cxhrp26.less\n",
      "-rw------- 1 root root         0 Dec 20 13:39  tmpjibf2rjs.less\n",
      "-rw------- 1 root root     93391 Dec 20 13:39  tmpd_u7qjdk.less\n",
      "-rw------- 1 root root         0 Dec 20 15:44  tmpx4_z__l5.less\n",
      "-rw------- 1 root root       828 Dec 20 15:44  tmpgfs5y8nz.less\n",
      "-rw------- 1 root root         0 Dec 20 15:44  tmp06xgyewk.less\n",
      "-rw------- 1 root root     93393 Dec 20 15:44  tmp9ke76ntl.less\n",
      "-rw------- 1 root root         0 Dec 20 15:44  tmpe8d573fa.less\n",
      "-rw------- 1 root root         0 Dec 20 15:44  tmpbu7_93bs.less\n",
      "-rw------- 1 root root         0 Dec 20 15:44  tmppso7fu2d.less\n",
      "-rw------- 1 root root     93391 Dec 20 15:44  tmp4vi72pad.less\n",
      "-rw------- 1 root root         0 Dec 20 15:45  tmpoqt_guf7.less\n",
      "-rw------- 1 root root     93390 Dec 20 15:45  tmpgkknnnx2.less\n",
      "-rw------- 1 root root         0 Dec 20 15:45  tmpey3fc_k1.less\n",
      "-rw------- 1 root root     93389 Dec 20 15:45  tmp9km0ir42.less\n",
      "-rw-r--r-- 1 root root     88101 Dec 20 15:45  yacctab.py\n",
      "drwxrwxrwt 1 root root      4096 Dec 20 19:44  .\n",
      "-rw-r--r-- 1 root root 838860928 Dec 20 19:51  ptv60_roi.npy\n",
      "-rw-r--r-- 1 root root 838860928 Dec 20 19:51  Brainstem_roi.npy\n",
      "-rw-r--r-- 1 root root 838860928 Dec 20 19:51  gtv6600_roi.npy\n",
      "-rw-r--r-- 1 root root 838860928 Dec 20 19:51  ctv60_roi.npy\n",
      "-rw-r--r-- 1 root root 838860928 Dec 20 19:52  NT_roi.npy\n",
      "-rw-r--r-- 1 root root 838860928 Dec 20 19:52 'pterygoid P_roi.npy'\n",
      "-rw-r--r-- 1 root root 838860928 Dec 20 19:52 'pterygoid L_roi.npy'\n",
      "-rw-r--r-- 1 root root 838860928 Dec 20 19:52  Esophagus_roi.npy\n",
      "-rw-r--r-- 1 root root 838860928 Dec 20 19:52 'Oral Cavity_roi.npy'\n",
      "-rw-r--r-- 1 root root 838860928 Dec 20 19:53  Brainstem+3mm_roi.npy\n",
      "-rw-r--r-- 1 root root 838860928 Dec 20 19:54  Mandible_roi.npy\n",
      "-rw-r--r-- 1 root root 838860928 Dec 20 19:54 'Spinal Cord+3mm_roi.npy'\n",
      "-rw-r--r-- 1 root root 838860928 Dec 20 19:54 'Eye Globe R_roi.npy'\n",
      "-rw-r--r-- 1 root root 838860928 Dec 20 19:54 'Eye Globe L_roi.npy'\n",
      "-rw-r--r-- 1 root root 838860928 Dec 20 19:54  ptv54_roi.npy\n",
      "-rw-r--r-- 1 root root 838860928 Dec 20 19:54  ctv54_roi.npy\n",
      "-rw-r--r-- 1 root root 838860928 Dec 20 19:54 'Parotid Gland R_roi.npy'\n",
      "-rw-r--r-- 1 root root 838860928 Dec 20 19:55 'Parotid Gland L_roi.npy'\n",
      "-rw-r--r-- 1 root root 838860928 Dec 20 19:55 'Spinal Cord_roi.npy'\n",
      "-rw-r--r-- 1 root root 838860928 Dec 20 19:55  ptv66_roi.npy\n",
      "-rw-r--r-- 1 root root 838860928 Dec 20 20:37 'Patient Outline_roi.npy'\n",
      "-rw-r--r-- 1 root root 838860928 Dec 27 09:38  arr.npy\n",
      "-rw-r--r-- 1 root root 838860928 Dec 27 09:38  Larynx_roi.npy\n"
     ]
    }
   ],
   "source": [
    "!ls -ltra /tmp"
   ]
  },
  {
   "cell_type": "code",
   "execution_count": 156,
   "metadata": {},
   "outputs": [],
   "source": [
    "!rm /tmp/Larynx_roi.npy"
   ]
  },
  {
   "cell_type": "code",
   "execution_count": 19,
   "metadata": {},
   "outputs": [
    {
     "name": "stdout",
     "output_type": "stream",
     "text": [
      "-rw-r--r-- 1 root root  48536000 Dec 28 10:37 /tmp/Larynx.npy\n",
      "-rw-r--r-- 1 root root 838860928 Dec 28 11:15 /tmp/Larynx_roi.npy\n"
     ]
    }
   ],
   "source": [
    "!ls -l /tmp/Lar*\n",
    "# !date"
   ]
  },
  {
   "cell_type": "code",
   "execution_count": 14,
   "metadata": {},
   "outputs": [
    {
     "data": {
      "text/plain": [
       "26452"
      ]
     },
     "execution_count": 14,
     "metadata": {},
     "output_type": "execute_result"
    }
   ],
   "source": [
    "arr = np.load(\"/tmp/Larynx_roi.npy\")\n",
    "arr.sum()"
   ]
  },
  {
   "cell_type": "code",
   "execution_count": 159,
   "metadata": {},
   "outputs": [
    {
     "data": {
      "application/vnd.jupyter.widget-view+json": {
       "model_id": "841a30ba94174544b2ccafe48a5cfbd9",
       "version_major": 2,
       "version_minor": 0
      },
      "text/plain": [
       "interactive(children=(IntSlider(value=165, description='a', max=399, step=2), Output()), _dom_classes=('widget…"
      ]
     },
     "metadata": {},
     "output_type": "display_data"
    }
   ],
   "source": [
    "@interact(a=(0,arr.shape[0]-1,2))\n",
    "def f(a=165):\n",
    "    m = np.zeros(arr.shape)\n",
    "    m[:] = arr_ct[:]\n",
    "    m[ arr > 0] = m[ arr > 0] + 10000\n",
    "    plt.subplots(1,1,dpi=200)\n",
    "    plt.imshow(m[a,:,:])\n"
   ]
  },
  {
   "cell_type": "code",
   "execution_count": 91,
   "metadata": {},
   "outputs": [
    {
     "data": {
      "text/plain": [
       "60.25"
      ]
     },
     "execution_count": 91,
     "metadata": {},
     "output_type": "execute_result"
    }
   ],
   "source": [
    "10.25 + 0.125*400"
   ]
  },
  {
   "cell_type": "code",
   "execution_count": 92,
   "metadata": {},
   "outputs": [
    {
     "data": {
      "text/plain": [
       "30.0"
      ]
     },
     "execution_count": 92,
     "metadata": {},
     "output_type": "execute_result"
    }
   ],
   "source": [
    "-30 + 512 * 0.1171875"
   ]
  },
  {
   "cell_type": "code",
   "execution_count": 174,
   "metadata": {},
   "outputs": [
    {
     "name": "stdout",
     "output_type": "stream",
     "text": [
      "/doses-nfs/sim/pacjent_5/input/dicom/RD.1.2.246.352.71.7.59109062985.6240060.20170830160733.dcm\n",
      "/doses-nfs/sim/pacjent_5/input/dicom/RD.1.2.246.352.71.7.59109062985.6240231.20170830160733.dcm\n",
      "/doses-nfs/sim/pacjent_5/input/dicom/RD.1.2.246.352.71.7.59109062985.6240232.20170830160733.dcm\n",
      "/doses-nfs/sim/pacjent_5/input/dicom/RD.1.2.246.352.71.7.59109062985.6240233.20170830160733.dcm\n",
      "/doses-nfs/sim/pacjent_5/input/dicom/RD.1.2.246.352.71.7.59109062985.6240234.20170830160733.dcm\n",
      "/doses-nfs/sim/pacjent_5/input/dicom/RD.1.2.246.352.71.7.59109062985.6240235.20170830160733.dcm\n",
      "/doses-nfs/sim/pacjent_5/input/dicom/RD.1.2.246.352.71.7.59109062985.6240236.20170830160733.dcm\n",
      "/doses-nfs/sim/pacjent_5/input/dicom/RD.1.2.246.352.71.7.59109062985.6240237.20170830160733.dcm\n",
      "/doses-nfs/sim/pacjent_5/input/dicom/RD.1.2.246.352.71.7.59109062985.6240238.20170830160733.dcm\n",
      "/doses-nfs/sim/pacjent_5/input/dicom/RD.1.2.246.352.71.7.59109062985.6240309.20170830160733.dcm\n"
     ]
    }
   ],
   "source": [
    "!ls /doses-nfs/sim/pacjent_5/input/dicom/RD*"
   ]
  },
  {
   "cell_type": "code",
   "execution_count": 175,
   "metadata": {},
   "outputs": [],
   "source": [
    "doses = pydicom.read_file(\"/doses-nfs/sim/pacjent_5/input/dicom/RD.1.2.246.352.71.7.59109062985.6240060.20170830160733.dcm\")"
   ]
  },
  {
   "cell_type": "code",
   "execution_count": 196,
   "metadata": {},
   "outputs": [
    {
     "data": {
      "text/plain": [
       "[4.97000000000003, 4.97000000000003]"
      ]
     },
     "execution_count": 196,
     "metadata": {},
     "output_type": "execute_result"
    }
   ],
   "source": [
    "doses.GridFrameOffsetVector\n",
    "#doses.Rows\n",
    "doses.PixelSpacing\n",
    "#doses.PositionReferenceIndicator"
   ]
  },
  {
   "cell_type": "code",
   "execution_count": 176,
   "metadata": {},
   "outputs": [],
   "source": [
    "#plan.BeamSequence[0]"
   ]
  },
  {
   "cell_type": "code",
   "execution_count": 177,
   "metadata": {},
   "outputs": [
    {
     "data": {
      "text/plain": [
       "['AccessionNumber',\n",
       " 'BitsAllocated',\n",
       " 'BitsStored',\n",
       " 'Columns',\n",
       " 'DVHSequence',\n",
       " 'DeviceSerialNumber',\n",
       " 'DoseGridScaling',\n",
       " 'DoseSummationType',\n",
       " 'DoseType',\n",
       " 'DoseUnits',\n",
       " 'FrameIncrementPointer',\n",
       " 'FrameOfReferenceUID',\n",
       " 'GridFrameOffsetVector',\n",
       " 'HighBit',\n",
       " 'ImageOrientationPatient',\n",
       " 'ImagePositionPatient',\n",
       " 'InstanceCreationDate',\n",
       " 'InstanceCreationTime',\n",
       " 'InstanceNumber',\n",
       " 'Manufacturer',\n",
       " 'ManufacturerModelName',\n",
       " 'Modality',\n",
       " 'NumberOfFrames',\n",
       " 'PatientBirthDate',\n",
       " 'PatientID',\n",
       " 'PatientName',\n",
       " 'PatientSex',\n",
       " 'PhotometricInterpretation',\n",
       " 'PixelData',\n",
       " 'PixelRepresentation',\n",
       " 'PixelSpacing',\n",
       " 'PositionReferenceIndicator',\n",
       " 'ReferencedRTPlanSequence',\n",
       " 'ReferencedStructureSetSequence',\n",
       " 'ReferringPhysicianName',\n",
       " 'Rows',\n",
       " 'SOPClassUID',\n",
       " 'SOPInstanceUID',\n",
       " 'SamplesPerPixel',\n",
       " 'SeriesDescription',\n",
       " 'SeriesInstanceUID',\n",
       " 'SeriesNumber',\n",
       " 'SliceThickness',\n",
       " 'SoftwareVersions',\n",
       " 'SpecificCharacterSet',\n",
       " 'StationName',\n",
       " 'StudyDate',\n",
       " 'StudyID',\n",
       " 'StudyInstanceUID',\n",
       " 'StudyTime',\n",
       " 'TissueHeterogeneityCorrection',\n",
       " '__class_getitem__',\n",
       " '__contains__',\n",
       " '__delattr__',\n",
       " '__delitem__',\n",
       " '__dir__',\n",
       " '__enter__',\n",
       " '__eq__',\n",
       " '__exit__',\n",
       " '__format__',\n",
       " '__ge__',\n",
       " '__getattr__',\n",
       " '__getattribute__',\n",
       " '__getitem__',\n",
       " '__gt__',\n",
       " '__init__',\n",
       " '__init_subclass__',\n",
       " '__iter__',\n",
       " '__le__',\n",
       " '__len__',\n",
       " '__lt__',\n",
       " '__ne__',\n",
       " '__new__',\n",
       " '__reduce__',\n",
       " '__reduce_ex__',\n",
       " '__repr__',\n",
       " '__setattr__',\n",
       " '__setitem__',\n",
       " '__sizeof__',\n",
       " '__str__',\n",
       " '__subclasshook__',\n",
       " '__weakref__',\n",
       " '_character_set',\n",
       " '_convert_pixel_data_using_handler',\n",
       " '_convert_pixel_data_without_handler',\n",
       " '_dataset_slice',\n",
       " '_do_pixel_data_conversion',\n",
       " '_pretty_str',\n",
       " '_set_file_meta',\n",
       " '_slice_dataset',\n",
       " 'add',\n",
       " 'add_new',\n",
       " 'clear',\n",
       " 'convert_pixel_data',\n",
       " 'copy',\n",
       " 'data_element',\n",
       " 'decode',\n",
       " 'decompress',\n",
       " 'dir',\n",
       " 'elements',\n",
       " 'ensure_file_meta',\n",
       " 'fix_meta_info',\n",
       " 'formatted_lines',\n",
       " 'from_json',\n",
       " 'fromkeys',\n",
       " 'get',\n",
       " 'get_item',\n",
       " 'get_private_item',\n",
       " 'group_dataset',\n",
       " 'is_original_encoding',\n",
       " 'items',\n",
       " 'iterall',\n",
       " 'keys',\n",
       " 'overlay_array',\n",
       " 'pixel_array',\n",
       " 'pop',\n",
       " 'popitem',\n",
       " 'private_block',\n",
       " 'private_creators',\n",
       " 'remove_private_tags',\n",
       " 'save_as',\n",
       " 'set_original_encoding',\n",
       " 'setdefault',\n",
       " 'to_json',\n",
       " 'to_json_dict',\n",
       " 'top',\n",
       " 'trait_names',\n",
       " 'update',\n",
       " 'values',\n",
       " 'walk',\n",
       " 'waveform_array']"
      ]
     },
     "execution_count": 177,
     "metadata": {},
     "output_type": "execute_result"
    }
   ],
   "source": [
    "dir(doses)"
   ]
  },
  {
   "cell_type": "code",
   "execution_count": 206,
   "metadata": {},
   "outputs": [
    {
     "name": "stdout",
     "output_type": "stream",
     "text": [
      "total 18842440\n",
      "drwxr-xr-x 1 root root      4096 Dec 20 09:08  ..\n",
      "-rw------- 1 root root         0 Dec 20 13:38  tmpw6ahvk3t.less\n",
      "-rw------- 1 root root         0 Dec 20 13:38  tmp25bdvdj9.less\n",
      "-rw------- 1 root root         0 Dec 20 13:38  tmp4ezkswls.less\n",
      "-rw------- 1 root root       828 Dec 20 13:38  tmpnqs6oe7m.less\n",
      "-rw------- 1 root root         0 Dec 20 13:38  tmpsrolinf3.less\n",
      "-rw------- 1 root root     93391 Dec 20 13:38  tmp5cxhrp26.less\n",
      "-rw------- 1 root root         0 Dec 20 13:39  tmpjibf2rjs.less\n",
      "-rw------- 1 root root     93391 Dec 20 13:39  tmpd_u7qjdk.less\n",
      "-rw------- 1 root root         0 Dec 20 15:44  tmpx4_z__l5.less\n",
      "-rw------- 1 root root       828 Dec 20 15:44  tmpgfs5y8nz.less\n",
      "-rw------- 1 root root         0 Dec 20 15:44  tmp06xgyewk.less\n",
      "-rw------- 1 root root     93393 Dec 20 15:44  tmp9ke76ntl.less\n",
      "-rw------- 1 root root         0 Dec 20 15:44  tmpe8d573fa.less\n",
      "-rw------- 1 root root         0 Dec 20 15:44  tmpbu7_93bs.less\n",
      "-rw------- 1 root root         0 Dec 20 15:44  tmppso7fu2d.less\n",
      "-rw------- 1 root root     93391 Dec 20 15:44  tmp4vi72pad.less\n",
      "-rw------- 1 root root         0 Dec 20 15:45  tmpoqt_guf7.less\n",
      "-rw------- 1 root root     93390 Dec 20 15:45  tmpgkknnnx2.less\n",
      "-rw------- 1 root root         0 Dec 20 15:45  tmpey3fc_k1.less\n",
      "-rw------- 1 root root     93389 Dec 20 15:45  tmp9km0ir42.less\n",
      "-rw-r--r-- 1 root root     88101 Dec 20 15:45  yacctab.py\n",
      "-rw-r--r-- 1 root root 838860928 Dec 20 19:51  ptv60_roi.npy\n",
      "-rw-r--r-- 1 root root 838860928 Dec 20 19:51  Brainstem_roi.npy\n",
      "-rw-r--r-- 1 root root 838860928 Dec 20 19:51  gtv6600_roi.npy\n",
      "-rw-r--r-- 1 root root 838860928 Dec 20 19:51  ctv60_roi.npy\n",
      "-rw-r--r-- 1 root root 838860928 Dec 20 19:52  NT_roi.npy\n",
      "-rw-r--r-- 1 root root 838860928 Dec 20 19:52 'pterygoid P_roi.npy'\n",
      "-rw-r--r-- 1 root root 838860928 Dec 20 19:52 'pterygoid L_roi.npy'\n",
      "-rw-r--r-- 1 root root 838860928 Dec 20 19:52  Esophagus_roi.npy\n",
      "-rw-r--r-- 1 root root 838860928 Dec 20 19:52 'Oral Cavity_roi.npy'\n",
      "-rw-r--r-- 1 root root 838860928 Dec 20 19:53  Brainstem+3mm_roi.npy\n",
      "-rw-r--r-- 1 root root 838860928 Dec 20 19:54  Mandible_roi.npy\n",
      "-rw-r--r-- 1 root root 838860928 Dec 20 19:54 'Spinal Cord+3mm_roi.npy'\n",
      "-rw-r--r-- 1 root root 838860928 Dec 20 19:54 'Eye Globe R_roi.npy'\n",
      "-rw-r--r-- 1 root root 838860928 Dec 20 19:54 'Eye Globe L_roi.npy'\n",
      "-rw-r--r-- 1 root root 838860928 Dec 20 19:54  ptv54_roi.npy\n",
      "-rw-r--r-- 1 root root 838860928 Dec 20 19:54  ctv54_roi.npy\n",
      "-rw-r--r-- 1 root root 838860928 Dec 20 19:54 'Parotid Gland R_roi.npy'\n",
      "-rw-r--r-- 1 root root 838860928 Dec 20 19:55 'Parotid Gland L_roi.npy'\n",
      "-rw-r--r-- 1 root root 838860928 Dec 20 19:55 'Spinal Cord_roi.npy'\n",
      "-rw-r--r-- 1 root root 838860928 Dec 20 19:55  ptv66_roi.npy\n",
      "-rw-r--r-- 1 root root 838860928 Dec 20 20:37 'Patient Outline_roi.npy'\n",
      "-rw-r--r-- 1 root root 838860928 Dec 27 11:27  arr.npy\n",
      "-rw-r--r-- 1 root root 838860928 Dec 27 11:27  Larynx_roi.npy\n",
      "drwxrwxrwt 1 root root      4096 Dec 27 11:27  .\n"
     ]
    }
   ],
   "source": [
    "!ls -ltra /tmp"
   ]
  },
  {
   "cell_type": "code",
   "execution_count": 208,
   "metadata": {},
   "outputs": [],
   "source": [
    "d = np.load(\"/tmp/doses.npy\")"
   ]
  },
  {
   "cell_type": "code",
   "execution_count": 210,
   "metadata": {},
   "outputs": [
    {
     "data": {
      "text/plain": [
       "(array([120]), array([76]), array([85]))"
      ]
     },
     "execution_count": 210,
     "metadata": {},
     "output_type": "execute_result"
    }
   ],
   "source": [
    "np.where( d == 1)"
   ]
  },
  {
   "cell_type": "code",
   "execution_count": 217,
   "metadata": {},
   "outputs": [],
   "source": [
    "bb = np.load(\"/tmp/bb.npy\")"
   ]
  },
  {
   "cell_type": "code",
   "execution_count": 218,
   "metadata": {},
   "outputs": [
    {
     "data": {
      "application/vnd.jupyter.widget-view+json": {
       "model_id": "49d160114c2b4ab8894f8337709d155e",
       "version_major": 2,
       "version_minor": 0
      },
      "text/plain": [
       "interactive(children=(IntSlider(value=0, description='a', max=399, step=2), Output()), _dom_classes=('widget-i…"
      ]
     },
     "metadata": {},
     "output_type": "display_data"
    }
   ],
   "source": [
    "@interact(a=(0,arr.shape[0]-1,2))\n",
    "def f(a=0):\n",
    "    m = np.zeros(arr.shape)\n",
    "    m[:] = arr_ct[:]\n",
    "    m[ bb > 0] = m[ bb > 0] + 10000\n",
    "    plt.subplots(1,1,dpi=200)\n",
    "    plt.imshow(m[a,:,:])"
   ]
  },
  {
   "cell_type": "code",
   "execution_count": 233,
   "metadata": {},
   "outputs": [
    {
     "data": {
      "text/plain": [
       "(2, 4, 5)"
      ]
     },
     "execution_count": 233,
     "metadata": {},
     "output_type": "execute_result"
    }
   ],
   "source": [
    "a = np.arange(1,41).reshape((2, 4,5))\n",
    "a.shape"
   ]
  },
  {
   "cell_type": "code",
   "execution_count": 236,
   "metadata": {},
   "outputs": [
    {
     "data": {
      "text/plain": [
       "array([[[ 1,  2,  3,  4,  5],\n",
       "        [ 6,  7,  8,  9, 10],\n",
       "        [11, 12, 13, 14, 15],\n",
       "        [16, 17, 18, 19, 20]],\n",
       "\n",
       "       [[21, 22, 23, 24, 25],\n",
       "        [26, 27, 28, 29, 30],\n",
       "        [31, 32, 33, 34, 35],\n",
       "        [36, 37, 38, 39, 40]]])"
      ]
     },
     "execution_count": 236,
     "metadata": {},
     "output_type": "execute_result"
    }
   ],
   "source": [
    "a"
   ]
  },
  {
   "cell_type": "code",
   "execution_count": 235,
   "metadata": {},
   "outputs": [
    {
     "data": {
      "text/plain": [
       "array([14, 15])"
      ]
     },
     "execution_count": 235,
     "metadata": {},
     "output_type": "execute_result"
    }
   ],
   "source": [
    "a[0, (2,2), (3,4) ]"
   ]
  },
  {
   "cell_type": "code",
   "execution_count": 225,
   "metadata": {},
   "outputs": [
    {
     "name": "stdout",
     "output_type": "stream",
     "text": [
      "Help on function round_ in module numpy:\n",
      "\n",
      "round_(a, decimals=0, out=None)\n",
      "    Round an array to the given number of decimals.\n",
      "    \n",
      "    See Also\n",
      "    --------\n",
      "    around : equivalent function; see for details.\n",
      "\n"
     ]
    }
   ],
   "source": [
    "help(np.round)"
   ]
  },
  {
   "cell_type": "code",
   "execution_count": 237,
   "metadata": {},
   "outputs": [
    {
     "ename": "AttributeError",
     "evalue": "module 'numpy' has no attribute 'as_type'",
     "output_type": "error",
     "traceback": [
      "\u001b[0;31m---------------------------------------------------------------------------\u001b[0m",
      "\u001b[0;31mAttributeError\u001b[0m                            Traceback (most recent call last)",
      "\u001b[0;32m<ipython-input-237-1e9b5ee0c192>\u001b[0m in \u001b[0;36m<module>\u001b[0;34m\u001b[0m\n\u001b[0;32m----> 1\u001b[0;31m \u001b[0mnp\u001b[0m\u001b[0;34m.\u001b[0m\u001b[0mas_type\u001b[0m\u001b[0;34m(\u001b[0m\u001b[0mnp\u001b[0m\u001b[0;34m.\u001b[0m\u001b[0mround\u001b[0m\u001b[0;34m(\u001b[0m\u001b[0mnp\u001b[0m\u001b[0;34m.\u001b[0m\u001b[0marray\u001b[0m\u001b[0;34m(\u001b[0m\u001b[0;34m[\u001b[0m\u001b[0;36m1.4\u001b[0m\u001b[0;34m,\u001b[0m \u001b[0;36m1.51\u001b[0m\u001b[0;34m,\u001b[0m \u001b[0;36m1.4\u001b[0m\u001b[0;34m,\u001b[0m \u001b[0;36m2.1\u001b[0m\u001b[0;34m,\u001b[0m \u001b[0;34m-\u001b[0m\u001b[0;36m1.9\u001b[0m\u001b[0;34m]\u001b[0m\u001b[0;34m)\u001b[0m\u001b[0;34m)\u001b[0m\u001b[0;34m,\u001b[0m \u001b[0mnp\u001b[0m\u001b[0;34m.\u001b[0m\u001b[0mint\u001b[0m\u001b[0;34m)\u001b[0m\u001b[0;34m\u001b[0m\u001b[0;34m\u001b[0m\u001b[0m\n\u001b[0m",
      "\u001b[0;31mAttributeError\u001b[0m: module 'numpy' has no attribute 'as_type'"
     ]
    }
   ],
   "source": [
    "np.as_type(np.round(np.array([1.4, 1.51, 1.4, 2.1, -1.9])), np.int)"
   ]
  },
  {
   "cell_type": "code",
   "execution_count": 244,
   "metadata": {},
   "outputs": [
    {
     "data": {
      "text/plain": [
       "6395.0"
      ]
     },
     "execution_count": 244,
     "metadata": {},
     "output_type": "execute_result"
    }
   ],
   "source": [
    "np.max(ctplan)"
   ]
  },
  {
   "cell_type": "code",
   "execution_count": 247,
   "metadata": {},
   "outputs": [
    {
     "data": {
      "application/vnd.jupyter.widget-view+json": {
       "model_id": "86535e7fcb294f1ebc82ce95385b2b9c",
       "version_major": 2,
       "version_minor": 0
      },
      "text/plain": [
       "interactive(children=(IntSlider(value=0, description='a', max=195, step=2), Output()), _dom_classes=('widget-i…"
      ]
     },
     "metadata": {},
     "output_type": "display_data"
    }
   ],
   "source": [
    "ctplan = np.load(\"/tmp/planct.npy\")\n",
    "@interact(a=(0,ctplan.shape[0]-1,2))\n",
    "def f(a=0):\n",
    "    m = ctplan\n",
    "    plt.subplots(1,1,dpi=200)\n",
    "    plt.imshow(m[a,:,:])"
   ]
  },
  {
   "cell_type": "code",
   "execution_count": 9,
   "metadata": {},
   "outputs": [
    {
     "data": {
      "image/png": "[encoded data removed]",
      "text/plain": [
       "<Figure size 1200x800 with 1 Axes>"
      ]
     },
     "metadata": {
      "needs_background": "light"
     },
     "output_type": "display_data"
    }
   ],
   "source": [
    "ctplan = np.load(\"/tmp/planct.npy\")\n",
    "lar = np.load(\"/tmp/Larynx.npy\")\n",
    "print(lar)    \n",
    "@interact(a=(0,ctplan.shape[0]-1,1))\n",
    "def f(a=80):\n",
    "    m = np.zeros(ctplan.shape)\n",
    "    m[:] = ctplan[:]\n",
    "    m[ lar > 0] = m[ lar > 0] + 10000\n",
    "    plt.subplots(1,1,dpi=200)\n",
    "    plt.imshow(m[a,:,:])"
   ]
  },
  {
   "cell_type": "code",
   "execution_count": 13,
   "metadata": {},
   "outputs": [
    {
     "data": {
      "text/plain": [
       "1.0"
      ]
     },
     "execution_count": 13,
     "metadata": {},
     "output_type": "execute_result"
    }
   ],
   "source": [
    "np.max(lar)"
   ]
  },
  {
   "cell_type": "code",
   "execution_count": 24,
   "metadata": {},
   "outputs": [
    {
     "data": {
      "text/plain": [
       "3100639232"
      ]
     },
     "execution_count": 24,
     "metadata": {},
     "output_type": "execute_result"
    }
   ],
   "source": [
    "rplan = np.load(\"/tmp/rdata_plan.npy\")\n",
    "rplan.sum()"
   ]
  },
  {
   "cell_type": "code",
   "execution_count": 29,
   "metadata": {},
   "outputs": [],
   "source": [
    "my_lar = np.bitwise_and(rplan, 1048576) // 1048576"
   ]
  },
  {
   "cell_type": "code",
   "execution_count": null,
   "metadata": {},
   "outputs": [],
   "source": []
  },
  {
   "cell_type": "code",
   "execution_count": 17,
   "metadata": {},
   "outputs": [
    {
     "name": "stdout",
     "output_type": "stream",
     "text": [
      "/doses-nfs/sim/HN_1/input/dicom/RP.1.2.246.352.221.46695922234611115138479481501600012449.dcm\r\n"
     ]
    }
   ],
   "source": [
    "!ls /doses-nfs/sim/HN_1/input/dicom/RP* "
   ]
  },
  {
   "cell_type": "code",
   "execution_count": 20,
   "metadata": {},
   "outputs": [],
   "source": [
    "p = pydicom.read_file('/doses-nfs/sim/HN_1/input/dicom/RP.1.2.246.352.221.46695922234611115138479481501600012449.dcm')"
   ]
  },
  {
   "cell_type": "code",
   "execution_count": 87,
   "metadata": {},
   "outputs": [
    {
     "data": {
      "text/plain": [
       "['BeamLimitingDeviceSequence',\n",
       " 'BeamName',\n",
       " 'BeamNumber',\n",
       " 'BeamType',\n",
       " 'CompensatorSequence',\n",
       " 'ControlPointSequence',\n",
       " 'FinalCumulativeMetersetWeight',\n",
       " 'Manufacturer',\n",
       " 'ManufacturerModelName',\n",
       " 'NumberOfBlocks',\n",
       " 'NumberOfBoli',\n",
       " 'NumberOfCompensators',\n",
       " 'NumberOfControlPoints',\n",
       " 'NumberOfWedges',\n",
       " 'PrimaryDosimeterUnit',\n",
       " 'PrimaryFluenceModeSequence',\n",
       " 'RadiationType',\n",
       " 'ReferencedPatientSetupNumber',\n",
       " 'ReferencedToleranceTableNumber',\n",
       " 'SourceAxisDistance',\n",
       " 'TreatmentDeliveryType',\n",
       " 'TreatmentMachineName',\n",
       " '__array__',\n",
       " '__contains__',\n",
       " '__delattr__',\n",
       " '__delitem__',\n",
       " '__dir__',\n",
       " '__enter__',\n",
       " '__eq__',\n",
       " '__exit__',\n",
       " '__format__',\n",
       " '__ge__',\n",
       " '__getattr__',\n",
       " '__getattribute__',\n",
       " '__getitem__',\n",
       " '__getstate__',\n",
       " '__gt__',\n",
       " '__init__',\n",
       " '__init_subclass__',\n",
       " '__iter__',\n",
       " '__le__',\n",
       " '__len__',\n",
       " '__lt__',\n",
       " '__ne__',\n",
       " '__new__',\n",
       " '__reduce__',\n",
       " '__reduce_ex__',\n",
       " '__repr__',\n",
       " '__setattr__',\n",
       " '__setitem__',\n",
       " '__setstate__',\n",
       " '__sizeof__',\n",
       " '__str__',\n",
       " '__subclasshook__',\n",
       " '__weakref__',\n",
       " '_character_set',\n",
       " '_convert_pixel_data_using_handler',\n",
       " '_convert_pixel_data_without_handler',\n",
       " '_dataset_slice',\n",
       " '_do_pixel_data_conversion',\n",
       " '_pretty_str',\n",
       " '_set_file_meta',\n",
       " '_slice_dataset',\n",
       " 'add',\n",
       " 'add_new',\n",
       " 'clear',\n",
       " 'compress',\n",
       " 'convert_pixel_data',\n",
       " 'copy',\n",
       " 'data_element',\n",
       " 'decode',\n",
       " 'decompress',\n",
       " 'dir',\n",
       " 'elements',\n",
       " 'ensure_file_meta',\n",
       " 'fix_meta_info',\n",
       " 'formatted_lines',\n",
       " 'from_json',\n",
       " 'get',\n",
       " 'get_item',\n",
       " 'get_private_item',\n",
       " 'group_dataset',\n",
       " 'is_original_encoding',\n",
       " 'items',\n",
       " 'iterall',\n",
       " 'keys',\n",
       " 'overlay_array',\n",
       " 'pixel_array',\n",
       " 'pop',\n",
       " 'popitem',\n",
       " 'private_block',\n",
       " 'private_creators',\n",
       " 'remove_private_tags',\n",
       " 'save_as',\n",
       " 'set_original_encoding',\n",
       " 'setdefault',\n",
       " 'to_json',\n",
       " 'to_json_dict',\n",
       " 'top',\n",
       " 'trait_names',\n",
       " 'update',\n",
       " 'values',\n",
       " 'walk',\n",
       " 'waveform_array']"
      ]
     },
     "execution_count": 87,
     "metadata": {},
     "output_type": "execute_result"
    }
   ],
   "source": [
    "dir(p.BeamSequence[0])"
   ]
  },
  {
   "cell_type": "code",
   "execution_count": 82,
   "metadata": {},
   "outputs": [
    {
     "data": {
      "text/plain": [
       "<matplotlib.image.AxesImage at 0x7f504c871550>"
      ]
     },
     "execution_count": 82,
     "metadata": {},
     "output_type": "execute_result"
    },
    {
     "data": {
      "image/png": "[encoded data removed]",
      "text/plain": [
       "<Figure size 432x288 with 1 Axes>"
      ]
     },
     "metadata": {
      "needs_background": "light"
     },
     "output_type": "display_data"
    }
   ],
   "source": [
    "i = 1\n",
    "arr = np.array(p.BeamSequence[0].CompensatorSequence[i].CompensatorTransmissionData)\n",
    "arr = arr.reshape( (p.BeamSequence[0].CompensatorSequence[i].CompensatorRows, p.BeamSequence[0].CompensatorSequence[i].CompensatorColumns) )\n",
    "arr.shape\n",
    "plt.imshow(arr)"
   ]
  },
  {
   "cell_type": "code",
   "execution_count": null,
   "metadata": {},
   "outputs": [],
   "source": []
  },
  {
   "cell_type": "code",
   "execution_count": 99,
   "metadata": {},
   "outputs": [
    {
     "data": {
      "text/plain": [
       "7"
      ]
     },
     "execution_count": 99,
     "metadata": {},
     "output_type": "execute_result"
    }
   ],
   "source": [
    "len(p.BeamSequence)"
   ]
  },
  {
   "cell_type": "code",
   "execution_count": 38,
   "metadata": {},
   "outputs": [
    {
     "data": {
      "text/plain": [
       "'1.2.246.352.221.466449627754880691310184217157562845063'"
      ]
     },
     "execution_count": 38,
     "metadata": {},
     "output_type": "execute_result"
    }
   ],
   "source": [
    "p.SeriesInstanceUID"
   ]
  },
  {
   "cell_type": "code",
   "execution_count": null,
   "metadata": {},
   "outputs": [],
   "source": [
    "ds = pydicom.read_file('/doses-nfs/sim/HN_1/input/dicom/RD.1.2.246.352.221.562199244453909309714895928492798540178.dcm')\n"
   ]
  },
  {
   "cell_type": "code",
   "execution_count": 8,
   "metadata": {},
   "outputs": [],
   "source": [
    "ds = pydicom.read_file('/doses-nfs/sim/HN_1/input/dicom/RD.1.2.246.352.221.562199244453909309714895928492798540178.dcm')\n"
   ]
  },
  {
   "cell_type": "code",
   "execution_count": 97,
   "metadata": {},
   "outputs": [
    {
     "data": {
      "text/plain": [
       "(196, 134, 231)"
      ]
     },
     "execution_count": 97,
     "metadata": {},
     "output_type": "execute_result"
    }
   ],
   "source": [
    "arr = ds.pixel_array\n",
    "arr.shape\n",
    "#type(arr)"
   ]
  },
  {
   "cell_type": "code",
   "execution_count": 94,
   "metadata": {},
   "outputs": [
    {
     "data": {
      "text/plain": [
       "['AccessionNumber',\n",
       " 'BitsAllocated',\n",
       " 'BitsStored',\n",
       " 'Columns',\n",
       " 'DeidentificationMethod',\n",
       " 'DeidentificationMethodCodeSequence',\n",
       " 'DoseGridScaling',\n",
       " 'DoseSummationType',\n",
       " 'DoseType',\n",
       " 'DoseUnits',\n",
       " 'FrameIncrementPointer',\n",
       " 'FrameOfReferenceUID',\n",
       " 'GridFrameOffsetVector',\n",
       " 'HighBit',\n",
       " 'ImageOrientationPatient',\n",
       " 'ImagePositionPatient',\n",
       " 'InstanceCreationDate',\n",
       " 'InstanceCreationTime',\n",
       " 'LongitudinalTemporalInformationModified',\n",
       " 'Manufacturer',\n",
       " 'ManufacturerModelName',\n",
       " 'Modality',\n",
       " 'NumberOfFrames',\n",
       " 'OperatorsName',\n",
       " 'PatientBirthDate',\n",
       " 'PatientID',\n",
       " 'PatientIdentityRemoved',\n",
       " 'PatientName',\n",
       " 'PatientSex',\n",
       " 'PhotometricInterpretation',\n",
       " 'PixelData',\n",
       " 'PixelRepresentation',\n",
       " 'PixelSpacing',\n",
       " 'PositionReferenceIndicator',\n",
       " 'ReferencedRTPlanSequence',\n",
       " 'ReferringPhysicianName',\n",
       " 'Rows',\n",
       " 'SOPClassUID',\n",
       " 'SOPInstanceUID',\n",
       " 'SamplesPerPixel',\n",
       " 'SeriesInstanceUID',\n",
       " 'SeriesNumber',\n",
       " 'SliceThickness',\n",
       " 'SoftwareVersions',\n",
       " 'SpecificCharacterSet',\n",
       " 'StudyDate',\n",
       " 'StudyID',\n",
       " 'StudyInstanceUID',\n",
       " 'StudyTime',\n",
       " 'TissueHeterogeneityCorrection',\n",
       " '__array__',\n",
       " '__contains__',\n",
       " '__copy__',\n",
       " '__deepcopy__',\n",
       " '__delattr__',\n",
       " '__delitem__',\n",
       " '__dir__',\n",
       " '__enter__',\n",
       " '__eq__',\n",
       " '__exit__',\n",
       " '__format__',\n",
       " '__ge__',\n",
       " '__getattr__',\n",
       " '__getattribute__',\n",
       " '__getitem__',\n",
       " '__getstate__',\n",
       " '__gt__',\n",
       " '__init__',\n",
       " '__init_subclass__',\n",
       " '__iter__',\n",
       " '__le__',\n",
       " '__len__',\n",
       " '__lt__',\n",
       " '__ne__',\n",
       " '__new__',\n",
       " '__reduce__',\n",
       " '__reduce_ex__',\n",
       " '__repr__',\n",
       " '__setattr__',\n",
       " '__setitem__',\n",
       " '__setstate__',\n",
       " '__sizeof__',\n",
       " '__str__',\n",
       " '__subclasshook__',\n",
       " '__weakref__',\n",
       " '_character_set',\n",
       " '_convert_pixel_data_using_handler',\n",
       " '_convert_pixel_data_without_handler',\n",
       " '_copy_implementation',\n",
       " '_dataset_slice',\n",
       " '_do_pixel_data_conversion',\n",
       " '_pretty_str',\n",
       " '_set_file_meta',\n",
       " '_slice_dataset',\n",
       " 'add',\n",
       " 'add_new',\n",
       " 'clear',\n",
       " 'compress',\n",
       " 'convert_pixel_data',\n",
       " 'copy',\n",
       " 'data_element',\n",
       " 'decode',\n",
       " 'decompress',\n",
       " 'dir',\n",
       " 'elements',\n",
       " 'ensure_file_meta',\n",
       " 'fix_meta_info',\n",
       " 'formatted_lines',\n",
       " 'from_json',\n",
       " 'get',\n",
       " 'get_item',\n",
       " 'get_private_item',\n",
       " 'group_dataset',\n",
       " 'is_original_encoding',\n",
       " 'items',\n",
       " 'iterall',\n",
       " 'keys',\n",
       " 'overlay_array',\n",
       " 'pixel_array',\n",
       " 'pop',\n",
       " 'popitem',\n",
       " 'private_block',\n",
       " 'private_creators',\n",
       " 'remove_private_tags',\n",
       " 'save_as',\n",
       " 'set_original_encoding',\n",
       " 'setdefault',\n",
       " 'to_json',\n",
       " 'to_json_dict',\n",
       " 'top',\n",
       " 'trait_names',\n",
       " 'update',\n",
       " 'values',\n",
       " 'walk',\n",
       " 'waveform_array']"
      ]
     },
     "execution_count": 94,
     "metadata": {},
     "output_type": "execute_result"
    }
   ],
   "source": [
    "dir(ds)"
   ]
  },
  {
   "cell_type": "code",
   "execution_count": 25,
   "metadata": {},
   "outputs": [
    {
     "data": {
      "text/plain": [
       "'1.2.246.352.221.48654283386782957915149379297694495903'"
      ]
     },
     "execution_count": 25,
     "metadata": {},
     "output_type": "execute_result"
    }
   ],
   "source": [
    "ds.FrameOfReferenceUID"
   ]
  },
  {
   "cell_type": "code",
   "execution_count": 43,
   "metadata": {},
   "outputs": [
    {
     "data": {
      "text/plain": [
       "'6'"
      ]
     },
     "execution_count": 43,
     "metadata": {},
     "output_type": "execute_result"
    }
   ],
   "source": [
    "ds.ReferencedRTPlanSequence[0].ReferencedFractionGroupSequence[0].ReferencedBeamSequence[0].ReferencedBeamNumber"
   ]
  },
  {
   "cell_type": "code",
   "execution_count": 3,
   "metadata": {},
   "outputs": [
    {
     "data": {
      "application/vnd.jupyter.widget-view+json": {
       "model_id": "20e13be80e3244fd878e0ede82becfd1",
       "version_major": 2,
       "version_minor": 0
      },
      "text/plain": [
       "interactive(children=(IntSlider(value=83, description='a', max=195), Output()), _dom_classes=('widget-interact…"
      ]
     },
     "metadata": {},
     "output_type": "display_data"
    }
   ],
   "source": [
    "ctplan = np.load(\"/tmp/planct.npy\")\n",
    "rplan = np.load(\"/tmp/rdata_plan.npy\")\n",
    "my_lar = np.bitwise_and(rplan, 1048576) // 1048576\n",
    "\n",
    "@interact(a=(0,ctplan.shape[0]-1,1))\n",
    "def f(a=83):\n",
    "    m = np.zeros(ctplan.shape)\n",
    "    m[:] = ctplan[:]\n",
    "    m[ my_lar > 0] = m[ my_lar > 0] + 10000\n",
    "    plt.subplots(1,1,dpi=200)\n",
    "    plt.imshow(m[a,:,:])"
   ]
  },
  {
   "cell_type": "code",
   "execution_count": 98,
   "metadata": {},
   "outputs": [
    {
     "name": "stdout",
     "output_type": "stream",
     "text": [
      "(196, 134, 231)\n"
     ]
    },
    {
     "data": {
      "application/vnd.jupyter.widget-view+json": {
       "model_id": "fcf522b3552a429f9a5f25788f4b9462",
       "version_major": 2,
       "version_minor": 0
      },
      "text/plain": [
       "interactive(children=(IntSlider(value=80, description='a', max=195), Output()), _dom_classes=('widget-interact…"
      ]
     },
     "metadata": {},
     "output_type": "display_data"
    }
   ],
   "source": [
    "ctplan = np.load(\"/tmp/planct.npy\")\n",
    "d = np.load(\"/tmp/doses.npy\")\n",
    "print(d.shape)    \n",
    "@interact(a=(0,ctplan.shape[0]-1,1))\n",
    "def f(a=80):\n",
    "    m = d\n",
    "    plt.subplots(1,1,dpi=200)\n",
    "    plt.imshow(m[a,:,:])"
   ]
  }
 ],
 "metadata": {
  "kernelspec": {
   "display_name": "Python 3",
   "language": "python",
   "name": "python3"
  },
  "language_info": {
   "codemirror_mode": {
    "name": "ipython",
    "version": 3
   },
   "file_extension": ".py",
   "mimetype": "text/x-python",
   "name": "python",
   "nbconvert_exporter": "python",
   "pygments_lexer": "ipython3",
   "version": "3.7.3"
  }
 },
 "nbformat": 4,
 "nbformat_minor": 4
}
